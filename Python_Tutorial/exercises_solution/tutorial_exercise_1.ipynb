{
 "cells": [
  {
   "cell_type": "markdown",
   "metadata": {},
   "source": [
    "# Strings & Numbers\n",
    "Here are a few ideas what you could try to practice the skills:\n",
    "\n",
    "- Print something (e.g. a greeting)! \n",
    "- Try to join a few strings using the operator `+`.\n",
    "- Use the string methods `.join`, `.split`, and `.find`.\n",
    "- Perform a calculation which uses all mathematical operators.\n",
    "- Change the order of operations by using parentheses.\n",
    "- Create 3 variables: a string, an integer, and a float. Print a message containing the variables' values using an f-string!"
   ]
  },
  {
   "cell_type": "code",
   "execution_count": 7,
   "metadata": {},
   "outputs": [
    {
     "name": "stdout",
     "output_type": "stream",
     "text": [
      "Hi my name is Moritz\n",
      "Moritz Erlacher\n",
      "['Moritz', 'Erlacher']\n",
      "Moritz_Erlacher\n",
      "6\n",
      "Addition: 9\n",
      "Subtraction: 1\n",
      "Multiplication: 20\n",
      "Division: 1.25\n",
      "Floored Division: 1\n",
      "Exponential: 625\n",
      "Modulo: 1\n",
      "Hi my name is Moritz, im 25 years old and my height is 1.85m\n"
     ]
    }
   ],
   "source": [
    "# your code goes here:\n",
    "# Print something\n",
    "print(\"Hi my name is Moritz\")\n",
    "\n",
    "# Try to join a few strings using the operator `+`.\n",
    "first_name = \"Moritz\"\n",
    "last_name = \"Erlacher\"\n",
    "print(first_name + \" \" + last_name)\n",
    "\n",
    "# Use the string methods `.join`, `.split`, and `.find`.\n",
    "name = \"Moritz Erlacher\"\n",
    "name_splitted = name.split(\" \") # Split the string name by each whitespace\n",
    "print(name_splitted)\n",
    "\n",
    "name_joined = \"_\".join(name_splitted) # Join name splitted with a underscore (\"_\")\n",
    "print(name_joined)\n",
    "\n",
    "print(name_joined.find(\"_\")) # Get the index of the underscore (\"_\") in joined name\n",
    "\n",
    "# Perform a calculation which uses all mathematical operators.\n",
    "first_number = 5\n",
    "second_number = 4\n",
    "\n",
    "print(\"Addition:\", first_number + second_number)\n",
    "print(\"Subtraction:\", first_number - second_number)\n",
    "print(\"Multiplication:\", first_number * second_number)\n",
    "print(\"Division:\", first_number / second_number)\n",
    "print(\"Floored Division:\", first_number // second_number)\n",
    "print(\"Exponential:\", first_number ** second_number)\n",
    "print(\"Modulo:\", first_number % second_number)\n",
    "\n",
    "# Create 3 variables: a string, an integer, and a float. Print a message containing the variables' values using an f-string!\n",
    "name = \"Moritz\"\n",
    "number = 25\n",
    "height = 1.85\n",
    "print(f\"Hi my name is {name}, im {number} years old and my height is {height}m\")"
   ]
  },
  {
   "cell_type": "markdown",
   "metadata": {},
   "source": [
    "# Data Structures & for-Loops"
   ]
  },
  {
   "cell_type": "markdown",
   "metadata": {},
   "source": [
    "## Lists\n",
    "Based on the two lists of programming languages below, create a new list containing only the yet unknown languages."
   ]
  },
  {
   "cell_type": "code",
   "execution_count": 2,
   "metadata": {},
   "outputs": [
    {
     "name": "stdout",
     "output_type": "stream",
     "text": [
      "['Java', 'C#', 'Fortran', 'C++', 'JavaScript', 'Perl', 'Lisp']\n",
      "['Java', 'C#', 'Fortran', 'C++', 'JavaScript', 'Perl', 'Lisp']\n"
     ]
    }
   ],
   "source": [
    "programming_languages = [\n",
    "    \"Python\", \n",
    "    \"C\", \n",
    "    \"Julia\", \n",
    "    \"Java\", \n",
    "    \"C#\", \n",
    "    \"Fortran\", \n",
    "    \"C++\", \n",
    "    \"JavaScript\",\n",
    "    \"Perl\",\n",
    "    \"Lisp\",\n",
    "]\n",
    "\n",
    "languages_i_know = [\"Python\", \"Julia\", \"C\"]\n",
    "\n",
    "# your code goes here:\n",
    "languages_i_dont_know = []\n",
    "for language in programming_languages:\n",
    "    if language not in languages_i_know:\n",
    "        languages_i_dont_know.append(language)\n",
    "\n",
    "print(languages_i_dont_know)\n",
    "\n",
    "# Alternative with listcomprehension:\n",
    "print([language for language in programming_languages if language not in languages_i_know])"
   ]
  },
  {
   "cell_type": "markdown",
   "metadata": {},
   "source": [
    "### Sets\n",
    "Solve the above example with sets instead of append!"
   ]
  },
  {
   "cell_type": "code",
   "execution_count": 3,
   "metadata": {},
   "outputs": [
    {
     "name": "stdout",
     "output_type": "stream",
     "text": [
      "{'C++', 'Java', 'Perl', 'JavaScript', 'Fortran', 'Lisp', 'C#'}\n"
     ]
    }
   ],
   "source": [
    "# your code goes here:\n",
    "programming_languages = {\n",
    "    \"Python\", \n",
    "    \"C\", \n",
    "    \"Julia\", \n",
    "    \"Java\", \n",
    "    \"C#\", \n",
    "    \"Fortran\", \n",
    "    \"C++\", \n",
    "    \"JavaScript\",\n",
    "    \"Perl\",\n",
    "    \"Lisp\",\n",
    "} # notice these are sets now!\n",
    "\n",
    "languages_i_know = {\"Python\", \"Julia\", \"C\"} # notice these are sets now!\n",
    "\n",
    "print(programming_languages - languages_i_know)"
   ]
  },
  {
   "cell_type": "markdown",
   "metadata": {
    "id": "Y2SZiOJLknDc"
   },
   "source": [
    "# Branching"
   ]
  },
  {
   "cell_type": "markdown",
   "metadata": {},
   "source": [
    "## BMI calculation\n",
    "\n",
    "Calculate the BMI using the following formula: \n",
    "\n",
    "$BMI = \\frac{weight}{height^2}$\n",
    "\n",
    "where _weight_ is given in kilograms (kg) and _height_ is given in meters (m).\n",
    "\n",
    "Create the variables `weight` and `height` and assign values of your choice.\n",
    "\n",
    "Print the BMI rounded to 2 decimal places and also its classification as below:\n",
    "\n",
    "* BMI < 18.5: underweight\n",
    "* 18.5 <= BMI < 25: normal weight\n",
    "* 25 <= BMI < 30: overweight\n",
    "* 30 <= BMI < 40: obesity\n",
    "* BMI >= 40: morbid obesity\n",
    "\n",
    "hint: use if/elif/else statements\n",
    "\n",
    "**Example:**\n",
    "\n",
    "```\n",
    "weight = 69\n",
    "height = 1.75\n",
    "```\n",
    "\n",
    "The result could look like this:\n",
    "```\n",
    "BMI: 22.53\n",
    "Classification: normal weight\n",
    "```"
   ]
  },
  {
   "cell_type": "code",
   "execution_count": 6,
   "metadata": {},
   "outputs": [
    {
     "name": "stdout",
     "output_type": "stream",
     "text": [
      "BMI: 22.53\n",
      "Classification: normal weight\n"
     ]
    }
   ],
   "source": [
    "# your code goes here:\n",
    "\n",
    "weight = 69\n",
    "height = 1.75\n",
    "\n",
    "bmi = weight / height ** 2\n",
    "\n",
    "print(f\"BMI: {bmi:.2f}\") # round to 2 float decimal places\n",
    "\n",
    "if bmi < 18.5:\n",
    "    print(\"Classification: underweight\")\n",
    "elif 18.5 <= bmi < 25:\n",
    "    print(\"Classification: normal weight\")\n",
    "elif 25 <= bmi < 30:\n",
    "    print(\"Classification: overweight\")\n",
    "elif 30 <= bmi < 40:\n",
    "    print(\"Classification: obesity\")\n",
    "else:\n",
    "    print(\"Classification: morbid obesity\")\n",
    "\n"
   ]
  },
  {
   "cell_type": "markdown",
   "metadata": {},
   "source": [
    "<summary>\n",
    "<detaisl>"
   ]
  }
 ],
 "metadata": {
  "kernelspec": {
   "display_name": "Python 3.9.7 64-bit",
   "language": "python",
   "name": "python3"
  },
  "language_info": {
   "codemirror_mode": {
    "name": "ipython",
    "version": 3
   },
   "file_extension": ".py",
   "mimetype": "text/x-python",
   "name": "python",
   "nbconvert_exporter": "python",
   "pygments_lexer": "ipython3",
   "version": "3.9.7"
  },
  "orig_nbformat": 4,
  "vscode": {
   "interpreter": {
    "hash": "e65133fff93ab36b53ddb68612dd6a95a21053ff6cb8524adc7f46061287cbaa"
   }
  }
 },
 "nbformat": 4,
 "nbformat_minor": 2
}
