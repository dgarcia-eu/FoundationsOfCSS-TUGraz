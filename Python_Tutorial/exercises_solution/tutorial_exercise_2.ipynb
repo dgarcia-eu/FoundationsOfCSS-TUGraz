{
 "cells": [
  {
   "cell_type": "markdown",
   "metadata": {},
   "source": [
    "## Data structure conversion\n",
    "Create a dictionary which maps product names to prices, using the `price_table` given below."
   ]
  },
  {
   "cell_type": "code",
   "execution_count": 1,
   "metadata": {},
   "outputs": [
    {
     "name": "stdout",
     "output_type": "stream",
     "text": [
      "{'honey': 2.45, 'butter': 1.3, 'catfood': 4.85, 'tea': 1.5}\n",
      "{'honey': 2.45, 'butter': 1.3, 'catfood': 4.85, 'tea': 1.5}\n",
      "{'honey': 2.45, 'butter': 1.3, 'catfood': 4.85, 'tea': 1.5}\n"
     ]
    }
   ],
   "source": [
    "price_table = [(\"honey\", 2.45), (\"butter\", 1.30), (\"catfood\", 4.85), (\"tea\", 1.50)]\n",
    "\n",
    "# your code goes here:\n",
    "\n",
    "ingredients_list = {}\n",
    "for ingredients_and_prices in price_table:\n",
    "    ingredients_list[ingredients_and_prices[0]] = ingredients_and_prices[1]\n",
    "\n",
    "print(ingredients_list)\n",
    "\n",
    "\n",
    "# Alternative 1 with iterator unpacking in the for loop:\n",
    "ingredients_list = {}\n",
    "for ingredient, price in price_table:\n",
    "    ingredients_list[ingredient] = price\n",
    "\n",
    "print(ingredients_list)\n",
    "\n",
    "# Alternative 2 with dict casting (probably \"best\" solution here):\n",
    "ingredients_list = dict(price_table)\n",
    "\n",
    "print(ingredients_list)"
   ]
  },
  {
   "cell_type": "markdown",
   "metadata": {},
   "source": [
    "## Nested data structures\n",
    "The data below is given as a list of nested tuples, where each outer tuple is structured as follows:\n",
    "\n",
    "`(<name>, (<price>, <amount>))`\n",
    "\n",
    "Transform the data into a more explicit form, a dictionary where each key is a product name and each value is again a dictionary containing entries for `\"price\"` and `\"amount\"`. The result should look like this:\n",
    "```python\n",
    "{'honey': {'price': 2.45, 'amount': 10}, 'butter': {'price': 1.3, 'amount': 100}, 'catfood': {'price': 4.85, 'amount': 3}, 'tea': {'price': 1.5, 'amount': 123}}\n",
    "```"
   ]
  },
  {
   "cell_type": "code",
   "execution_count": 2,
   "metadata": {},
   "outputs": [
    {
     "name": "stdout",
     "output_type": "stream",
     "text": [
      "{'honey': {'price': 2.45, 'amount': 10}, 'butter': {'price': 1.3, 'amount': 100}, 'catfood': {'price': 4.85, 'amount': 3}, 'tea': {'price': 1.5, 'amount': 123}}\n",
      "{'honey': {'price': 2.45, 'amount': 10}, 'butter': {'price': 1.3, 'amount': 100}, 'catfood': {'price': 4.85, 'amount': 3}, 'tea': {'price': 1.5, 'amount': 123}}\n",
      "{'honey': {'price': 2.45, 'amount': 10}, 'butter': {'price': 1.3, 'amount': 100}, 'catfood': {'price': 4.85, 'amount': 3}, 'tea': {'price': 1.5, 'amount': 123}}\n"
     ]
    }
   ],
   "source": [
    "input_data = [\n",
    "    (\"honey\", (2.45, 10)), \n",
    "    (\"butter\", (1.30, 100)), \n",
    "    (\"catfood\", (4.85, 3)), \n",
    "    (\"tea\", (1.50, 123)),\n",
    "]\n",
    "\n",
    "# your code goes here:\n",
    "recipe = {}\n",
    "for ingredient_info in input_data:\n",
    "    recipe[ingredient_info[0]] = {\"price\": ingredient_info[1][0], \"amount\": ingredient_info[1][1]}\n",
    "\n",
    "print(recipe)\n",
    "\n",
    "# Alternative 1 with iterator unpacking in the for loop (probably \"best\" solution here):\n",
    "recipe = {}\n",
    "for ingredient, (price, amount) in input_data:\n",
    "    recipe[ingredient] = {\"price\": price, \"amount\": amount}\n",
    "\n",
    "print(recipe)\n",
    "\n",
    "# Alternative 2 with dict comprehension\n",
    "recipe = dict((ingredient, {\"price\": price, \"amount\": amount}) for ingredient, (price, amount) in input_data)\n",
    "\n",
    "print(recipe)"
   ]
  },
  {
   "cell_type": "markdown",
   "metadata": {},
   "source": [
    "Finally, reduce the amount of butter by `20` and print the entire dictionary:"
   ]
  },
  {
   "cell_type": "code",
   "execution_count": 3,
   "metadata": {},
   "outputs": [
    {
     "name": "stdout",
     "output_type": "stream",
     "text": [
      "{'honey': {'price': 2.45, 'amount': 10}, 'butter': {'price': 1.3, 'amount': 100}, 'catfood': {'price': 4.85, 'amount': 3}, 'tea': {'price': 1.5, 'amount': 123}}\n",
      "{'honey': {'price': 2.45, 'amount': 10}, 'butter': {'price': 1.3, 'amount': 80}, 'catfood': {'price': 4.85, 'amount': 3}, 'tea': {'price': 1.5, 'amount': 123}}\n"
     ]
    }
   ],
   "source": [
    "# your code goes here:\n",
    "print(recipe)\n",
    "recipe[\"butter\"][\"amount\"] -= 20\n",
    "print(recipe)"
   ]
  },
  {
   "cell_type": "markdown",
   "metadata": {},
   "source": [
    "## Find minimum\n",
    "\n",
    "Find the smallest number in the list below using a `for`-loop and an `if`-condition!"
   ]
  },
  {
   "cell_type": "code",
   "execution_count": 4,
   "metadata": {},
   "outputs": [
    {
     "name": "stdout",
     "output_type": "stream",
     "text": [
      "4\n"
     ]
    }
   ],
   "source": [
    "numbers = [27, 83, 20, 77, 1923, 4, 7, 19]\n",
    "\n",
    "# your code goes here:\n",
    "current_min = numbers[0] \n",
    "for number in numbers:\n",
    "    if number < current_min:\n",
    "        current_min = number\n",
    "print(current_min)"
   ]
  },
  {
   "cell_type": "markdown",
   "metadata": {},
   "source": [
    "# Functions\n",
    "\n",
    "## Basic Function\n",
    "Write a function `my_contact_information` which takes **no** arguments and prints your contact information as follows:\n",
    "\n",
    "```\n",
    "First Name: <Your first name>\n",
    "Last Name: <Your last name>\n",
    "Email: <Your email>\n",
    "```"
   ]
  },
  {
   "cell_type": "code",
   "execution_count": 5,
   "metadata": {},
   "outputs": [
    {
     "name": "stdout",
     "output_type": "stream",
     "text": [
      "First Name: Moritz\n",
      "Last Name: Erlacher\n",
      "Email: moritz.erlacher@student.tugraz.at\n"
     ]
    }
   ],
   "source": [
    "# your code goes here:\n",
    "\n",
    "def my_contact_information():\n",
    "    print(\"First Name: Moritz\")\n",
    "    print(\"Last Name: Erlacher\")\n",
    "    print(\"Email: moritz.erlacher@student.tugraz.at\")\n",
    "\n",
    "my_contact_information()"
   ]
  },
  {
   "cell_type": "markdown",
   "metadata": {},
   "source": [
    "\n",
    "## Functions and return\n",
    "Calculate the sum of a list. Write a function which takes a list or a tuple as input. Calculate the sum of the elements in the list/tuple and return the resulting sum.  \n",
    "*Do not use `sum()`*\n",
    "\n",
    "**Example:**  \n",
    "```\n",
    "[1,2,3] -> 6\n",
    "(6, 90, 10, 15, 114, 25, 18, 91, 51) -> 420\n",
    "[63, 100, 48, 79, 4, 85, 26, 84, 16, 73, 58, 78, 87, 198, 321, 17] -> 1337\n",
    "```"
   ]
  },
  {
   "cell_type": "code",
   "execution_count": 6,
   "metadata": {},
   "outputs": [
    {
     "name": "stdout",
     "output_type": "stream",
     "text": [
      "15\n"
     ]
    }
   ],
   "source": [
    "# Your code goes here.\n",
    "def sum_of_numbers(numbers):\n",
    "    result = 0\n",
    "    for number in numbers:\n",
    "        result = result + number\n",
    "    return result\n",
    "\n",
    "result_of_sum = sum_of_numbers([1,2,3,4,5])\n",
    "print(result_of_sum)\n"
   ]
  },
  {
   "cell_type": "markdown",
   "metadata": {},
   "source": [
    "## Functions with keyword arguments\n",
    "Write a function which takes a list or a tuple of numbers and a keyword argumnet `power` which default value is 2. For each number you should calculate the number to the power (given by the keyword argument). Return the new list.\n",
    "\n",
    "**Example: with power=2**  \n",
    "```\n",
    "[1,2,3] -> [1, 4, 9]\n",
    "(6, 90, 10, 15, 114, 25, 18, 91, 51) -> [36, 8100, 100, 225, 12996, 625, 324, 8281, 2601]\n",
    "```\n",
    "**Example: with power=3**  \n",
    "```\n",
    "[63, 100, 48, 79] -> [250047, 1000000, 110592, 493039]\n",
    "```"
   ]
  },
  {
   "cell_type": "code",
   "execution_count": 7,
   "metadata": {},
   "outputs": [
    {
     "name": "stdout",
     "output_type": "stream",
     "text": [
      "[3969, 10000, 2304, 6241]\n",
      "[250047, 1000000, 110592, 493039]\n",
      "[3969, 10000, 2304, 6241]\n",
      "[250047, 1000000, 110592, 493039]\n"
     ]
    }
   ],
   "source": [
    "# Your code goes here.\n",
    "def power_of_numbers(numbers, power = 2):\n",
    "    numbers_to_power = []\n",
    "    for number in numbers:\n",
    "        numbers_to_power.append(number**power)\n",
    "    return numbers_to_power\n",
    "\n",
    "print(power_of_numbers([63, 100, 48, 79]))\n",
    "print(power_of_numbers([63, 100, 48, 79], power = 3))\n",
    "\n",
    "# Alternative with listcomprehension\n",
    "def power_of_numbers(numbers, power = 2):\n",
    "    return [number**power for number in numbers]\n",
    "\n",
    "print(power_of_numbers([63, 100, 48, 79]))\n",
    "print(power_of_numbers([63, 100, 48, 79], power = 3))\n",
    "    "
   ]
  },
  {
   "cell_type": "markdown",
   "metadata": {
    "id": "Y2SZiOJLknDc"
   },
   "source": [
    "# File I/O\n",
    "\n",
    "## Cookbook\n",
    "You want to use a cookbook to calculate amounts for any desired number of servings. For this your have following information:\n",
    "* filename of the recipe (`string`), e.g. `\"bananabread.recipe\"`\n",
    "* name of the desired recipe (`string`), e.g. `\"Bananabread\"`\n",
    "* `servings` -> number of servings (`int`), e.g. 3 <br>  \n",
    "\n",
    "The `.recipe`-file contains the desired recipe. From there, read the instructions and ingredients, calculate the needed amounts given by the servings and save them in a new file.  \n",
    "Such a `.recipe` file could look like this:\n",
    "```\n",
    "Mix everything together and bake for 45min at 180°C.\n",
    "Wheat,180,g\n",
    "Sugar,100,g\n",
    "Cocoa,60,g\n",
    "Salt,1,pinch\n",
    "Baking Powder,1,tsp\n",
    "Chopped Chocolate,170,g\n",
    "Bananas,3,psc\n",
    "```\n",
    "The first line denotes always the instructoins and all following lines contains the ingredients. All ingreadients have the following structure:  \n",
    "`<Name of Ingredient>,<amount>,<unit>`.\n",
    "\n",
    "Now read all Ingredients and multiply the amount by the number of servings. Sace the final new recipe in a new `.txt` file with the same filename as the `.recipe` file (but with `.txt` as suffix).  \n",
    "The file should look like the following:\n",
    "```\n",
    "How to make 3 serving(s) of Bananabread:\n",
    "Wheat: 540g\n",
    "Sugar: 300g\n",
    "Cocoa: 180g\n",
    "Salt: 3pinch\n",
    "Baking Powder: 3tsp\n",
    "Chopped Chocolate: 510g\n",
    "Bananas: 9pcs\n",
    "Oil: 180ml\n",
    "Mix everything together and bake for 45min at 180°C.\n",
    "```"
   ]
  },
  {
   "cell_type": "code",
   "execution_count": 8,
   "metadata": {},
   "outputs": [],
   "source": [
    "# Your code goes here:\n",
    "def multiply_ingredients_of_recipe(filename, recipe_name, servings):\n",
    "    with open(filename, \"r\") as recipe_file, open(filename.replace(\".recipe\", \".txt\"), \"w\") as adjusted_recipe_file: # open both files in same with statement. For the writing file replace .recipe with .txt\n",
    "        content_of_recipe_file = recipe_file.readlines()\n",
    "        recipe = content_of_recipe_file[0] # First line of the reading file is the recipe\n",
    "        adjusted_recipe_file.write(f\"How to make {servings} serving(s) of {recipe_name}\\n\") # Write the first line for the file\n",
    "        for line in content_of_recipe_file[1:]: # start at index 1\n",
    "            ingredient, amount, unit = line.strip().split(\",\") # Strip the line for \\n removal and split at \",\". Unpack it in the three parts ingredient, amount, unit\n",
    "            adjusted_recipe_file.write(f\"{ingredient}: {int(amount)*servings}{unit}\\n\") # Create the necessary line and write it to the file, don't forget the \\n\n",
    "        adjusted_recipe_file.write(recipe.strip()) # .strip() since we don't want a newline at the end\n",
    "\n",
    "multiply_ingredients_of_recipe(\"bananabread.recipe\", \"Bananabread\", 3)"
   ]
  }
 ],
 "metadata": {
  "kernelspec": {
   "display_name": "Python 3.9.7 64-bit",
   "language": "python",
   "name": "python3"
  },
  "language_info": {
   "codemirror_mode": {
    "name": "ipython",
    "version": 3
   },
   "file_extension": ".py",
   "mimetype": "text/x-python",
   "name": "python",
   "nbconvert_exporter": "python",
   "pygments_lexer": "ipython3",
   "version": "3.9.7"
  },
  "orig_nbformat": 4,
  "vscode": {
   "interpreter": {
    "hash": "e65133fff93ab36b53ddb68612dd6a95a21053ff6cb8524adc7f46061287cbaa"
   }
  }
 },
 "nbformat": 4,
 "nbformat_minor": 2
}
