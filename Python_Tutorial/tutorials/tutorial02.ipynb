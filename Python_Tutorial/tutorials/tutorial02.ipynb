{
 "cells": [
  {
   "cell_type": "markdown",
   "metadata": {},
   "source": [
    "# Python Tutorial 2 - Loops, Functions and File I/O\n",
    "\n",
    "Please fill out the feedbackr when you done with this tutorial this will help us what to focus on in class. [Here](https://fbr.io/FCSS_TUT_2) is the link to it.\n",
    "\n",
    "You can also scan this QR code for the feedbackr.  \n",
    "\n",
    "![](https://i.imgur.com/nIjZmsi.png)  \n",
    "\n",
    "If you have questions on this tutorial or corresponding exercise ask them in the feedbackr."
   ]
  },
  {
   "cell_type": "markdown",
   "id": "separate-throw",
   "metadata": {},
   "source": [
    "## `for`-Loops\n",
    "\n",
    "[Video tutorial (6 min)](https://www.youtube.com/watch?v=6iF8Xb7Z3wQ)\n",
    "\n",
    "`for`-loops iterate over sequences (like lists, tuples, or sets). Often in programming, we want to perform the same action using different input data. Instead of writing this down X times we define a loop which does this for us.\n",
    "\n",
    "The `for`-loop in python is defined as follows:\n",
    "```python\n",
    "for variable in sequence:\n",
    "    # do stuff\n",
    "```\n",
    "\n",
    "So we start with the keyword `for` followed by a variable name. This variable is created here and contains one element of the sequence, which changes every iteration of the loop until the whole sequence is finished, or we as programmers stop the loop. Next comes the `in` keyword followed by the sequence. Finally, the part which should happen at each iteration is _indented_ below the `for`-statement (i.e. the line starts 4 spaces further to the right).\n",
    "\n",
    "Let's have a look at a for loop, looping over this new amazing datatype we just learned, a `list`:"
   ]
  },
  {
   "cell_type": "code",
   "execution_count": null,
   "id": "flying-fundamentals",
   "metadata": {},
   "outputs": [],
   "source": [
    "data = [0, 1, 2, 3, 4, 5, 6]\n",
    "\n",
    "for element in data:\n",
    "    print(f\"Element in list: {element}\")"
   ]
  },
  {
   "cell_type": "markdown",
   "id": "opposite-environment",
   "metadata": {},
   "source": [
    "`for`-loops can iterate over arbitrary sequences:"
   ]
  },
  {
   "cell_type": "code",
   "execution_count": null,
   "id": "directed-spanking",
   "metadata": {},
   "outputs": [],
   "source": [
    "# iterate over a string\n",
    "hello_world = \"Hello World!\"\n",
    "for letter in hello_world:\n",
    "    print(f\"Letter in tuple: {letter}\")"
   ]
  },
  {
   "cell_type": "code",
   "execution_count": null,
   "id": "frozen-bosnia",
   "metadata": {},
   "outputs": [],
   "source": [
    "# iterate over a tuple   \n",
    "# note that the iterable does not need to be stored in a variable, but can\n",
    "# also be written after `in` as a 'literal':\n",
    "for element in (0, 1, 2, 3, 4, 5, 6):\n",
    "    print(f\"Element in tuple: {element}\")"
   ]
  },
  {
   "cell_type": "markdown",
   "metadata": {},
   "source": [
    "As you already know you can iterate over the different sequence datatypes. Now we show you how to control stop a loop or skip elements in the loop based on a condition being met. For this there exist two keywords:  \n",
    "* `continue`: stop the current iteration and begins the next one (jump back to the top of the loop, but use the next element)\n",
    "* `break`: exits the loop immediately (jump after the loop body)"
   ]
  },
  {
   "cell_type": "markdown",
   "metadata": {},
   "source": [
    "In the Example below every letter but the letter `l` should be printed. For this we iterate over the string and check with an `if`-statement if the letter is actually `l` - if so we skip the print by using `continue`. \n",
    "\n",
    "Try this with different letters to skip!"
   ]
  },
  {
   "cell_type": "code",
   "execution_count": null,
   "metadata": {},
   "outputs": [],
   "source": [
    "# continue -> Print every letter but the letter \"l\"\n",
    "hello_world = \"Hello World!\"\n",
    "for letter in hello_world:\n",
    "    if letter == \"l\":\n",
    "        continue\n",
    "    print(letter)"
   ]
  },
  {
   "cell_type": "markdown",
   "metadata": {},
   "source": [
    "Similar we can also break the loop when the letter `l` is encountered in the sequence using `break`.  \n",
    "\n",
    "Try to stop the loop at different letters!"
   ]
  },
  {
   "cell_type": "code",
   "execution_count": null,
   "metadata": {},
   "outputs": [],
   "source": [
    "# break -> Print all letters until the first encounter of the letter \"l\"\n",
    "hello_world = \"Hello World!\"\n",
    "for letter in hello_world:\n",
    "    if letter == \"l\":\n",
    "        break\n",
    "    print(letter)"
   ]
  },
  {
   "cell_type": "markdown",
   "metadata": {},
   "source": [
    "#### `enumerate` a sequence\n",
    "You may encounter a problem where you need the index of the element in the sequence and the element itself. `enumerate` generates a tuple for each iterable, which contains the element's index and the element itself: `(<index>, <element>)`. This tuple can directly be unpacked by using two variable names separated by a comma in the `for`-statement."
   ]
  },
  {
   "cell_type": "code",
   "execution_count": null,
   "metadata": {},
   "outputs": [],
   "source": [
    "data = [63, 100, 48, 79, 4, 85, 26, 84, 16, 73, 58, 78]\n",
    "for index, element in enumerate(data):\n",
    "    print(f\"{index}. element in data is {element}\")"
   ]
  },
  {
   "cell_type": "markdown",
   "metadata": {},
   "source": [
    "#### List Comprehensions\n",
    "\n",
    "Sometimes we want to create a list based on the content of another list. Using what we've learned so far, we can use the list method `.append` inside a `for`-loop:"
   ]
  },
  {
   "cell_type": "code",
   "execution_count": null,
   "metadata": {},
   "outputs": [],
   "source": [
    "numbers = [4, 8, 15, 16, 23, 42]\n",
    "\n",
    "squared_numbers = []\n",
    "for number in numbers:\n",
    "    squared_numbers.append(number**2)\n",
    "\n",
    "print(squared_numbers)"
   ]
  },
  {
   "cell_type": "markdown",
   "metadata": {},
   "source": [
    "A _list comprehension_ gives a more elegant way to do this:"
   ]
  },
  {
   "cell_type": "code",
   "execution_count": null,
   "metadata": {},
   "outputs": [],
   "source": [
    "squared_even_numbers = [number**2 for number in numbers]\n",
    "print(squared_even_numbers)"
   ]
  },
  {
   "cell_type": "markdown",
   "metadata": {},
   "source": [
    "It's even possible to use an `if`-statement in a list comprehension:"
   ]
  },
  {
   "cell_type": "code",
   "execution_count": null,
   "metadata": {},
   "outputs": [],
   "source": [
    "numbers = [4, 8, 15, 16, 23, 42]\n",
    "\n",
    "squared_even_numbers = []\n",
    "for number in numbers:\n",
    "    if number % 2 == 0:  # check if the number is even, i.e. if dividing by 2 leaves no remainder\n",
    "        squared_even_numbers.append(number**2)\n",
    "\n",
    "print(squared_even_numbers)"
   ]
  },
  {
   "cell_type": "code",
   "execution_count": null,
   "metadata": {},
   "outputs": [],
   "source": [
    "# this is the listcomprehension equivalent\n",
    "squared_even_numbers = [number**2 for number in numbers if number % 2 == 0]\n",
    "print(squared_even_numbers)"
   ]
  },
  {
   "cell_type": "markdown",
   "metadata": {},
   "source": [
    "## `while`-Loops\n",
    "\n",
    "[Video tutorial (4 min)](https://youtu.be/6iF8Xb7Z3wQ?t=375)\n",
    "\n",
    "Besides `for`-loops there is an other common looping technique: `while`-loops.  \n",
    "This type of loop performs instructions as long as a given condition is true."
   ]
  },
  {
   "cell_type": "markdown",
   "metadata": {},
   "source": [
    "General form:\n",
    "\n",
    "```python\n",
    "while condition:\n",
    "    # do something\n",
    "```"
   ]
  },
  {
   "cell_type": "markdown",
   "metadata": {
    "tags": []
   },
   "source": [
    "In the example below, the code inside the `while`-loop gets executed until the statement `counter < 3` is `False`."
   ]
  },
  {
   "cell_type": "code",
   "execution_count": null,
   "metadata": {},
   "outputs": [],
   "source": [
    "counter = 0\n",
    "print(\"while-loop begins:\\n\")\n",
    "while counter < 3:\n",
    "    print(\"The condition counter < 3 is still true.\") \n",
    "    print(f\"counter is currently {counter}\") # print current value of counter\n",
    "    \n",
    "    counter += 1                             # counter = counter+1\n",
    "    print(\"incrementing counter...\")\n",
    "    print(\"-\" * 40)\n",
    "\n",
    "print(\"The condition counter < 3 is false.\")\n",
    "print(f\"counter is currently {counter}\\n\")\n",
    "print(\"while-loop ends!\")"
   ]
  },
  {
   "cell_type": "markdown",
   "metadata": {
    "tags": []
   },
   "source": [
    "Many `while`-loops can be also rewritten as `for`-loops, but depending on the use case, one might be easier to implement and read or more efficient than the other.Let us see how such an implementation of the same problem can be done with both variants:"
   ]
  },
  {
   "cell_type": "markdown",
   "metadata": {},
   "source": [
    "#### Controlling `while`\n",
    "\n",
    "Just as `for`-loops, also `while`-loops can be controlled by using the `break` and `continue` keywords."
   ]
  },
  {
   "cell_type": "markdown",
   "metadata": {
    "tags": []
   },
   "source": [
    "#### `break`-statement\n",
    "`break`: stops the execution of the loop altogether"
   ]
  },
  {
   "cell_type": "code",
   "execution_count": null,
   "metadata": {
    "tags": []
   },
   "outputs": [],
   "source": [
    "x = 0\n",
    "while x < 10:\n",
    "    x += 1\n",
    "    if x % 4 == 0:\n",
    "        break\n",
    "    print(x)\n",
    "print(\"Executed after while-loop\")"
   ]
  },
  {
   "cell_type": "markdown",
   "metadata": {},
   "source": [
    "#### `continue`-statement\n",
    "`continue`: stops the current iteration and starts with the next iteration of the loop"
   ]
  },
  {
   "cell_type": "code",
   "execution_count": null,
   "metadata": {
    "tags": []
   },
   "outputs": [],
   "source": [
    "x = 0\n",
    "while x < 10:\n",
    "    x += 1\n",
    "    if x % 2 == 0:\n",
    "        print(f\"{x} is even\")\n",
    "        continue\n",
    "    print(f\"{x} is odd\")"
   ]
  },
  {
   "cell_type": "markdown",
   "metadata": {},
   "source": [
    "### Infinite Loops"
   ]
  },
  {
   "cell_type": "markdown",
   "metadata": {},
   "source": [
    "A loop that never ends is called an _infinite loop_, meaning it will not terminate on its own. If you accidentally create an endless loop in a notebook environment, click \"Interrupt kernel\". In a terminal environment, execution can be cancelled with <kbd>Ctrl</kbd>+<kbd>C</kbd>."
   ]
  },
  {
   "cell_type": "code",
   "execution_count": null,
   "metadata": {
    "tags": []
   },
   "outputs": [],
   "source": [
    "# Don't do this... \n",
    "# while True:\n",
    "#     print(\"Oh Oh...\")"
   ]
  },
  {
   "cell_type": "markdown",
   "metadata": {},
   "source": [
    "## Functions \n",
    "\n",
    "[Video tutorial (22 min)](https://www.youtube.com/watch?v=9Os0o3wzS_I)\n",
    "\n",
    "A _function_ is a block of code which only runs if it is called. We can pass data to the function in form of _arguments_. While it is possible to avoid functions when programming, they make our lifes a lot easier since the allow...\n",
    "\n",
    "* ... reusing code snippets\n",
    "* ... better code structuring\n",
    "* ... changing of code throughout a program without copy-paste\n",
    "\n",
    "We can use a function on similar but different input data to get the desired output without copying or rewriting a lot of code. For example, look at the following gif. There is a function (`add_one_side`) which adds one side to a geometric form. Applying the function to different geometric forms (the _input_) creates new forms, each with one added side (the _output_).\n",
    "\n",
    "<img src=\"https://content.codecademy.com/courses/learn-python-functions/python-functions.gif\" width=\"500\" />\n",
    "\n",
    "(gif taken from [https://www.codecademy.com](https://www.codecademy.com/courses/learn-python-3/lessons/intro-to-functions/exercises/introduction))"
   ]
  },
  {
   "cell_type": "markdown",
   "metadata": {},
   "source": [
    "### Defining functions in python\n",
    "Now that we basically now the concept of functions we have a look at how we can define and use them in python. Actually, define or `def` is a good first keyword 😉\n",
    "\n",
    "```python\n",
    "# Use \"def\" to create new functions\n",
    "def function_name(arg1, arg2, ..., argN):\n",
    "    # do something\n",
    "    return something # optional!\n",
    "```\n",
    "Ok. What is this all? So every definition of a function in python starts with the `def` keyword followed by the function name.  \n",
    "As we said before, we want to pass data to a function. This is done by passing arguments. The expected arguments are defined in the parentheses directly after the function name. You can add as many arguments as you need and they are all separated by comma.  \n",
    "At the end of the line we need to add the colon!  \n",
    "\n",
    "Now we can write code inside the function. It is important to tell python which part is part of the function and which is not. So everything inside the function needs to be indented (by 4 spaces).  \n",
    "At the end of the function we can return values and use the `return` keyword followed by the value we want to return.\n",
    "\n",
    "Let's try it!"
   ]
  },
  {
   "cell_type": "code",
   "execution_count": null,
   "metadata": {},
   "outputs": [],
   "source": [
    "def hello_world():\n",
    "    print(\"Inside the function\")\n",
    "\n",
    "print(\"Outside the function\")"
   ]
  },
  {
   "cell_type": "markdown",
   "metadata": {},
   "source": [
    "So we created a function `hello_world` with no expected arguments (notice the empty parentheses). The function prints `\"Inside the Function\"` and does not have an explicit return value (implicitly, `None` is returned).\n",
    "\n",
    "But what happend here? Why did we only see the `\"Outside the Function\"` string not the `\"Inside the Function\"` string?  \n",
    "\n",
    "A function has to be _defined_ __and__ _executed_ to make something happen!\n",
    "\n",
    "So now, lets call the function. This is done by writing the function name followed by parentheses. If the function required arguments, we would also need to pass them here."
   ]
  },
  {
   "cell_type": "code",
   "execution_count": null,
   "metadata": {},
   "outputs": [],
   "source": [
    "hello_world()"
   ]
  },
  {
   "cell_type": "markdown",
   "metadata": {},
   "source": [
    "#### Positional arguments\n",
    "As we heard before, we can pass data to a function via arguments. The names between the parentheses in the function definition decide by which names the passed values will be known inside the function body. These names are so called _local variables_, i.e. they are only valid _within the function_.\n",
    "\n",
    "Let's try to create a function with two parameters which should subtract the second from the first. Notice the ordering of the arguments is important. Therefore also the name positional arguments (positional *->* the position matters)."
   ]
  },
  {
   "cell_type": "code",
   "execution_count": null,
   "metadata": {},
   "outputs": [],
   "source": [
    "def absolute_distance(x, y):\n",
    "    print(abs(x - y))"
   ]
  },
  {
   "cell_type": "code",
   "execution_count": null,
   "metadata": {},
   "outputs": [],
   "source": [
    "absolute_distance(5, 7)"
   ]
  },
  {
   "cell_type": "markdown",
   "metadata": {},
   "source": [
    "As we said we can reuse the function with different arguments:"
   ]
  },
  {
   "cell_type": "code",
   "execution_count": null,
   "metadata": {},
   "outputs": [],
   "source": [
    "absolute_distance(7, 5)\n",
    "absolute_distance(100, 200)\n",
    "absolute_distance(-10, 5)"
   ]
  },
  {
   "cell_type": "markdown",
   "metadata": {},
   "source": [
    "#### Keyword arguments\n",
    "While positional arguments' values are assigned implicitly based on their position, values can also be passed _explicitly_ by their name. For functions with many arguments, this makes it more clear which value belongs to which argument."
   ]
  },
  {
   "cell_type": "code",
   "execution_count": null,
   "id": "33fb95e0",
   "metadata": {},
   "outputs": [],
   "source": [
    "def say_hello(name, age):\n",
    "    print(f\"Hi, my name is {name} and I'm {age} years old\")"
   ]
  },
  {
   "cell_type": "markdown",
   "id": "0b13280b",
   "metadata": {},
   "source": [
    "Argument assignment based on position, as before:"
   ]
  },
  {
   "cell_type": "code",
   "execution_count": null,
   "id": "89f107ae",
   "metadata": {},
   "outputs": [],
   "source": [
    "say_hello(\"Tim\", 27)"
   ]
  },
  {
   "cell_type": "markdown",
   "id": "264f35e2",
   "metadata": {},
   "source": [
    "Argument assignment based on name (i.e. using \"keywords\"):"
   ]
  },
  {
   "cell_type": "code",
   "execution_count": null,
   "id": "a90e8881",
   "metadata": {},
   "outputs": [],
   "source": [
    "say_hello(name=\"Tim\", age=27)"
   ]
  },
  {
   "cell_type": "markdown",
   "id": "98eb40a3",
   "metadata": {},
   "source": [
    "The order of keyword arguments can be changed:"
   ]
  },
  {
   "cell_type": "code",
   "execution_count": null,
   "id": "75735d68",
   "metadata": {},
   "outputs": [],
   "source": [
    "say_hello(age=27, name=\"Tim\")"
   ]
  },
  {
   "cell_type": "markdown",
   "id": "60bc7efb",
   "metadata": {},
   "source": [
    "You can use both positional arguments and keyword arguments in a single function call:"
   ]
  },
  {
   "cell_type": "code",
   "execution_count": null,
   "id": "669dc44f",
   "metadata": {},
   "outputs": [],
   "source": [
    "say_hello(\"Tim\", age=27)"
   ]
  },
  {
   "cell_type": "markdown",
   "id": "ed99cf08",
   "metadata": {},
   "source": [
    "However, keyword arguments are only allowed _after_ positional ones:"
   ]
  },
  {
   "cell_type": "code",
   "execution_count": null,
   "id": "401e27c9",
   "metadata": {},
   "outputs": [],
   "source": [
    "say_hello(name=\"Tim\", 27)"
   ]
  },
  {
   "cell_type": "markdown",
   "id": "ed2d8320",
   "metadata": {},
   "source": [
    "#### Default argument values\n",
    "Inside a function definition, default values can be given for (some of) its arguments. Such a function can then be called without passing all arguments:"
   ]
  },
  {
   "cell_type": "code",
   "execution_count": null,
   "id": "a6aabd12",
   "metadata": {},
   "outputs": [],
   "source": [
    "def power(base, exponent=2):\n",
    "    print(base**exponent)\n",
    "    \n",
    "power(4)"
   ]
  },
  {
   "cell_type": "markdown",
   "id": "ecb5430d",
   "metadata": {},
   "source": [
    "If the argument `exponent` is not given, the default value `2` is used. Otherwise, the function uses the given value:"
   ]
  },
  {
   "cell_type": "code",
   "execution_count": null,
   "id": "7635754e",
   "metadata": {},
   "outputs": [],
   "source": [
    "power(4, 3)"
   ]
  },
  {
   "cell_type": "markdown",
   "id": "d0a6ab21",
   "metadata": {},
   "source": [
    "Again, both the mandatory argument and the argument with a default value can be given with or without an explicit name:"
   ]
  },
  {
   "cell_type": "code",
   "execution_count": null,
   "id": "6c4c724d",
   "metadata": {},
   "outputs": [],
   "source": [
    "power(10, 3)\n",
    "power(10, exponent=3)\n",
    "power(base=10, exponent=3)"
   ]
  },
  {
   "cell_type": "markdown",
   "id": "cfe58586",
   "metadata": {},
   "source": [
    "Arguments with default values have to be defined _after_ all mandatory arguments, so this is syntactically invalid:"
   ]
  },
  {
   "cell_type": "code",
   "execution_count": null,
   "id": "dd2b538e",
   "metadata": {},
   "outputs": [],
   "source": [
    "def power(exponent=2, base):\n",
    "    print(base**exponent)"
   ]
  },
  {
   "cell_type": "markdown",
   "metadata": {},
   "source": [
    "### Return values\n",
    "Last but not least we talk about the return values. They are used to pass results from inside the function to the outside. Again, when no return is present Python automatically returns `None`, which can be seen when looking at the return value of our frst function:"
   ]
  },
  {
   "cell_type": "code",
   "execution_count": null,
   "metadata": {
    "scrolled": true
   },
   "outputs": [],
   "source": [
    "print(hello_world())"
   ]
  },
  {
   "cell_type": "markdown",
   "metadata": {},
   "source": [
    "Now we create a function `sqrt` which calculates the square root of a given number and returns this:"
   ]
  },
  {
   "cell_type": "code",
   "execution_count": null,
   "metadata": {},
   "outputs": [],
   "source": [
    "def sqrt(x):\n",
    "#     print(x**0.5)\n",
    "    return x**0.5"
   ]
  },
  {
   "cell_type": "code",
   "execution_count": null,
   "metadata": {},
   "outputs": [],
   "source": [
    "print(f\"The square root of 7 is {sqrt(2)}\")\n"
   ]
  },
  {
   "cell_type": "markdown",
   "metadata": {},
   "source": [
    "We can also return more than one value! This is done by creating a tuple of the desired values in the `return` statement and _unpacking_ them when assigning names to the function results:"
   ]
  },
  {
   "cell_type": "code",
   "execution_count": null,
   "metadata": {},
   "outputs": [],
   "source": [
    "def minmax(numbers):\n",
    "    return min(numbers), max(numbers)"
   ]
  },
  {
   "cell_type": "code",
   "execution_count": null,
   "metadata": {},
   "outputs": [],
   "source": [
    "nums = [52, 27, 10, 99, 83]\n",
    "\n",
    "smallest, largest = minmax(nums)\n",
    "print(smallest)\n",
    "print(largest)"
   ]
  },
  {
   "cell_type": "markdown",
   "metadata": {},
   "source": [
    "### Type hints\n",
    "Since we always want to create code which is nice to read, we can tell other about the required types for a function's arguments and what the type of the return value will be by adding _type hints_."
   ]
  },
  {
   "cell_type": "code",
   "execution_count": null,
   "metadata": {},
   "outputs": [],
   "source": [
    "def a_very_useful_function(\n",
    "    first_param: int, \n",
    "    second_param: float, \n",
    "    default_param: list[float] = [1.2, 2.1],\n",
    ") -> str:\n",
    "    # do something\n",
    "    \n",
    "    return \"some string as defined\""
   ]
  },
  {
   "cell_type": "markdown",
   "metadata": {},
   "source": [
    "Notice here: we tell the user that the first parameter *should* be a integer, the second *should* be a float and the default parameter *should* be a list of floats. The function returns a string. These typehints are, as the name suggests only hints and don't prevent from passing other types than defined. For more information what to include in your typehints see [here](https://docs.python.org/3/library/typing.html).\n",
    "\n",
    "We encourage you to always add typehints, as they show mistakes early and help your text editor's autocompletion."
   ]
  },
  {
   "cell_type": "markdown",
   "metadata": {},
   "source": [
    "### Docstrings\n",
    "Another way to help others read your code is to create a docstring for each of your functions. This is a text which describes the expected parameters, what the function does, and what the return value is.\n",
    "A docstring starts and ends with three quotation marks `\"\"\"`. The content is up to the programmer, but there are different style guides on how to structure the information inside a docstring. [numpydoc](https://numpydoc.readthedocs.io/en/latest/format.html) is the most commonly used convention in the data science community, so we encourage you to use that, as shown in the example below:"
   ]
  },
  {
   "cell_type": "code",
   "execution_count": null,
   "id": "a2fc5b59",
   "metadata": {},
   "outputs": [],
   "source": [
    "\n",
    "def calculate_price(product: str, amount: int = 1) -> float:\n",
    "    \"\"\"\n",
    "    Calculate the total price of a purchase.\n",
    "\n",
    "    For now, the product range is rather small ;) \n",
    "\n",
    "    Parameters\n",
    "    ----------\n",
    "    product : str\n",
    "        The desired product.\n",
    "    amount : int, optional\n",
    "        The number of products to be bought, by default 1.\n",
    "\n",
    "    Returns\n",
    "    -------\n",
    "    float\n",
    "        The total price.\n",
    "    \"\"\"    \n",
    "    products = {\"pizza\": 3.45, \"noodles\": 0.99}\n",
    "    return products[product] * amount"
   ]
  },
  {
   "cell_type": "markdown",
   "metadata": {},
   "source": [
    "## File I/O\n",
    "[Video tutorial (25 min)](https://www.youtube.com/watch?v=Uh2ebFW8OYM)  \n",
    "[Library Reference](https://docs.python.org/3/library/functions.html#open)"
   ]
  },
  {
   "cell_type": "markdown",
   "metadata": {},
   "source": [
    "### Reading and writing to Files\n",
    "Python's built-in function `open(...)` opens a file and returns a _file object_:\n",
    "\n",
    "```python\n",
    "open(filename, mode=\"r\")\n",
    "```\n",
    "The argument `filename` expects the path to the file (e.g. as a string).  \n",
    "The optional argument `mode` expects the mode in which the file should be opened, it defaults to `r` (reading the file). The most important modes are:  \n",
    "* `\"r\"` - Reading a file\n",
    "* `\"w\"` - Open for writing (deleting previous content)\n",
    "* `\"a\"` - Open for writing (appending to the end if exists)\n",
    "\n",
    "As mentioned before `open()` returns a file object, you can use different methods on this file object - for example to read or to write lines. The table below shows which methods work on which file object opened with a certain mode ([here](https://docs.python.org/3/tutorial/inputoutput.html#methods-of-file-objects) is some more information about the methods):  \n",
    "\n",
    "mode | Method\n",
    "-------- | --------\n",
    "`\"r\"`   | `.read()`, `.readlines()`\n",
    "`\"w\"`   | `.write()`, `.writelines()`\n",
    "`\"a\"`   | `.write()`, `.writelines()`\n"
   ]
  },
  {
   "cell_type": "code",
   "execution_count": null,
   "metadata": {},
   "outputs": [],
   "source": [
    "# Just execute, this creates a file with some content for the examples below\n",
    "with open(\"shoppinglist.txt\", \"w\") as datafile:\n",
    "    datafile.write(\"noodles\\nbread\\nmilk\\ncheese\\napples\\n\")"
   ]
  },
  {
   "cell_type": "markdown",
   "metadata": {},
   "source": [
    "This creates a file with following content:\n",
    "```\n",
    "noodles\n",
    "bread\n",
    "milk\n",
    "cheese\n",
    "apples\n",
    "```"
   ]
  },
  {
   "cell_type": "markdown",
   "metadata": {},
   "source": [
    "But what's the `with` here for? Have you ever tried to move some Word-document or image file while it was opened? Your operating system most likely told you that you'll have to close the file first. Since performing multiple different operations on a single file at the same time often leads to chaos, we have to _close_ files after opening them (and doing something with them). Closing a file signals to other software that the file is \"available\" now. The _context manager_ `with` takes care of opening **and closing** the file for us. The file will only stay open for the block of code indented below the `with` statement, and will be closed at the first dedented line. \n",
    "\n",
    "\n",
    "Let's see what happens if we want to write `\"rice\"` to the file, opened with mode `\"w\"` (open the file in a text editor to check what happens):"
   ]
  },
  {
   "cell_type": "code",
   "execution_count": null,
   "metadata": {},
   "outputs": [],
   "source": [
    "with open(\"shoppinglist.txt\", \"w\") as datafile:\n",
    "    datafile.write(\"rice\\n\")"
   ]
  },
  {
   "cell_type": "markdown",
   "metadata": {},
   "source": [
    "The file now contains:\n",
    "```\n",
    "rice\n",
    "```"
   ]
  },
  {
   "cell_type": "markdown",
   "metadata": {},
   "source": [
    "Didn't work out well, since `\"w\"` overwrites all content and writes the new content. The old list got deleted.  \n",
    "Using `\"a\"` will do a better job:"
   ]
  },
  {
   "cell_type": "code",
   "execution_count": null,
   "metadata": {},
   "outputs": [],
   "source": [
    "with open(\"shoppinglist.txt\", \"w\") as datafile:\n",
    "    datafile.write(\"noodles\\nbread\\nmilk\\ncheese\\napples\\n\")"
   ]
  },
  {
   "cell_type": "code",
   "execution_count": null,
   "metadata": {},
   "outputs": [],
   "source": [
    "with open(\"shoppinglist.txt\", \"a\") as datafile:\n",
    "    datafile.write(\"rice\\n\")"
   ]
  },
  {
   "cell_type": "markdown",
   "metadata": {},
   "source": [
    "The file contains now:\n",
    "```\n",
    "noodles\n",
    "bread\n",
    "milk\n",
    "cheese\n",
    "apples\n",
    "rice\n",
    "```"
   ]
  },
  {
   "cell_type": "markdown",
   "metadata": {},
   "source": [
    "You can also iteratively write multiple lines to a file with `write(<string>)`:"
   ]
  },
  {
   "cell_type": "code",
   "execution_count": null,
   "metadata": {},
   "outputs": [],
   "source": [
    "#writing to a file\n",
    "data = [\"John\", \"Lisa\", \"Anna\", \"Bob\"]\n",
    "with open('some_new_file.txt', 'w') as some_file:\n",
    "    for index, name in enumerate(data):\n",
    "        line = f'Line number {index+1} Name: {name}\\n'\n",
    "        some_file.write(line)"
   ]
  },
  {
   "cell_type": "markdown",
   "metadata": {},
   "source": [
    "Notice you have to add the `\\n` at the end of each line, if you don't do this everything gets written to one line. Try out what happens when you remove the `\\n` at the end."
   ]
  },
  {
   "cell_type": "markdown",
   "metadata": {},
   "source": [
    "You can also use `writelines(<iterable of strings>)` to write multiple lines at once"
   ]
  },
  {
   "cell_type": "code",
   "execution_count": null,
   "metadata": {},
   "outputs": [],
   "source": [
    "data = [\"John\", \"Lisa\", \"Anna\", \"Bob\"]\n",
    "lines = []\n",
    "with open('some_new_file.txt', 'w') as some_file:\n",
    "    for index, name in enumerate(data):\n",
    "        lines.append(f'Line number {index+1} Name: {name}\\n')\n",
    "    some_file.writelines(lines)"
   ]
  },
  {
   "cell_type": "markdown",
   "metadata": {},
   "source": [
    "Notice here you also need to add the `\\n` at the end of each string in the list."
   ]
  },
  {
   "cell_type": "markdown",
   "metadata": {},
   "source": [
    "### Reading the whole file\n",
    "The `.read(<size>)` method reads some quantity of data and returns it as a string. Size is an optional argument, if size is omitted or negative, the entire content of the file will be read and returned."
   ]
  },
  {
   "cell_type": "code",
   "execution_count": null,
   "metadata": {},
   "outputs": [],
   "source": [
    "# read the whole file\n",
    "with open(\"shoppinglist.txt\", \"r\") as shoppinglist_file:\n",
    "    content = shoppinglist_file.read()\n",
    "\n",
    "print(content)"
   ]
  },
  {
   "cell_type": "code",
   "execution_count": null,
   "metadata": {},
   "outputs": [],
   "source": [
    "# content  -> this is a string with newline characters ('\\n')\n",
    "print(type(content))\n",
    "print(repr(content)) # printable representation of the given object"
   ]
  },
  {
   "cell_type": "markdown",
   "metadata": {},
   "source": [
    "As you can see, the output of the method `.read()` is a string, every newline is represented by a `\\n`.\n",
    "\n",
    "You can also iterate over each line in the file. Each line is represented as a string"
   ]
  },
  {
   "cell_type": "code",
   "execution_count": null,
   "metadata": {},
   "outputs": [],
   "source": [
    "# Reading a file line by line (i.e. iterate over the file):\n",
    "with open('shoppinglist.txt', 'r') as shoppinglist_file:\n",
    "    for line in shoppinglist_file:\n",
    "        print(repr(line))\n",
    "        # print(line)\n"
   ]
  },
  {
   "cell_type": "markdown",
   "metadata": {},
   "source": [
    "`.readlines()` reads all lines from a file and returns them as a list. A newline character (`\\n`) is left at the end of every string in the list."
   ]
  },
  {
   "cell_type": "code",
   "execution_count": null,
   "metadata": {},
   "outputs": [],
   "source": [
    "# reading with readlines()\n",
    "with open(\"shoppinglist.txt\", \"r\") as shoppinglist_file:\n",
    "    content = shoppinglist_file.readlines()\n",
    "    print(content)\n",
    "    print(\"Length of content is: \", len(content))"
   ]
  },
  {
   "cell_type": "code",
   "execution_count": null,
   "metadata": {},
   "outputs": [],
   "source": [
    "print(type(content[0]))"
   ]
  },
  {
   "cell_type": "markdown",
   "metadata": {},
   "source": [
    "### Absolute Paths\n",
    "A _absolute path_ is the whole path to the file. Absolute paths work only on your system - since you can never be certain that another user has the same directory tree as you.  \n",
    "We recommend to **avoid absolute paths whenever possible!** Also, hardcoding paths (absolute or relative) will most likely produce code others can not use."
   ]
  },
  {
   "cell_type": "code",
   "execution_count": null,
   "metadata": {},
   "outputs": [],
   "source": [
    "#just execute to create the python-file for demonstration\n",
    "with open(\"demofile.py\", \"w\") as datafile:\n",
    "    datafile.write('print(\"Hello, World!\")')"
   ]
  },
  {
   "cell_type": "code",
   "execution_count": null,
   "metadata": {},
   "outputs": [],
   "source": [
    "# This will not work on your system because you most likely will not have this directory structure\n",
    "absolute_path = \"C:/absolute/path/to/this/demofile.py\"\n",
    "\n",
    "with open(absolute_path, \"r\") as text_file:\n",
    "    data = text_file.read()\n",
    "print(data)\n",
    "#eval(data)"
   ]
  },
  {
   "cell_type": "markdown",
   "metadata": {},
   "source": [
    "So reading this file with using absolute paths won't work on your PC..."
   ]
  },
  {
   "cell_type": "markdown",
   "metadata": {},
   "source": [
    "### Relative Paths\n",
    "Relative Paths are paths which start from the current working directory. So only the directory tree 'below' the current working directory is relevant.\n",
    "_Hint:_ you can still go 'up' the directory tree by using (however many necessary) `../` at the beginning of the path."
   ]
  },
  {
   "cell_type": "code",
   "execution_count": null,
   "metadata": {},
   "outputs": [],
   "source": [
    "relative_path = \"demofile.py\"\n",
    "\n",
    "with open(relative_path, \"r\") as text_file:\n",
    "    data = text_file.read()\n",
    "print(data)\n",
    "#eval(data)"
   ]
  },
  {
   "cell_type": "markdown",
   "id": "b912942f",
   "metadata": {},
   "source": [
    "## Common mistakes and how to fix them"
   ]
  },
  {
   "cell_type": "markdown",
   "id": "2674b60c",
   "metadata": {},
   "source": [
    "### Basic syntax error"
   ]
  },
  {
   "cell_type": "code",
   "execution_count": null,
   "id": "dbd079c0",
   "metadata": {},
   "outputs": [],
   "source": [
    "# this raises a SyntaxError hinting at a missing comma:\n",
    "total = 0\n",
    "for number in (4, 8 15, 16, 23, 42)\n",
    "total += number\n",
    "print(total)"
   ]
  },
  {
   "cell_type": "code",
   "execution_count": null,
   "id": "4027b78b",
   "metadata": {},
   "outputs": [],
   "source": [
    "# a for statement ends with a colon\n",
    "total = 0\n",
    "for number in (4, 8, 15, 16, 23, 42)\n",
    "total += number\n",
    "print(total)"
   ]
  },
  {
   "cell_type": "code",
   "execution_count": null,
   "id": "564f818d",
   "metadata": {},
   "outputs": [],
   "source": [
    "# no error message this time, but the total should only be printed at the end:\n",
    "total = 0\n",
    "for number in (4, 8, 15, 16, 23, 42):\n",
    "    total += number\n",
    "    print(total)"
   ]
  },
  {
   "cell_type": "code",
   "execution_count": null,
   "id": "997dc64e",
   "metadata": {},
   "outputs": [],
   "source": [
    "# done :)\n",
    "total = 0\n",
    "for number in (4, 8, 15, 16, 23, 42):\n",
    "    total += number\n",
    "print(total)"
   ]
  },
  {
   "cell_type": "markdown",
   "id": "ef5df0a9",
   "metadata": {},
   "source": [
    "### Trying to iterate over dictionary items, but forgetting something:"
   ]
  },
  {
   "cell_type": "code",
   "execution_count": null,
   "id": "4d71c0f4",
   "metadata": {},
   "outputs": [],
   "source": [
    "phonebook = {\n",
    "    \"Anna Smith\": 123456789,\n",
    "    \"Leeroy Jenkins\": 987654321,\n",
    "}\n",
    "\n",
    "for name, number in phonebook: \n",
    "    print(name, number)"
   ]
  },
  {
   "cell_type": "markdown",
   "id": "ac62f74d",
   "metadata": {},
   "source": [
    "To get both the key and the corresponding value on each iteration, `.items()` is required:"
   ]
  },
  {
   "cell_type": "code",
   "execution_count": null,
   "id": "d0196761",
   "metadata": {},
   "outputs": [],
   "source": [
    "phonebook = {\n",
    "    \"Anna Smith\": 123456789,\n",
    "    \"Leeroy Jenkins\": 987654321,\n",
    "}\n",
    "\n",
    "for name, number in phonebook.items(): \n",
    "    print(name, number)"
   ]
  },
  {
   "cell_type": "markdown",
   "metadata": {},
   "source": [
    "### Mistakes with Loops:\n",
    "Never reaching the end condition when working with while-loops might happen by mistake, so be aware! :)"
   ]
  },
  {
   "cell_type": "code",
   "execution_count": null,
   "metadata": {},
   "outputs": [],
   "source": [
    "number = 5\n",
    "\n",
    "while number > 0:\n",
    "    print(number)\n",
    "    \n",
    "# Stop this by interupting the kernel ;)"
   ]
  },
  {
   "cell_type": "markdown",
   "metadata": {},
   "source": [
    "This can be fixed by adding an end condition (`break`) or by letting the condition be `False` at some time:"
   ]
  },
  {
   "cell_type": "code",
   "execution_count": null,
   "metadata": {},
   "outputs": [],
   "source": [
    "number = 5\n",
    "\n",
    "while number > 0:\n",
    "    print(number)\n",
    "    number -= 1"
   ]
  },
  {
   "cell_type": "markdown",
   "metadata": {},
   "source": [
    "`break` and `continue` only breaks or skips the innermost loop:."
   ]
  },
  {
   "cell_type": "code",
   "execution_count": null,
   "metadata": {},
   "outputs": [],
   "source": [
    "matrix = [[1, 0, -1],\n",
    "          [2, 0, -2],\n",
    "          [1, 0, -1]]\n",
    "\n",
    "# Check for elements smaller 0 in a matrix\n",
    "for row in matrix:\n",
    "    for column in row:\n",
    "        if column < 0:\n",
    "            print(\"There is a negativ element in the Matrix!\")\n",
    "            break"
   ]
  },
  {
   "cell_type": "markdown",
   "metadata": {},
   "source": [
    "By adding the `negativ_found` flag and breaking if this is `True` we can control the outer loop as well:"
   ]
  },
  {
   "cell_type": "code",
   "execution_count": null,
   "metadata": {},
   "outputs": [],
   "source": [
    "matrix = [[1, 0, -1],\n",
    "          [2, 0, -2],\n",
    "          [1, 0, -1]]\n",
    "\n",
    "# Check for elements smaller 0 in a matrix\n",
    "for row in matrix:\n",
    "    negativ_found = False\n",
    "    for column in row:\n",
    "        if column < 0:\n",
    "            print(\"There is a negativ element in the Matrix!\")\n",
    "            negativ_found = True\n",
    "    if negativ_found:\n",
    "        break"
   ]
  },
  {
   "cell_type": "markdown",
   "metadata": {},
   "source": [
    "### Common Mistakes with Functions:\n",
    "\n",
    "It is important that you **pass all needed parameters to the function when calling**, else you encounter an error:"
   ]
  },
  {
   "cell_type": "code",
   "execution_count": null,
   "metadata": {},
   "outputs": [],
   "source": [
    "def subtract(x, y):\n",
    "    return x - y\n",
    "    \n",
    "subtract(5) # one argument missing -> TypeError"
   ]
  },
  {
   "cell_type": "markdown",
   "metadata": {},
   "source": [
    "The same if you pass too many parameters:"
   ]
  },
  {
   "cell_type": "code",
   "execution_count": null,
   "metadata": {},
   "outputs": [],
   "source": [
    "subtract(5, 4, 3) # one argument extra -> TypeError"
   ]
  },
  {
   "cell_type": "markdown",
   "metadata": {},
   "source": [
    "Both errors above are fixed by passing the correct amount of parameters"
   ]
  },
  {
   "cell_type": "code",
   "execution_count": null,
   "metadata": {},
   "outputs": [],
   "source": [
    "subtract(5, 4)"
   ]
  },
  {
   "cell_type": "markdown",
   "metadata": {},
   "source": [
    "Don't forget to indent inside a function (you should use 4 spaces for that)"
   ]
  },
  {
   "cell_type": "code",
   "execution_count": null,
   "metadata": {},
   "outputs": [],
   "source": [
    "def some_function():\n",
    "print(\"Some text 'inside' a function\")\n",
    "some_function()"
   ]
  },
  {
   "cell_type": "markdown",
   "metadata": {},
   "source": [
    "Here the fix is to correctly indent the code inside the function"
   ]
  },
  {
   "cell_type": "code",
   "execution_count": null,
   "metadata": {},
   "outputs": [],
   "source": [
    "def some_function():\n",
    "    print(\"Some text inside a function\")\n",
    "some_function()"
   ]
  },
  {
   "cell_type": "markdown",
   "id": "c033c3e2",
   "metadata": {},
   "source": [
    "Default values for function arguments are created _just once_ and used on every function call. So using something mutable as a default argument leads to unwanted behaviour (most of the time):"
   ]
  },
  {
   "cell_type": "code",
   "execution_count": null,
   "id": "409161d1",
   "metadata": {},
   "outputs": [],
   "source": [
    "def add_even_numbers_to_list(new_numbers: list, even_numbers: list[int] = []):\n",
    "    for number in new_numbers:\n",
    "        if number % 2 == 0:\n",
    "            even_numbers.append(number)\n",
    "    return even_numbers\n",
    "\n",
    "\n",
    "result = add_even_numbers_to_list([1, 2, 3, 4, 5])\n",
    "print(result)\n",
    "result = add_even_numbers_to_list([6, 7, 8])\n",
    "print(result)\n",
    "result = add_even_numbers_to_list([12, 13, 14], even_numbers=[8, 10])\n",
    "print(result)"
   ]
  },
  {
   "cell_type": "markdown",
   "id": "58794233",
   "metadata": {},
   "source": [
    "In the second function call, the list specified as the default for the argument `even_numbers` already contained `2` and `4` from the first call. To avoid such a situation, write the function like this:"
   ]
  },
  {
   "cell_type": "code",
   "execution_count": null,
   "id": "588c5e31",
   "metadata": {},
   "outputs": [],
   "source": [
    "def add_even_numbers_to_list(new_numbers: list, even_numbers: list[int] = None):\n",
    "    if even_numbers is None:\n",
    "        even_numbers = []\n",
    "    for number in new_numbers:\n",
    "        if number % 2 == 0:\n",
    "            even_numbers.append(number)\n",
    "    return even_numbers\n",
    "\n",
    "\n",
    "result = add_even_numbers_to_list([1, 2, 3, 4, 5])\n",
    "print(result)\n",
    "result = add_even_numbers_to_list([6, 7, 8])\n",
    "print(result)\n",
    "result = add_even_numbers_to_list([12, 13, 14], even_numbers=[8, 10])\n",
    "print(result)"
   ]
  },
  {
   "cell_type": "markdown",
   "metadata": {},
   "source": [
    "### Common Mistakes while working with files:\n",
    "`UnsupportedOperation`: make sure you open your file with the correct mode. You can not open a file with mode `\"r\"` and then write to your file, you have to use `\"w\"` here. Same the other way around"
   ]
  },
  {
   "cell_type": "code",
   "execution_count": null,
   "metadata": {},
   "outputs": [],
   "source": [
    "with open(\"shoppinglist.txt\", \"r\") as shoppinglist_file:\n",
    "    shoppinglist_file.write(\"rice\\n\")"
   ]
  },
  {
   "cell_type": "code",
   "execution_count": null,
   "metadata": {},
   "outputs": [],
   "source": [
    "with open(\"shoppinglist.txt\", \"w\") as shoppinglist_file:\n",
    "    print(shoppinglist_file.readlines())"
   ]
  },
  {
   "cell_type": "markdown",
   "metadata": {},
   "source": [
    "Both errors can be fixed by using the appropriate method `\"w\"` for the first example and `\"r\"` for the second one."
   ]
  },
  {
   "cell_type": "markdown",
   "metadata": {},
   "source": [
    "`FileNotFoundError` is raised when the file is not found with the given path. Make sure your paths point to a valid file and try not to use absolute paths"
   ]
  },
  {
   "cell_type": "code",
   "execution_count": null,
   "metadata": {},
   "outputs": [],
   "source": [
    "absolute_path = \"Folder_1/demofile.py\"\n",
    "with open(absolute_path, \"r\") as text_file:\n",
    "    data = text_file.read()\n",
    "print(data)\n",
    "#eval(data)"
   ]
  },
  {
   "cell_type": "markdown",
   "id": "ea4c634d",
   "metadata": {},
   "source": [
    "## Best practices"
   ]
  },
  {
   "cell_type": "markdown",
   "id": "839800f4",
   "metadata": {},
   "source": [
    "### Indentation\n",
    "As shown in the section about for loops, Python uses indentation to group statements.\n",
    "Any number of spaces can be used, as long as it's consistent within a block.\n",
    "However, most Python projects use 4 spaces per indentation level.\n",
    "This convention makes it easier to read code written by someone else.\n",
    "\n",
    "##### _Don't_\n",
    "```python\n",
    "for country in countries:\n",
    " print(country)\n",
    "```\n",
    "\n",
    "##### _Do_\n",
    "```python\n",
    "for country in countries:\n",
    "    print(country)\n",
    "```"
   ]
  },
  {
   "cell_type": "markdown",
   "id": "7c402707",
   "metadata": {},
   "source": [
    "### Descriptive variable names\n",
    "While writing code may seem difficult for now, reading (and understanding) code is actually a far greater challenge. To make things easier for others (including our future selfs), use descriptive variable names:\n",
    "\n",
    "##### _Don't_\n",
    "```python\n",
    "for x in countries:\n",
    "    print(x)\n",
    "```\n",
    "\n",
    "##### _Do_\n",
    "```python\n",
    "for country in countries:\n",
    "    print(country)\n",
    "```"
   ]
  },
  {
   "cell_type": "markdown",
   "metadata": {},
   "source": [
    "### Iterating over iterables to check for existence of an element\n",
    "The `in` statement checks for existence of an element inside an iterable or string.\n",
    "##### _Don't_:\n",
    "```python\n",
    "numbers = [1,2,3,4,5]\n",
    "target_number = 6\n",
    "\n",
    "for number in numbers:\n",
    "    if number == target_number:\n",
    "        print(\"found the target\")\n",
    "```\n",
    "Here you can directly check if `target_number` is in `numbers`, this saves some loop iterations ;)\n",
    "\n",
    "##### _Do:_\n",
    "```python\n",
    "numbers = [1,2,3,4,5]\n",
    "target_number = 6\n",
    "\n",
    "if target_number in numbers:\n",
    "    print(\"found the target\")\n",
    "```\n",
    "This is much faster and more readable since you do not have to loop over the whole list explicitly."
   ]
  },
  {
   "cell_type": "markdown",
   "metadata": {},
   "source": [
    "### Iterating over elements in a iterable with a `for` loop instead of a `while`-loop\n",
    "When you want to do something with the elements of an iterable, it is almost always better to use a `for`-loop\n",
    "##### _Don't_:\n",
    "```python\n",
    "numbers = [43, 26, 42, 28, 33, 16, 91, 88, 55, 61, 62, 46, 18, 49, 8, 89, 12, 1, 42, 52]\n",
    "\n",
    "index = 0\n",
    "while index < len(numbers):\n",
    "    print(numbers[index])\n",
    "```\n",
    "Here you need an index to actually access the element in numbers. Additionally, using a `for`-loop avoids endless loops - you don't have to check for the end condition, so no mistakes here ;)\n",
    "\n",
    "##### _Do:_\n",
    "```python\n",
    "numbers = [43, 26, 42, 28, 33, 16, 91, 88, 55, 61, 62, 46, 18, 49, 8, 89, 12, 1, 42, 52]\n",
    "\n",
    "for number in bumbers:\n",
    "    print(numbers)\n",
    "```"
   ]
  },
  {
   "cell_type": "markdown",
   "metadata": {},
   "source": [
    "### Global variables\n",
    "If, inside a function, a variable name is accessed which is not part of the argument list, Python will look _outside the function_ for this name. This can lead to hard-to-find bugs. Try to make your functions self-contained, i.e. let them only use variables which are passed as arguments!\n",
    "\n",
    "##### _Don't_:\n",
    "```python\n",
    "a = 5\n",
    "\n",
    "def add_number(b: int) -> int:\n",
    "    return a + b\n",
    "```\n",
    "Here `a` is defined outside the function, the function relies that `a` is defined somewhere outside, if this is not the case the function would not work.\n",
    "\n",
    "##### _Do:_\n",
    "```python\n",
    "def add_number(a: int, b: int) -> int:\n",
    "    return a + b\n",
    "```\n",
    "Adding `a` as a positional argument is here the way to go so the function does not rely on variables from outside.\n"
   ]
  },
  {
   "cell_type": "markdown",
   "metadata": {},
   "source": [
    "### Exit function early\n",
    "\n",
    "When your function has multiple exit points you should always exit as soon a possible.\n",
    "##### _Don't:_\n",
    "```python\n",
    "def root(number: float, degree: int = 2) -> float|None:\n",
    "    if not isinstance(number, float):\n",
    "        print(f\"'number' must be of type float but is: {type(number)}\")\n",
    "    else:\n",
    "        return number**(1/degree)\n",
    "```\n",
    "Code can get messy real fast when using a lot of `if/elif/else` statements, therefore try to reduce them by exiting the function early.\n",
    "\n",
    "##### _Do:_\n",
    "```python\n",
    "def root(number: float, degree: int = 2) -> float|None:\n",
    "    if not isinstance(number, float):\n",
    "        print(f\"'number' must be of type float but is: {type(number)}\")\n",
    "        return\n",
    "    return number**(1/degree)\n",
    "```\n",
    "You don't even need an `else` block here anymore since if `number` is not a float the function returns and never reaches the code outside the `if` block.\n"
   ]
  },
  {
   "cell_type": "markdown",
   "metadata": {},
   "source": [
    "### Use the `with`-statement\n",
    "While it is possible to manually open and close a file like this:\n",
    "##### _Don't_:\n",
    "```python\n",
    "file_to_read = open(\"some_file.txt\", \"r\")\n",
    "data = file_to_read.read()\n",
    "\n",
    "file_to_read.close()\n",
    "```\n",
    "\n",
    "it is easy to forget to close the file (or let the program crash before it reaches the call to `.close()`). To make sure the file is closed, always use `with`\n",
    ":\n",
    "##### _Do:_\n",
    "```python\n",
    "with open(\"some_file.txt\", \"r\") as file_to_read:\n",
    "    data = file_to_read.read()\n",
    "```"
   ]
  }
 ],
 "metadata": {
  "kernelspec": {
   "display_name": "Python 3.9.7 64-bit",
   "language": "python",
   "name": "python3"
  },
  "language_info": {
   "name": "python",
   "version": "3.9.7"
  },
  "orig_nbformat": 4,
  "vscode": {
   "interpreter": {
    "hash": "e65133fff93ab36b53ddb68612dd6a95a21053ff6cb8524adc7f46061287cbaa"
   }
  }
 },
 "nbformat": 4,
 "nbformat_minor": 2
}
