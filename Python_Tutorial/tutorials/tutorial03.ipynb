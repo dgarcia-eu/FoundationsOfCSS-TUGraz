{
 "cells": [
  {
   "cell_type": "markdown",
   "metadata": {},
   "source": [
    "# Python Tutorial 3 - Pandas, matplotlib, networkx and twarc\n",
    "\n",
    "Please fill out the feedbackr when you done with this tutorial this will help us what to focus on in class. [Here](https://fbr.io/FCSS_TUT_3) is the link to it.\n",
    "\n",
    "You can also scan this QR code for the feedbackr.  \n",
    "\n",
    "![](https://i.imgur.com/fJOWv6W.png)  \n",
    "\n",
    "If you have questions on this tutorial or corresponding exercise ask them in the feedbackr."
   ]
  },
  {
   "cell_type": "markdown",
   "metadata": {},
   "source": [
    "## Import\n",
    "\n",
    "Before we start with todays tutorial, let us talk a little bit about **modules** and what they represent. Imagine you are working on a script which includes a variety of functions to solve common tasks, for instance: functions to perform mathematical matrix operations or functions to visualise huge amounts of data. Wouldn't it be convenient if we could use those functions in another python-script? Well....since we are too lazy to rewrite everything.... Yeah, it would!\n",
    "\n",
    "Modules - it's your time to shine🌞<br>\n",
    "Modules are nothing more than <ins>.py-files</ins> consisting of different kinds of components, i.e. functions, which can be made available in any other python-script using the `import`-statement. And yes, you can import your own python-scripts as well! Besides that, Python comes with a extensive amount of modules, known as <ins>Standard-Library</ins>. You can also include 3rd-party packages (numpy, pandas, scipy, matplotlib,...) but you will have to install them first. \n",
    "\n",
    "To keep the <ins>namespace</ins> clean (and your brain sane), lets have a look on how to use `import`.\n",
    "### How to `import` everything from a module\n",
    "\n",
    "**Python-Syntax:** \n",
    "```python\n",
    "import module_name\n",
    "```\n",
    "\n",
    "It doesn't get easier than that - after the import-statement follows the name of the module. Now you can use all functions from the `pandas` module by prefixing their name with their <ins>namespace</ins> `pandas.` Usually, all import-statements are found at the top of the script to keep the code tidy and clear.\n",
    "\n"
   ]
  },
  {
   "cell_type": "markdown",
   "metadata": {},
   "source": [
    "### How to `import` specific contents `from` a module\n",
    "\n",
    "**Python-Syntax:**\n",
    "```python\n",
    "from module_name import content_name1, content_name2, etc\n",
    "``` \n",
    "\n",
    "Instead of importing everything of a module, we can extract specific contents, i.e. only functions we really need. This allows us, to use functions without the namespace-prefix. Keep in mind, that multiple contents are separated with commas (`,`)."
   ]
  },
  {
   "cell_type": "markdown",
   "metadata": {},
   "source": [
    "**Pitfall:**\n",
    "```python\n",
    "from statistics import mean\n",
    "from numpy import mean\n",
    "```\n",
    "Always keep an eye on which elements you are importing from different modules. In our case, there are two imported functions with the same name (name-collision). Therefore python always uses the last imported function with that name - in our case, the mean-function of the numpy module. <ins>The last import always wins!</ins>\n",
    "\n"
   ]
  },
  {
   "cell_type": "markdown",
   "metadata": {},
   "source": [
    "### How to `import` a module `as` you like\n",
    "\n",
    "**Python-Syntax:** \n",
    "```python\n",
    "import module_name as new_module_name_in_namespace\n",
    "from module_name import component as new_component_name_in_namespace\n",
    "```\n",
    "\n",
    "Modules and packages can be renamed on import to keep code more succinct. Most widely-used packages have an established abbreviation. Stick to it to make your code readable for others! For example pandas established abbrevation is `pd` so you would import it as:\n",
    "```python\n",
    "import pandas as pd\n",
    "```"
   ]
  },
  {
   "cell_type": "markdown",
   "metadata": {},
   "source": [
    "### `Import`ant Information\n",
    "Usually, standard-library-/3rd-party-modules do contain encapsulated structures like functions/objects/... which need to be explicitly accessed for execution. This means, that all contents outside those structures will be immediatelly executed at module-import. \n",
    "\n",
    "If a module (especially your self-made one) has changed while loaded in Jupyter, the imported functions do not update automatically. To force reimporting on every execution, place and execute the two lines below in your .ipynb-file:\n",
    "```python\n",
    "%load_ext autoreload\n",
    "%autoreload 2\n",
    "```"
   ]
  },
  {
   "cell_type": "markdown",
   "metadata": {},
   "source": [
    "## PIP - Installing Python Modules\n",
    "https://docs.python.org/3/installing/index.html\n",
    "\n",
    "While the python standard library is *extensive*, there is an even bigger collection of 3rd-party packages available. `pip` is one of several possibilities to install such additional python packages. It comes with the default python setup, so you can use it right away. Note that pip is a package itself, but is usually used as a command line tool, not within a `.py`-script or `.ipynb`-notebook. You most likely already used pip when installing JupyterLab. Replace `pip` with `pip3` in the following commands, if you are using MACOS or Linux.\n",
    "\n",
    "To install a package with pip, simply open up a terminal and enter\n",
    "> `pip install <package name>`\n",
    "\n",
    "e.g.\n",
    "> `pip install numpy`.\n",
    "\n",
    "Multiple packages can be installed at once by just chaining names (separated with spaces) like this:\n",
    "> `pip install numpy matplotlib pandas scipy`\n",
    "\n",
    "Depending on your computer's settings and environment setup, you might run into permission issues. Usually installing new packages just for the current user (instead of the systemwide default) fixes those:\n",
    "> `pip install --user numpy`\n",
    "\n",
    "Just like python itself, its packages exist in different versions, having different features and dependencies. This often leads to issues when trying to run code one another computer. Best practice would be to create a *virtual environment* ([Docs](https://packaging.python.org/tutorials/installing-packages/#creating-virtual-environments)) for each project, using *requirements files* ([Docs](https://pip.pypa.io/en/latest/user_guide/#requirements-files)) - or using Docker containers. You are welcome to do so, but for now it's sufficient to just install packages globally ;)\n",
    "\n",
    "\n",
    "<center><img src=\"https://hackernoon.com/hn-images/1*ookfwogTLx_1qhHaiFJoJw.png\" width=\"400\" /></center>"
   ]
  },
  {
   "cell_type": "markdown",
   "metadata": {},
   "source": [
    "# Pandas\n",
    "\n",
    "Pandas is a Python package, which provides data structures for working with tabular, labeled data (i.e., data in a table with rows and columns). It is a good tool for real-world data analysis in Python. [Here](https://pandas.pydata.org/docs/) is the documentation of pandas.\n",
    "\n",
    "[Here](https://www.youtube.com/playlist?list=PL-osiE80TeTsWmV9i9c58mdDCSskIFdDS) is an extensive playlist covering all basic pandas operations. The skills required for this exercise are covered in Parts 1 to 6. Feel free to skip around, as the videos cover lots of details :)"
   ]
  },
  {
   "cell_type": "markdown",
   "metadata": {},
   "source": [
    "#### Install and Import\n",
    "\n",
    "In order to get access to the Pandas module, we’ll need to install it: ```pip install pandas ``` (in commandline/terminal)  \n",
    "Or you can execute following cell:"
   ]
  },
  {
   "cell_type": "code",
   "execution_count": null,
   "metadata": {},
   "outputs": [],
   "source": [
    "! pip install pandas"
   ]
  },
  {
   "cell_type": "markdown",
   "metadata": {},
   "source": [
    "The module is usually imported at the top of a file under pd."
   ]
  },
  {
   "cell_type": "code",
   "execution_count": null,
   "metadata": {},
   "outputs": [],
   "source": [
    "import pandas as pd\n",
    "from datetime import date # This is needed later for some date calculations"
   ]
  },
  {
   "cell_type": "markdown",
   "metadata": {},
   "source": [
    "#### Pandas Data structures\n",
    "\n",
    "Pandas has it's own data structures - ```Series ``` and ``` DataFrames ```.\n",
    "\n",
    "```pd.Series ```: One-dimensional array with axis labels   \n",
    "bsp. ```x = pd.Series([6,3,4,6], index=[‘a’, ‘b’, ‘c’, ‘d’]) ```   \n",
    "This data type is not so important for our usecases in this class.\n",
    "\n",
    "\n",
    "```pd.DataFrames ```: DataFrames can contain many different data types: strings, ints, floats, tuples, ...   \n",
    "They have **rows** and **columns**: Every column has a name/header, every row has an index (integer) and contains values (different data types). So it is very nice to work with a lot of data with a lot of different columns, because they are named.  "
   ]
  },
  {
   "cell_type": "markdown",
   "metadata": {},
   "source": [
    "#### CSV reading and writing with Pandas\n",
    "The most important methods are `.to_csv` and `pd.read_csv`. But what are the methods doing?\n",
    "\n",
    "`.to_csv`: saves pd.DataFrame, pd.Series... as an .csv file\n",
    "\n",
    "`pd.read_csv`: loads the .csv-file in a pd.DataFrame"
   ]
  },
  {
   "cell_type": "code",
   "execution_count": null,
   "metadata": {},
   "outputs": [],
   "source": [
    "most_streamed_songs = pd.read_csv('most_streamed_songs.csv') #load data to Pandas DataFrame\n",
    "# do something with the DataFrame\n",
    "most_streamed_songs.to_csv('./updated_most_streamed_songs.csv', index = False) #save data to a CSV"
   ]
  },
  {
   "cell_type": "markdown",
   "metadata": {},
   "source": [
    "#### Create a DataFrame"
   ]
  },
  {
   "cell_type": "markdown",
   "metadata": {},
   "source": [
    "Let´s try to pass a dictionary to pd.DataFrame():"
   ]
  },
  {
   "cell_type": "code",
   "execution_count": null,
   "metadata": {},
   "outputs": [],
   "source": [
    "most_streamed_songs = {\"songs\": [\"Shape of You\",\"Blinding Lights\", \"Dance Monkey\", \"Rockstar\", \"One Dance\"],\n",
    "                       \"artist\": [\"Ed Sheeran\",\"The Weeknd\", \"Tones and I\", \"Post Malone\", \"Drake\"],\n",
    "                       \"album\": [\"Divide\",\"After Hours\",\"The Kids Are Coming\", \"Beerbongs & Bentleys\", \"Views\"],\n",
    "                       \"streams_in_millions\": [2.960, 2.613, 2.395, 2.291, 2.160],\n",
    "                       \"publish_year\": [2017, 2019, 2019, 2017, 2016]}\n",
    "\n",
    "most_streamed_songs = pd.DataFrame(most_streamed_songs)\n",
    "display(most_streamed_songs) #this works only in jupyter"
   ]
  },
  {
   "cell_type": "markdown",
   "metadata": {},
   "source": [
    "It is also possible to take lists and use the keyword argument *columns* to pass a list of column names:"
   ]
  },
  {
   "cell_type": "code",
   "execution_count": null,
   "metadata": {},
   "outputs": [],
   "source": [
    "most_streamed_songs = [[\"Shape of You\", \"Ed Sheeran\", \"Divide\", 2.960, 2017],\n",
    "                       [\"Blinding Lights\",\"The Weeknd\",\"After Hours\",2.613,2019],\n",
    "                       [\"Dance Monkey\", \"Tones and I\", \"The Kids Are Coming\", 2.395, 2019],\n",
    "                       [\"Rockstar\", \"Post Malone\", \"Beerbongs & Bentleys\", 2.291, 2017],\n",
    "                       [\"One Dance\", \"Drake\", \"Views\", 2.160, 2016]]\n",
    "                       \n",
    "most_streamed_songs = pd.DataFrame(most_streamed_songs, columns =  [\"songs\", \"artist\", \"album\", \"streams_in_millions\", \"publish_year\"])\n",
    "display(most_streamed_songs)  #this works only in jupyter"
   ]
  },
  {
   "cell_type": "markdown",
   "metadata": {},
   "source": [
    "#### Working with DataFrames\n",
    "\n",
    "Now, we want to work with a DataFrame. Therefore, we need to import a module we wrote before:"
   ]
  },
  {
   "cell_type": "code",
   "execution_count": null,
   "metadata": {},
   "outputs": [],
   "source": [
    "%load_ext autoreload\n",
    "%autoreload 2 "
   ]
  },
  {
   "cell_type": "code",
   "execution_count": null,
   "metadata": {},
   "outputs": [],
   "source": [
    "def get_covid_data(loc = [\"Austria\", \"Italy\", \"Germany\"], \n",
    "             cols = [\"iso_code\", \"location\", \"date\", \"total_cases\", \"new_cases\", \"total_deaths\", \"new_deaths\", \"population\"],\n",
    "             start_date = \"2021-11-04\"):\n",
    "\n",
    "    data_original = pd.read_csv(\"https://raw.githubusercontent.com/owid/covid-19-data/master/public/data/owid-covid-data.csv\")\n",
    "    data = data_original.copy()\n",
    "    data = data[data.location.isin(loc)]\n",
    "    data = data.loc[(data.date >= start_date) & (data.date <= str(date.today()))][cols]\n",
    "    #data.to_csv(f'COVID-19_AUT_GER_IT_{\"_\".join(start_date.split(\"-\"))}_TO_{\"_\".join(str(date.today()).split(\"-\"))}.csv')\n",
    "    return data.reset_index(drop = True)"
   ]
  },
  {
   "cell_type": "code",
   "execution_count": null,
   "metadata": {},
   "outputs": [],
   "source": [
    "data = get_covid_data() # have a look at the code of get_data -  the variable data is now a pd.DataFrame\n",
    "display(data)"
   ]
  },
  {
   "cell_type": "markdown",
   "metadata": {},
   "source": [
    "#### Inspect DataFrame\n",
    "Now we have a DataFrame and want to have a look at it. If we work with a small DataFrame, we can simply use print(DataFrame) or in jupyter display(DataFrame).  \n",
    "If it's a larger DataFrame, pandas offers some helpfull methodes:\n",
    "\n",
    "`data.head()`- shows the first 5 rows   \n",
    "`data.info()`  -shows a summary of the DataFrame including the index dtype and columns, non-null values and memory usage.   \n",
    "`data.tail()` - shows the last 5 rows   "
   ]
  },
  {
   "cell_type": "code",
   "execution_count": null,
   "metadata": {},
   "outputs": [],
   "source": [
    "display(data.head()) # display just works in Jupyter\n",
    "display(data.info()) # display just works in Jupyter\n",
    "display(data.tail()) # display just works in Jupyter"
   ]
  },
  {
   "cell_type": "markdown",
   "metadata": {},
   "source": [
    "With the methods `.head()` and `.tail()` 5 rows will be displayed. But you can change the amount easily when you fill in another number."
   ]
  },
  {
   "cell_type": "code",
   "execution_count": null,
   "metadata": {},
   "outputs": [],
   "source": [
    "display(data.head(3)) # display just works in Jupyter\n",
    "display(data.tail(3))# display just works in Jupyter"
   ]
  },
  {
   "cell_type": "markdown",
   "metadata": {},
   "source": [
    "#### Pandas get rows and columns\n",
    "Sometimes, you just want a few rows or columns of your DataFrame. There are different ways one can get a column in pandas. The following are the ones we recomand to use:"
   ]
  },
  {
   "cell_type": "markdown",
   "metadata": {},
   "source": [
    "##### `.loc` method\n",
    "\n",
    "**Python-Syntax:**\n",
    "\n",
    "```python\n",
    "df.loc[row_start:row_end, columns]\n",
    "``` \n",
    "\n",
    "The method lets you access the rows and columns you want to have. You need square brackets and then you specify, which rows you want by their index. If you want all rows, just make a `:`.\n",
    "\n",
    "**Attention:** It the first and second index are both included!"
   ]
  },
  {
   "cell_type": "code",
   "execution_count": null,
   "metadata": {},
   "outputs": [],
   "source": [
    "display(data.loc[1:4, \"total_cases\"], \"\\n\")\n",
    "print(data.loc[:, \"total_cases\"])"
   ]
  },
  {
   "cell_type": "markdown",
   "metadata": {},
   "source": [
    "##### `df[]` method\n",
    "\n",
    "**Python-Syntax:**\n",
    "\n",
    "```python\n",
    "df[column]\n",
    "``` \n",
    "or if you want to have more than one column\n",
    "\n",
    "```python\n",
    "df[[column, column]]\n",
    "``` \n",
    "\n",
    "You can access columns in a DataFrame like in a dictionary. Just write it in square brackets.If you want to have access to more than one column, write them in a list."
   ]
  },
  {
   "cell_type": "code",
   "execution_count": null,
   "metadata": {},
   "outputs": [],
   "source": [
    "print(data[\"total_cases\"])\n",
    "print(data[[\"total_cases\", \"new_cases\"]])"
   ]
  },
  {
   "cell_type": "markdown",
   "metadata": {},
   "source": [
    "`df.colum` method\n",
    "\n",
    "**Python-Syntax:**\n",
    "\n",
    "```python\n",
    "df.column\n",
    "``` \n",
    "\n",
    "You can access a column in a DataFrame by calling the attribute with a dot."
   ]
  },
  {
   "cell_type": "code",
   "execution_count": null,
   "metadata": {},
   "outputs": [],
   "source": [
    "print(data.total_cases)"
   ]
  },
  {
   "cell_type": "code",
   "execution_count": null,
   "metadata": {},
   "outputs": [],
   "source": [
    "#print(data[\"total_cases\"])\n",
    "#print(display(data.total_cases))\n",
    "print(data.loc[:, \"total_cases\"])"
   ]
  },
  {
   "cell_type": "markdown",
   "metadata": {},
   "source": [
    "#### Pandas get rows by index\n",
    "There are different ways one can get a row in pandas. Therefore, you need the `df.iloc` method\n",
    "\n",
    "##### **For one column:**\n",
    "\n",
    "**Python-Syntax:**\n",
    "```python\n",
    "data.iloc[<row_index>]\n",
    "``` \n",
    "\n",
    "Be aware, that if you just want to see one row, it will be displayed like this:"
   ]
  },
  {
   "cell_type": "code",
   "execution_count": null,
   "metadata": {},
   "outputs": [],
   "source": [
    "display(data.iloc[2])"
   ]
  },
  {
   "cell_type": "markdown",
   "metadata": {},
   "source": [
    "##### **For more than one row:**\n",
    "\n",
    "**Python-Syntax:**\n",
    "```python\n",
    "data.iloc[[<row_index>, <row_index>]]\n",
    "```"
   ]
  },
  {
   "cell_type": "code",
   "execution_count": null,
   "metadata": {},
   "outputs": [],
   "source": [
    "display(data.iloc[[2, 4]])"
   ]
  },
  {
   "cell_type": "markdown",
   "metadata": {},
   "source": [
    "It can also be used for a better display of one row:"
   ]
  },
  {
   "cell_type": "code",
   "execution_count": null,
   "metadata": {},
   "outputs": [],
   "source": [
    "display(data.iloc[[2]])"
   ]
  },
  {
   "cell_type": "markdown",
   "metadata": {},
   "source": [
    "##### **For a range of rows:**\n",
    "\n",
    "**Python-Syntax:**\n",
    "```python\n",
    "data.iloc[<start_row_index> : <end_row_index>]\n",
    "```\n",
    "`<start_row_index>` is inclusive, `<end_row_index>` is exclusive."
   ]
  },
  {
   "cell_type": "code",
   "execution_count": null,
   "metadata": {},
   "outputs": [],
   "source": [
    "display(data.iloc[0:10])"
   ]
  },
  {
   "cell_type": "markdown",
   "metadata": {},
   "source": [
    "#### Row selection with Logic\n",
    "Like in sets, you can select multiple rows by using logical operations. For example get all rows which fulfill the criterias 1 to n:\n",
    "\n",
    "**Python-Syntax:**\n",
    "```python\n",
    "data.loc[(<creteria_1>) & (<creteria_2>) & ... & (<creteria_n>)]\n",
    "```\n",
    "Or get all rows which fulfill one of the criterias 1 to n:\n",
    "\n",
    "**Python-Syntax:**\n",
    "```python\n",
    "data.loc[(<creteria_1>) | (<creteria_2>) | ... | (<creteria_n>)]\n",
    "```\n",
    "\n",
    "You can combine also different logical operations"
   ]
  },
  {
   "cell_type": "code",
   "execution_count": null,
   "metadata": {},
   "outputs": [],
   "source": [
    "#Get all rows with date \"2021-11-06\"\n",
    "display(data.loc[data.date == \"2021-11-06\"])\n",
    "\n",
    "#Get the entries of \"2021-11-06\" in Austria\n",
    "data.loc[(data.date == \"2021-11-06\") & (data.location == \"Austria\")]"
   ]
  },
  {
   "cell_type": "markdown",
   "metadata": {},
   "source": [
    "#### Combine row and colum slicing\n",
    "With the `df.loc[]` method, you can combine  row and column slicing.   \n",
    "So here, we want to get the `total_cases`, `new_cases`, `total_deaths` and `new_deaths` of austria from today:"
   ]
  },
  {
   "cell_type": "code",
   "execution_count": null,
   "metadata": {},
   "outputs": [],
   "source": [
    "data.loc[(data.date == \"2021-11-06\") & (data.location == \"Austria\"), [\"total_cases\", \"new_cases\", \"total_deaths\", \"new_deaths\"]]"
   ]
  },
  {
   "cell_type": "markdown",
   "metadata": {},
   "source": [
    "#### Reset index of Dataframe\n",
    "If you slice different rows the index does not change. To reset the index again you can use:\n",
    "\n",
    "**Python-Syntax:**\n",
    "```python\n",
    "data.reset_index()\n",
    "```\n",
    "This will create a new column named index. To supress this you can use the keyword argument `drop` and set it to true:\n",
    "\n",
    "**Python-Syntax:**\n",
    "```python\n",
    "data.reset_index(drop = True)\n",
    "```"
   ]
  },
  {
   "cell_type": "code",
   "execution_count": null,
   "metadata": {},
   "outputs": [],
   "source": [
    "data_aut_and_it = data[data.location.isin([\"Austria\", \"Italy\"])]\n",
    "\n",
    "#display(data_aut_and_it)\n",
    "#display(data_aut_and_it.reset_index())\n",
    "display(data_aut_and_it.reset_index(drop = True))"
   ]
  },
  {
   "cell_type": "markdown",
   "metadata": {},
   "source": [
    "#### Add columns to a dataframe\n",
    "\n",
    "If you want to add a new column, you can do it with the `df.loc[]` method. \n",
    "\n",
    "**Python-Syntax:**\n",
    "```python\n",
    "data.loc[index_row_start:index_row_end, new_colum] = [new_values]\n",
    "```\n",
    "\n",
    "**Attention**: You need exacly as many new values as rows. Or just one value which gets assigned each row."
   ]
  },
  {
   "cell_type": "code",
   "execution_count": null,
   "metadata": {},
   "outputs": [],
   "source": [
    "copy_data = data.copy()\n",
    "# This will not work because we have more than 12 columns\n",
    "# copy_data.loc[:, \"continent\"] = [\"Europe\", \"Asia\", \"Europe\", \"Asia\", \"Europe\", \"Asia\", \"Europe\", \"Asia\", \"Europe\", \"Asia\", \"Europe\", \"Asia\"]\n",
    "# display(copy_data)\n",
    "# Overwrite the column \"continent\" with Europe\n",
    "copy_data.loc[:, \"continent\"] = \"Europe\"\n",
    "display(copy_data)"
   ]
  },
  {
   "cell_type": "markdown",
   "metadata": {},
   "source": [
    "#### Compute the rolling window \n",
    "Rolling window? If you want to compute mean of the last 3 days of each value in the DataFrame, you need a rolling window by using the method `rolling()`. Therefore, you can add a the parameter `min_period` to make sure, that at least 2 values are in the DataFrame to compute the mean.\n",
    "\n",
    "**Python-Syntax:**\n",
    "```python\n",
    "data.rolling(<window_size>).function() \n",
    "```"
   ]
  },
  {
   "cell_type": "code",
   "execution_count": null,
   "metadata": {},
   "outputs": [],
   "source": [
    "# Compute the max new cases of the last 3 days\n",
    "data.loc[:, \"new_cases_max_3d\"] = data.loc[:, \"new_cases\"].rolling(3, min_periods=2).max()\n",
    "display(data)"
   ]
  },
  {
   "cell_type": "markdown",
   "metadata": {
    "cell_id": "00000-3ca2cbd2-fc3a-43c0-815b-29870b5010a9",
    "deepnote_cell_type": "markdown"
   },
   "source": [
    "## Data Visualization in Python\n",
    "\n",
    "In this course we will work with real data and analyze it. To draw transparent conclusions, data visualization is key, therefore one of the most common plotting librarie in python is presented for you in this notebook. We will show how to approach creating different plot types using matplotlib.   \n",
    "\n",
    "There are also a lot of other ploting libraries a very common and easy to use library is ploty, this library lets you also easily create interactive plots.   \n",
    "\n",
    "For this unit we use covid data from the last year which is stored in a `pickle`-file (`tutorial_3_data.p`). \n",
    "What the `pickle` library is, what it really does and if one can eat it 🥒 is not really relevant right now, we will just leave it be with executing the cell. \n",
    "\n",
    "The data loaded from the pickle-file contains data of the hospital- and icu-patients for each day starting from January 1st 2020 to November 7th 2020 for three countries: Austria, Germany and Italy.\n",
    "\n",
    "Using `matplotlib`, we will show you how to plot\n",
    "* single line graphs\n",
    "* multi line graphs\n",
    "* subplots (multiple plots in one graph)\n",
    "\n",
    "If you want to visualize other plot types (like histograms, scatter plots, bar plots, ...) visit the documentations of the plotting librariy in the respective section of the notebook.\n"
   ]
  },
  {
   "cell_type": "markdown",
   "metadata": {
    "cell_id": "00001-17a3bff2-59f9-4db3-99ab-ba1c12ea35ac",
    "deepnote_cell_type": "markdown"
   },
   "source": [
    "## Matplotlib\n",
    "\n",
    "\n",
    "Matplotlib is a Python library where the syntax is similar to the plotting environment in MATLAB. While it might be one of the more \"traditional\" plotting libraries in python, it is still widely used and you should have definitely heard about it in your programming career. Just think about it like an old trusty bike from your childhood that takes a lot of convincing when riding up a steep hill and is most likely passed by its younger bike-decendants but still will never let you down. 🚲\n",
    "\n",
    "For the full documentation of `matplotlib`, visit [here](https://matplotlib.org/).\n",
    "\n",
    "[This video tutorial (1h 34min)](https://www.youtube.com/watch?v=wB9C0Mz9gSo) covers all the basics you need to know and more (we will focus on line plots, histograms, and scatter plots).\n",
    "\n",
    "Before we start working, we need to import matplotlib into our Python environment:"
   ]
  },
  {
   "cell_type": "markdown",
   "metadata": {
    "cell_id": "00002-04f435b6-69a7-4ed5-8c84-b4aea850061b",
    "deepnote_cell_type": "markdown",
    "tags": []
   },
   "source": [
    "### Installation\n",
    "\n",
    "Matplotlib is an external package which is not included in the python standard library so you have to install it using pip.\n",
    "\n",
    "If you have a windows machine, use\n",
    "```\n",
    "pip install matplotlib\n",
    "```\n",
    "\n",
    "\n",
    "If your computer runs on macOS or Linux, type\n",
    "```\n",
    "pip3 install matplotlib\n",
    "```\n",
    "\n",
    "Or you can also execute this cell:"
   ]
  },
  {
   "cell_type": "code",
   "execution_count": null,
   "metadata": {},
   "outputs": [],
   "source": [
    "! pip install matplotlib"
   ]
  },
  {
   "cell_type": "markdown",
   "metadata": {},
   "source": [
    "We then have to import the `matplotlib.pyplot` package into our project. It's common to use the `plt` abbrevation for that. (like `pd` for the `pandas` package or `np` for `numpy`)"
   ]
  },
  {
   "cell_type": "code",
   "execution_count": null,
   "metadata": {
    "cell_id": "00002-b4f53f3e-1319-4923-9caa-4e34d4979365",
    "deepnote_cell_type": "code",
    "deepnote_to_be_reexecuted": false,
    "execution_millis": 493,
    "execution_start": 1637661086616,
    "source_hash": "19641f9c"
   },
   "outputs": [],
   "source": [
    "import matplotlib.pyplot as plt # or from matplotlib import pyplot as plt"
   ]
  },
  {
   "cell_type": "markdown",
   "metadata": {
    "cell_id": "00003-f67ae211-2a94-492e-81f5-86472ec68002",
    "deepnote_cell_type": "markdown"
   },
   "source": [
    "But what use has a plotting library without data? We will have to unpickle our pickle-object `tutorial_3_data.p`.\n",
    "\n",
    "Now it's the perfect time to think about a meaningful, intuitive and heartwarming variablename so that the curious reader of our notebook can already guess what the value of the variable is just by reading its name 😇. Think... Think.. Yes, we will call it `data`!\n",
    "`data` reveals itself to be just another ordinary dictionary. Sneaky!"
   ]
  },
  {
   "cell_type": "code",
   "execution_count": null,
   "metadata": {
    "cell_id": "00004-d3141961-b962-4493-bcce-b8c9509f120a",
    "deepnote_cell_type": "code",
    "deepnote_to_be_reexecuted": false,
    "execution_millis": 4,
    "execution_start": 1637661087116,
    "source_hash": "3aea3202"
   },
   "outputs": [],
   "source": [
    "# read data for plotting from tutorial_3_data.p file (available from TC)\n",
    "import pickle \n",
    "\n",
    "with open(\"tutorial_3_data.p\", \"rb\") as p:\n",
    "    data = pickle.load(p)"
   ]
  },
  {
   "cell_type": "markdown",
   "metadata": {
    "cell_id": "00005-f25978c1-1d42-4a72-ab71-6633e7f1fcaa",
    "deepnote_cell_type": "markdown"
   },
   "source": [
    "We can also `print` our data to have a closer look at what we are going to visualize 😉"
   ]
  },
  {
   "cell_type": "code",
   "execution_count": null,
   "metadata": {
    "cell_id": "00006-ca3c3d1f-64fa-4f2c-90ec-846270926df5",
    "deepnote_cell_type": "code",
    "deepnote_to_be_reexecuted": false,
    "execution_millis": 55,
    "execution_start": 1637661087140,
    "source_hash": "228f532"
   },
   "outputs": [],
   "source": [
    "print(data)"
   ]
  },
  {
   "cell_type": "markdown",
   "metadata": {
    "cell_id": "00007-bae4bd97-5fcf-421f-ba41-98c4d455f409",
    "deepnote_cell_type": "markdown"
   },
   "source": [
    "### Single and Multiple Line Graphs\n",
    "\n",
    "Line graphs are helpful to show how a variable changes over time. They can be created by using `plt.plot(<x_values>, <y_values>)`.\n",
    "Don't forget to create a new, empty figure object before with `plt.figure()`! \n",
    "We can pass the `figsize` argument to the `.plot` to define the size of our figure object beforehand. `figsize` is a tuple in the form of `(<width>, <height>)` where the values are given in inch.\n",
    "\n",
    "We can label the x- and y- axes by using `plt.xlabel()` and `plt.ylabel()`. The plot title can be set by using `plt.title()`.\n",
    "\n",
    "Let's plot the number of total hospital patients over time in Austria."
   ]
  },
  {
   "cell_type": "code",
   "execution_count": null,
   "metadata": {
    "cell_id": "00008-1a4ce303-c992-4b69-b1b9-5b6bfa0fde8d",
    "deepnote_cell_type": "code",
    "deepnote_output_heights": [
     530.703125
    ],
    "deepnote_to_be_reexecuted": false,
    "execution_millis": 386,
    "execution_start": 1637661087234,
    "source_hash": "fc67862d"
   },
   "outputs": [],
   "source": [
    "# creating a single line plot\n",
    "plt.figure(figsize = (15,10)) \n",
    "plt.plot(data[\"Austria\"][\"date\"], data[\"Austria\"][\"hosp_patients\"] )\n",
    "plt.xlabel('Time')\n",
    "plt.ylabel(\"#Hospital patients\")\n",
    "plt.title('Hospital patients in Austria')\n",
    "\n",
    "plt.show()"
   ]
  },
  {
   "cell_type": "markdown",
   "metadata": {
    "cell_id": "00010-350894aa-c687-4a65-abd8-936be55e0ed3",
    "deepnote_cell_type": "markdown",
    "tags": []
   },
   "source": [
    "This looks like a proper line plot for me! 📈 \n",
    "Note that in the last line we used `plt.show()` to show our plot. In most IPython Environments (like jupyter lab or if we open the Notebook in Visual Studio Code) we don't actually need to use `plt.show()`. Try out what happens if you comment the last line. However, if you are plotting inside a \"normal\" python script (suffix `.py`) and executing it from a terminal, you need to use `plt.show()`, otherwise it won't show. \n",
    "\n",
    "\n",
    "We can add multiple line plots over each other by just calling `plt.plot()` again, this time with the y-values for the `icu_patients` entries. Two make the two lines distingishuable, we can add a legend to the plot using `plt.legend()`. But before we do that we have to give each of our lines a label: This is done inside of the `plt.plot()` function. "
   ]
  },
  {
   "cell_type": "code",
   "execution_count": null,
   "metadata": {
    "cell_id": "00010-798b8626-5986-48e0-b537-1d2acdb54db3",
    "deepnote_cell_type": "code",
    "deepnote_output_heights": [
     530.703125
    ],
    "deepnote_to_be_reexecuted": false,
    "execution_millis": 360,
    "execution_start": 1637661087742,
    "source_hash": "b2decb77"
   },
   "outputs": [],
   "source": [
    "# creating a plot with multiple lines\n",
    "plt.figure(figsize = (15,10))\n",
    "plt.plot(data[\"Austria\"][\"date\"], data[\"Austria\"][\"hosp_patients\"], label='non icu patients')\n",
    "plt.plot(data[\"Austria\"][\"date\"], data[\"Austria\"][\"icu_patients\"], label='icu patients')\n",
    "\n",
    "plt.xlabel('Time')\n",
    "plt.ylabel(\"#Hospital patients\")\n",
    "plt.title('Hospital patients in Austria')\n",
    "plt.legend()\n",
    "\n",
    "plt.show()"
   ]
  },
  {
   "cell_type": "markdown",
   "metadata": {
    "cell_id": "00010-9c90c48d-e5cb-4f3f-9eda-b4fa15d21538",
    "deepnote_cell_type": "markdown",
    "tags": []
   },
   "source": [
    "### Subplots\n",
    "If we want to display two lines side-by-side rather than in the same set of x- and y-axes, subplots are a good way to do that.  \n",
    "They can be designed in many different ways. A layout has rows and columns of subplots.\n",
    "This is given as follows: `plt.subplot(num_rows, num_cols, index)`\n",
    "So every time we call `plt.subplot` we have to define the number of rows and the number of columns for the plot. The last parameter is the index which defines the location of the subplot on the canvas. You might recognize this syntax from MATLAB. In the \"fancy plotting\" section we will also look at the `plt.subplots` package which is way more pythonic, so bear with us! \n",
    "\n",
    "The following figure has two subplots split into 1 row and 2 columns.  "
   ]
  },
  {
   "cell_type": "code",
   "execution_count": null,
   "metadata": {
    "cell_id": "00011-a64a12e4-2b00-4a81-971b-3ba0f803e4ef",
    "deepnote_cell_type": "code",
    "deepnote_output_heights": [
     387.59375
    ],
    "deepnote_to_be_reexecuted": false,
    "execution_millis": 532,
    "execution_start": 1637661088151,
    "source_hash": "a00dbf29",
    "tags": []
   },
   "outputs": [],
   "source": [
    "plt.figure(figsize = (17,8))\n",
    "\n",
    "plt.subplot(1,2,1)\n",
    "plt.plot(data[\"Austria\"][\"date\"], data[\"Austria\"][\"hosp_patients\"], color='DarkCyan')\n",
    "plt.xlabel('Time')\n",
    "plt.ylabel(\"#Hospital patients\")\n",
    "plt.ylim([0, 1700]) # if you use subplots, defining a y-limit makes them more comparable\n",
    "plt.title('non icu patients in Austria')\n",
    "\n",
    "plt.subplot(1,2,2)\n",
    "plt.plot(data[\"Austria\"][\"date\"], data[\"Austria\"][\"icu_patients\"], color='#DC143C')\n",
    "plt.xlabel('Time')\n",
    "plt.ylabel(\"#ICU patients\")\n",
    "plt.ylim([0, 1700])\n",
    "plt.title('icu patients in Austria')\n",
    "\n",
    "plt.show()"
   ]
  },
  {
   "cell_type": "markdown",
   "metadata": {
    "cell_id": "00010-75de2652-187b-4b85-b17d-ebbb22031108",
    "deepnote_cell_type": "markdown",
    "tags": []
   },
   "source": [
    "### Linedesigns\n",
    "\n",
    "To modify lines, matplotlib offers many different Linestyles.   \n",
    "The `plot()` function can accept parameters to set the color(`color`), linestyle(`linestyle`), width(`linewidth`) and marker(`marker`). \n",
    "\n",
    "##### `color`\n",
    "Color  values can be [HTML color names](https://www.w3schools.com/colors/colors_names.asp) or [HEX codes](https://www.w3schools.com/colors/colors_picker.asp) . Also, matplotlib has it's own list of named colors, which can be seen below. "
   ]
  },
  {
   "cell_type": "markdown",
   "metadata": {
    "cell_id": "00015-ce664f09-f788-496e-8e99-9e56ef3f937f",
    "deepnote_cell_type": "markdown",
    "tags": []
   },
   "source": [
    "![Matplotlib Base Colors](https://matplotlib.org/stable/_images/sphx_glr_named_colors_001.png)\n",
    "![Matplotlib CSS Colors](https://matplotlib.org/stable/_images/sphx_glr_named_colors_003.png)"
   ]
  },
  {
   "cell_type": "markdown",
   "metadata": {
    "cell_id": "00016-c142a800-3a1b-481b-b2f8-17a7c29ff74d",
    "deepnote_cell_type": "markdown",
    "tags": []
   },
   "source": [
    "##### `linewidth`\n",
    "\n",
    "Linewidth sets the line width in points. By default, the `linewidth` is 1. The ´linewidth´ can be any float number smaller and bigger than 1, e.g. 7 or 0.25.\n",
    "\n",
    "\n",
    "##### `linestyle`\n",
    "Line styles can be dashed(`'--'`) or dotted(`':'`). You can also set `linewidth` to `\"solid\"`, `\"dashed\"` or `\"dotted\"`. Those linestyles are named, possible values are strings. \n",
    "\n",
    "\n",
    "|linestyle  | description |\n",
    "| ------ | ------ |\n",
    "| `'-'` or `'solid'` | solid line |\n",
    "|`'--'` or  `'dashed'`| dashed line |\n",
    "|`'-.'` or  `'dashdot'` |  dash-dotted line |\n",
    "|`':'` or `'dotted'` | dotted line |\n",
    "|`'none'`, `'None'`, `' '`, or `''` |  draw nothing |\n"
   ]
  },
  {
   "cell_type": "markdown",
   "metadata": {
    "cell_id": "00017-d192033c-a4e9-4047-83b2-70c537434cc3",
    "deepnote_cell_type": "markdown",
    "tags": []
   },
   "source": [
    "Also, a [dash tuple](https://matplotlib.org/stable/gallery/lines_bars_and_markers/linestyles.html) of the following form can be provided: (offset, onoffseq)\n",
    "where `onoffseq` is an even length tuple of on and off in points. \n",
    "\n",
    "##### `marker`\n",
    "Markers can be circles(`'o'`), squares(`'s'`), stars(`'*'`) [and maaaaany mooore .. ](https://matplotlib.org/stable/api/markers_api.html). ⭐️"
   ]
  },
  {
   "cell_type": "markdown",
   "metadata": {
    "cell_id": "00014-762c7597-419e-4ff2-80a5-1f599a249b3e",
    "deepnote_cell_type": "markdown",
    "tags": []
   },
   "source": [
    "### Plotting with pandas\n",
    "\n",
    "Pandas has built-in plotting functions that makes use of matplotlib! 🥳🐼"
   ]
  },
  {
   "cell_type": "code",
   "execution_count": null,
   "metadata": {
    "cell_id": "00015-bd80c3f5-6202-44c1-b054-64830d81227b",
    "deepnote_cell_type": "code",
    "deepnote_to_be_reexecuted": false,
    "execution_millis": 5,
    "execution_start": 1637661090246,
    "source_hash": "9b82ee11",
    "tags": []
   },
   "outputs": [],
   "source": [
    "import pandas as pd"
   ]
  },
  {
   "cell_type": "markdown",
   "metadata": {
    "cell_id": "00021-25fec517-85b5-4530-bcbe-1ddf4a5dd31d",
    "deepnote_cell_type": "markdown",
    "tags": []
   },
   "source": [
    "This time, we will read the data directly from the web using pandas."
   ]
  },
  {
   "cell_type": "code",
   "execution_count": null,
   "metadata": {
    "cell_id": "00015-1fba37e7-e554-451a-9252-171fc1a43a39",
    "deepnote_cell_type": "code",
    "deepnote_to_be_reexecuted": false,
    "execution_millis": 877,
    "execution_start": 1637661090302,
    "source_hash": "ede968e",
    "tags": []
   },
   "outputs": [],
   "source": [
    "df = pd.read_csv(\"https://raw.githubusercontent.com/owid/covid-19-data/master/public/data/owid-covid-data.csv\")\n",
    "df.info()"
   ]
  },
  {
   "cell_type": "markdown",
   "metadata": {
    "cell_id": "00017-ddd84349-f19a-4cb9-90a8-3ecb083f9cfd",
    "deepnote_cell_type": "markdown",
    "tags": []
   },
   "source": [
    "Now we will plot data directly from our DataFrame `df`:"
   ]
  },
  {
   "cell_type": "code",
   "execution_count": null,
   "metadata": {
    "cell_id": "00018-435e99ab-3b6d-427c-b076-b69d56d18e9c",
    "deepnote_cell_type": "code",
    "deepnote_output_heights": [
     21.109375,
     539.09375
    ],
    "deepnote_to_be_reexecuted": false,
    "execution_millis": 418,
    "execution_start": 1637661091199,
    "source_hash": "eb9f0b94",
    "tags": []
   },
   "outputs": [],
   "source": [
    "data_AT = df.loc[df.location == 'Austria']\n",
    "data_AT.plot('date', ['hosp_patients', 'icu_patients'], color=['DarkCyan', '#DC143C'],\n",
    "             figsize=(15, 10), grid=True, title=\"Hospital Cases in Austria over time\")"
   ]
  },
  {
   "cell_type": "code",
   "execution_count": null,
   "metadata": {
    "cell_id": "00019-f090a1b1-c9de-48ae-a9cd-df1604f37328",
    "deepnote_cell_type": "code",
    "deepnote_output_heights": [
     564.84375
    ],
    "deepnote_to_be_reexecuted": false,
    "execution_millis": 773,
    "execution_start": 1637661091682,
    "source_hash": "a7d4a1bd",
    "tags": []
   },
   "outputs": [],
   "source": [
    "import matplotlib.dates as mdates # we use this to space our date-xticks\n",
    "\n",
    "plt.figure(figsize = (15,10))\n",
    "\n",
    "time_axis = df.loc[df.location == \"Austria\", \"date\"]\n",
    "hosp_patients = df.loc[df.location == \"Austria\", \"hosp_patients\"]\n",
    "icu_patients = df.loc[df.location == \"Austria\", \"icu_patients\"]\n",
    "\n",
    "plt.plot(time_axis, hosp_patients, color = 'DarkCyan', linewidth = 2)\n",
    "plt.plot(time_axis, icu_patients, color= '#DC143C')\n",
    "\n",
    "plt.gca().xaxis.set_major_locator(mdates.MonthLocator(interval=1))\n",
    "plt.xlabel('Time')\n",
    "plt.xticks(rotation=45)\n",
    "\n",
    "plt.ylabel(\"#Hospital patients\")\n",
    "plt.title('Hospital patients in Austria')\n",
    "plt.legend(['non icu patients', 'icu patients'])\n",
    "plt.grid()\n",
    "plt.show()"
   ]
  },
  {
   "cell_type": "markdown",
   "metadata": {
    "cell_id": "00012-91901421-5c99-4f9f-b846-bac52c6c6702",
    "deepnote_cell_type": "markdown",
    "tags": []
   },
   "source": [
    "### Some fancy plotting \n",
    "\n",
    "If you want to try many other features of matplotlib and you want to get inspired, just click here:\n",
    "\n",
    "https://matplotlib.org/gallery/index.html \n",
    "\n",
    "In this example we want to look at the histogram of two-dimensional data that follows a gaussian distribution. To get the gaussian data we will import the package `numpy`."
   ]
  },
  {
   "cell_type": "code",
   "execution_count": null,
   "metadata": {
    "cell_id": "00023-0363be1e-ab6c-46c7-a083-b7e88d4aa268",
    "deepnote_cell_type": "code",
    "deepnote_to_be_reexecuted": false,
    "execution_millis": 2,
    "execution_start": 1637661092462,
    "source_hash": "d19146ce",
    "tags": []
   },
   "outputs": [],
   "source": [
    "import numpy as np\n",
    "\n",
    "np.random.seed(42)\n",
    "\n",
    "data_2 = np.random.randn(2, 1000)\n",
    "print(type(data_2))\n",
    "\n",
    "x_4 = data_2[0]\n",
    "y_4 = data_2[1]"
   ]
  },
  {
   "cell_type": "markdown",
   "metadata": {
    "cell_id": "00028-ffbc3066-ff61-4c17-9be0-e6619ea4061f",
    "deepnote_cell_type": "markdown",
    "tags": []
   },
   "source": [
    "Note that instead of the subplot-example above where we used the `plt.subplot` function, we now use `plt.subplots`. \n",
    "We pass the number of rows and the number of columns as positional arguments to the function and can also define the `figsize`. It then returns a figure object and a tuple containing \"axis-objects\" that we can access like in a matrix. Note that the syntax for axis-objects (for example for setting the x-label, title, ...) is a little different to the normal `plt` environment."
   ]
  },
  {
   "cell_type": "code",
   "execution_count": null,
   "metadata": {
    "cell_id": "00023-0b359cbc-eed5-4c6b-b2dd-02093ad4e8e0",
    "deepnote_cell_type": "code",
    "deepnote_output_heights": [
     605.984375
    ],
    "deepnote_to_be_reexecuted": false,
    "execution_millis": 698,
    "execution_start": 1637661092594,
    "source_hash": "80afef98",
    "tags": []
   },
   "outputs": [],
   "source": [
    "fig, axes = plt.subplots(2, 2, figsize=(10, 10))\n",
    "\n",
    "# 2D gaussian distributed data\n",
    "axes[1, 0].scatter(x_4, y_4, color=\"orange\", s=20) # scatter plot\n",
    "axes[1, 0].set_xlabel(\"x\") \n",
    "axes[1, 0].set_ylabel(\"y\")\n",
    "axes[1, 0].set_title(\"Gaussian distributed data\")\n",
    "axes[1, 0].set_axisbelow(True) # set grid behind the data points\n",
    "axes[1, 0].grid()\n",
    "\n",
    "axes[0, 0].hist(x_4, bins=15, edgecolor=\"black\", color='red')\n",
    "axes[0, 0].set_ylabel(\"Frequency\")\n",
    "axes[0, 0].set_title(\"Histogram for x-values\")\n",
    "axes[0, 0].set_axisbelow(True) # set grid behind the data points\n",
    "axes[0, 0].grid()\n",
    "\n",
    "axes[0, 1].axis('off') # this deletes the second subplot\n",
    "\n",
    "axes[1, 1].hist(y_4, bins=15, edgecolor=\"black\", color='violet', orientation='horizontal')\n",
    "axes[1, 1].set_xlabel(\"Frequency\")\n",
    "axes[1, 1].set_title(\"Histogram for y-values\")\n",
    "axes[1, 1].set_axisbelow(True) # set grid behind the data points\n",
    "axes[1, 1].grid()\n",
    "\n",
    "plt.show()"
   ]
  },
  {
   "cell_type": "markdown",
   "metadata": {},
   "source": [
    "# NetworkX\n",
    "NetworkX is a Python package for the creation, manipulation, and study of the structure, dynamics, and functions of complex networks. [Here](https://networkx.org/documentation/stable/tutorial.html) is a written tutorial of the basics of the library.  \n",
    "[This video tutorial (8min)](https://www.youtube.com/watch?v=flwcAf1_1RU) covers the basic usage of networkx.\n"
   ]
  },
  {
   "cell_type": "markdown",
   "metadata": {
    "cell_id": "00002-04f435b6-69a7-4ed5-8c84-b4aea850061b",
    "deepnote_cell_type": "markdown",
    "tags": []
   },
   "source": [
    "### Installation\n",
    "\n",
    "NetworkX is an external package which is not included in the python standard library so you have to install it using pip.\n",
    "\n",
    "If you have a windows machine, use\n",
    "```\n",
    "pip install networkx\n",
    "```\n",
    "\n",
    "\n",
    "If your computer runs on macOS or Linux, type\n",
    "```\n",
    "pip3 install networkx\n",
    "```\n",
    "\n",
    "Or you can execute this cell:"
   ]
  },
  {
   "cell_type": "code",
   "execution_count": null,
   "metadata": {},
   "outputs": [],
   "source": [
    "! pip install networkx"
   ]
  },
  {
   "cell_type": "markdown",
   "metadata": {},
   "source": [
    "Now we need to import the package like this:"
   ]
  },
  {
   "cell_type": "code",
   "execution_count": null,
   "metadata": {},
   "outputs": [],
   "source": [
    "import networkx as nx"
   ]
  },
  {
   "cell_type": "markdown",
   "metadata": {},
   "source": [
    "Now lets start with networkx, we first create an emty graph. By definition, a Graph is a collection of nodes (vertices) along with identified pairs of nodes (called edges, links, etc). In NetworkX, nodes can be any hashable object e.g., a text string, an image, an XML object, another Graph, a customized node object, etc."
   ]
  },
  {
   "cell_type": "code",
   "execution_count": null,
   "metadata": {},
   "outputs": [],
   "source": [
    "G = nx.Graph()"
   ]
  },
  {
   "cell_type": "markdown",
   "metadata": {},
   "source": [
    "The graph G can be grown in several ways. You can add one node at a time:"
   ]
  },
  {
   "cell_type": "code",
   "execution_count": null,
   "metadata": {},
   "outputs": [],
   "source": [
    "G.add_node(1)"
   ]
  },
  {
   "cell_type": "markdown",
   "metadata": {},
   "source": [
    "or add nodes from any iterable container, such as a list"
   ]
  },
  {
   "cell_type": "code",
   "execution_count": null,
   "metadata": {},
   "outputs": [],
   "source": [
    "G.add_nodes_from([2, 3])"
   ]
  },
  {
   "cell_type": "markdown",
   "metadata": {},
   "source": [
    "You can also add nodes along with node attributes if your container yields 2-tuples of the form (node, node_attribute_dict):"
   ]
  },
  {
   "cell_type": "code",
   "execution_count": null,
   "metadata": {},
   "outputs": [],
   "source": [
    "G.add_nodes_from([\n",
    "    (4, {\"color\": \"red\"}),\n",
    "    (5, {\"color\": \"green\"}),\n",
    "])"
   ]
  },
  {
   "cell_type": "markdown",
   "metadata": {},
   "source": [
    "You can also add node attributes by using `add_node`, `add_nodes_from` or `G.nodes`"
   ]
  },
  {
   "cell_type": "code",
   "execution_count": null,
   "metadata": {},
   "outputs": [],
   "source": [
    "G.add_node(1, time='5pm')\n",
    "G.add_nodes_from([3], time='2pm')\n",
    "G.nodes[1]\n",
    "{'time': '5pm'}\n",
    "G.nodes[1]['room'] = 714\n",
    "G.nodes.data()"
   ]
  },
  {
   "cell_type": "markdown",
   "metadata": {},
   "source": [
    "Note that adding a node to G.nodes does not add it to the graph, use `G.add_node()` to add new nodes."
   ]
  },
  {
   "cell_type": "markdown",
   "metadata": {},
   "source": [
    "The Graph can also be grown by adding edges. You can one edge at a time:"
   ]
  },
  {
   "cell_type": "code",
   "execution_count": null,
   "metadata": {},
   "outputs": [],
   "source": [
    "G.add_edge(1, 2)\n",
    "e = (2, 3)\n",
    "G.add_edge(*e)  # unpack edge tuple*"
   ]
  },
  {
   "cell_type": "markdown",
   "metadata": {},
   "source": [
    "or you can add many adges by a list of edges. Note that the adges are always defined by a tuple of the nodes which should be connected by the edge:\n"
   ]
  },
  {
   "cell_type": "code",
   "execution_count": null,
   "metadata": {},
   "outputs": [],
   "source": [
    "G.add_edges_from([(1, 2), (1, 3)])"
   ]
  },
  {
   "cell_type": "markdown",
   "metadata": {},
   "source": [
    "You can also add edge attributes with `add_edge` and `add_edges_from` as follows:"
   ]
  },
  {
   "cell_type": "code",
   "execution_count": null,
   "metadata": {},
   "outputs": [],
   "source": [
    "G.add_edge(1, 2, weight=4.7 )\n",
    "G.add_edges_from([(3, 4), (4, 5)], color='red')\n",
    "G.add_edges_from([(1, 2, {'color': 'blue'}), (2, 3, {'weight': 8})])"
   ]
  },
  {
   "cell_type": "markdown",
   "metadata": {},
   "source": [
    "You can look at the number of edges and number of nodes as following:"
   ]
  },
  {
   "cell_type": "code",
   "execution_count": null,
   "metadata": {},
   "outputs": [],
   "source": [
    "print(G.number_of_edges())\n",
    "print(G.number_of_nodes())"
   ]
  },
  {
   "cell_type": "markdown",
   "metadata": {},
   "source": [
    "Now lets do some ploting and visualizing a graph. First we create a new graph from a predefined dataset ([petersen graph](https://de.wikipedia.org/wiki/Petersen-Graph#:~:text=Der%20Petersen%2DGraph%20(benannt%20nach,3%2C3%2C3).)). For this we use the networkx drawing module. There are different ways to draw a graph and networkx already defines a lot of them. See [here](https://networkx.org/documentation/stable/reference/drawing.html) for more information."
   ]
  },
  {
   "cell_type": "code",
   "execution_count": null,
   "metadata": {},
   "outputs": [],
   "source": [
    "import matplotlib.pyplot as plt # we also need matplotlib for plotting\n",
    "G = nx.petersen_graph()\n",
    "subax1 = plt.subplot(121)\n",
    "nx.draw(G, with_labels=True, font_weight='bold')\n",
    "subax2 = plt.subplot(122)\n",
    "nx.draw_shell(G, nlist=[range(5, 10), range(5)], with_labels=True, font_weight='bold')"
   ]
  },
  {
   "cell_type": "markdown",
   "metadata": {},
   "source": [
    "For more information there is a great Tutorial [here](https://networkx.org/nx-guides/content/exploratory_notebooks/facebook_notebook.html) which goes in more detail with analyzing the graph."
   ]
  },
  {
   "cell_type": "markdown",
   "metadata": {},
   "source": [
    "# twarc\n",
    "twarc is a Python package for using the twitter API. [Here](https://twarc-project.readthedocs.io/en/latest/twarc2_en_us/) is more information about the library.\n",
    "\n",
    "For using twarc you need a twitter account. [Here](https://scholarslab.github.io/learn-twarc/02-twitter-setup.html) is a Tutorial how to setup your twitter account for using twarc with it.\n"
   ]
  },
  {
   "cell_type": "markdown",
   "metadata": {
    "cell_id": "00002-04f435b6-69a7-4ed5-8c84-b4aea850061b",
    "deepnote_cell_type": "markdown",
    "tags": []
   },
   "source": [
    "### Installation\n",
    "\n",
    "twarc is an external package which is not included in the python standard library so you have to install it using pip.\n",
    "\n",
    "If you have a windows machine, use\n",
    "```\n",
    "pip install twarc\n",
    "```\n",
    "\n",
    "\n",
    "If your computer runs on macOS or Linux, type\n",
    "```\n",
    "pip3 install twarc\n",
    "```\n",
    "\n",
    "Or you can execute this cell:"
   ]
  },
  {
   "cell_type": "code",
   "execution_count": null,
   "metadata": {},
   "outputs": [],
   "source": [
    "! pip install twarc\n",
    "! pip install tqdm # needed later for some nice progress bars"
   ]
  },
  {
   "cell_type": "markdown",
   "metadata": {},
   "source": [
    "Now we need to import the package like this:"
   ]
  },
  {
   "cell_type": "code",
   "execution_count": null,
   "metadata": {},
   "outputs": [],
   "source": [
    "from twarc import Twarc2"
   ]
  },
  {
   "cell_type": "markdown",
   "metadata": {},
   "source": [
    "First of all you need to create a `Twarc2` instance with your credentials. See [here](https://scholarslab.github.io/learn-twarc/02-twitter-setup.html#accessing-keys-and-tokens) how to get your bearer token (You can generate one in the Key and Tokens section of your app). After that you will be able to access the Twitter API with `twarc`."
   ]
  },
  {
   "cell_type": "code",
   "execution_count": null,
   "metadata": {},
   "outputs": [],
   "source": [
    "bearer_token = \"XXX\" # replace the XXX with your bearer token\n",
    "twarc_client = Twarc2(bearer_token=bearer_token)"
   ]
  },
  {
   "cell_type": "markdown",
   "metadata": {},
   "source": [
    " Now lets use the twitter API. For example, we can get basic information on the Twitter account of the New York Times:"
   ]
  },
  {
   "cell_type": "code",
   "execution_count": null,
   "metadata": {},
   "outputs": [],
   "source": [
    "print(next(twarc_client.user_lookup([\"nytimes\"], usernames=True)))"
   ]
  },
  {
   "cell_type": "markdown",
   "metadata": {},
   "source": [
    "This returns a `dictionary` with two keys. One is the `__twarc` key where the value is some information about the `twarc` call. The second and more important key is the `data` key. The value here is a list of dictionaries, where each dictionary contains the data for one user. This contains for example, the username, the id, location and other information, just look through the dictionary."
   ]
  },
  {
   "cell_type": "markdown",
   "metadata": {},
   "source": [
    "You can also get a list of users by a twitter user list id. For example when using following users id (34179516) we can use the method [`list_members`](https://twarc-project.readthedocs.io/en/latest/api/client2/#twarc.client2.Twarc2.list_members) of `twarc` to get all user information in the list.  \n",
    "Pandas method [`json_normalize`](https://pandas.pydata.org/docs/reference/api/pandas.json_normalize.html) will help you to save the json results from twarc in a flat table, since the data may not be flat, it is returned as a json from the twitter API."
   ]
  },
  {
   "cell_type": "code",
   "execution_count": null,
   "metadata": {},
   "outputs": [],
   "source": [
    "users = []\n",
    "for user in twarc_client.list_members(list_id = 34179516):\n",
    "    users.append(user)\n",
    "users = pd.json_normalize(users, record_path=['data'])\n",
    "users"
   ]
  },
  {
   "cell_type": "markdown",
   "metadata": {},
   "source": [
    "Next we want to get the timeline of the users, more specific we want to get the last 100 tweets of each user and the information about the tweets. For this we can use `twarc`'s [`timeline`](https://twarc-project.readthedocs.io/en/latest/api/client2/#twarc.client2.Twarc2.timeline) method. This returns a generator where each element contains all the tweets on one page. The twitter API contains a maximum of 100 tweets per page. If you want to extract the last >100 tweets you need to extract the tweets from the first and following pages (or the first and following elements in the timeline generator).  \n",
    "For this you iterate over all users and then call the `timeline` method (make sure you set `max_results` to 100). Now you can use pythons [`next`](https://docs.python.org/3/library/functions.html#next) function to get the next element in the iterator (The first 100 tweets). To get the second 100 tweets (100 - 200 tweets) you just have to call `next` again and so on.   "
   ]
  },
  {
   "cell_type": "code",
   "execution_count": null,
   "metadata": {},
   "outputs": [],
   "source": [
    "import tqdm # we use tqdm for some nice progress bars\n",
    "timeline = []\n",
    "# iterate with tqdm to show progress\n",
    "for userID in tqdm.tqdm(users.id.values[:20]): # Only geting data from the first 10 users so it does not take too long\n",
    "    data = twarc_client.timeline(user=userID, max_results=100)\n",
    "    timeline.append(next(data))\n",
    "    # if you want to get more tweets, you can use the next function call here\n",
    "timeline"
   ]
  },
  {
   "cell_type": "markdown",
   "metadata": {},
   "source": [
    "Notice you you may run into the [rate limit](https://developer.twitter.com/en/docs/twitter-api/rate-limits) of the Twitter API, you might have to wait up to 15 min to retrieve more tweets. Twarc will wait and resume the request automatically and print a warning. So normally you would save the data to a csv file at the end, for example with pandas."
   ]
  },
  {
   "cell_type": "markdown",
   "id": "ea4c634d",
   "metadata": {},
   "source": [
    "## Best practices"
   ]
  },
  {
   "cell_type": "markdown",
   "metadata": {},
   "source": [
    "For third party modules don't exist really a best practice since there are a lot of different convensions. Most common convesions are with importing the modules, there is in most cases a common abbrevation for the module for example pandas gets imported as `pd`, while matplotlib gets imported as `plt`. We reccomend this but it is not needed to do.   \n",
    "\n",
    "Therefore we do not include any best practices for these specific libraries but keep in mind the best practices from the basic python functionality and try to keep and use it here too (e.g. choose meaningfull variable names, watch indentation and so on)"
   ]
  }
 ],
 "metadata": {
  "kernelspec": {
   "display_name": "Python 3.9.7 64-bit",
   "language": "python",
   "name": "python3"
  },
  "language_info": {
   "codemirror_mode": {
    "name": "ipython",
    "version": 3
   },
   "file_extension": ".py",
   "mimetype": "text/x-python",
   "name": "python",
   "nbconvert_exporter": "python",
   "pygments_lexer": "ipython3",
   "version": "3.9.7"
  },
  "orig_nbformat": 4,
  "vscode": {
   "interpreter": {
    "hash": "e65133fff93ab36b53ddb68612dd6a95a21053ff6cb8524adc7f46061287cbaa"
   }
  }
 },
 "nbformat": 4,
 "nbformat_minor": 2
}
