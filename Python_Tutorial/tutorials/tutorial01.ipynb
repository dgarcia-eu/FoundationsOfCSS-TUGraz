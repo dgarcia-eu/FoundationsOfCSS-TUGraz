{
 "cells": [
  {
   "cell_type": "markdown",
   "id": "c2073762",
   "metadata": {},
   "source": [
    "# Python Tutorial 1 - Print, Comments, String, Numbers, Datastructures, Booleans and Conditions\n",
    "\n",
    "Please fill out the feedbackr when you done with this tutorial this will help us what to focus on in class. [Here](https://fbr.io/FCSS_TUT_1) is the link to it.\n",
    "\n",
    "You can also scan this QR code for the feedbackr.  \n",
    "\n",
    "![](https://i.imgur.com/OmRx2Ap.png)  \n",
    "\n",
    "If you have questions on this tutorial or corresponding exercise ask them in the feedbackr."
   ]
  },
  {
   "cell_type": "markdown",
   "id": "51e89896",
   "metadata": {},
   "source": [
    "## The notebook environment\n",
    "\n",
    "Notebook environments consist of two types of cells:\n",
    "- Markdown cells (like this one), for writing formatted text\n",
    "- Code cells, for writing and executing Python source code\n",
    "\n",
    "Also, there are two _modes_ in a notebook environment:\n",
    "- Edit mode: for changing the content of a cell\n",
    "- Command mode: for creating, moving, deleting one or multiple cells\n",
    "\n",
    "_Edit mode_ can be intered in different ways:\n",
    "- Double-click on a markdown cell\n",
    "- Single-click in a code cell\n",
    "- Hit <kbd>Enter</kbd> when any cell is selected in command mode\n",
    "\n",
    "In _edit mode_, the usual text-editing shortcuts work:\n",
    "- <kbd>Ctrl</kbd>+<kbd>c</kbd> to copy selected text\n",
    "- <kbd>Ctrl</kbd>+<kbd>v</kbd> to paste something\n",
    "- <kbd>Tab</kbd> for text completion (if your notebook environment supports it)\n",
    "\n",
    "\n",
    "To switch to _command mode_, hit <kbd>Esc</kbd>. Below you'll find some of the most commonly used shortcuts. In Colab, you'll have to press <kbd>Ctrl</kbd>+<kbd>m</kbd> before entering the shortcut, in VS Code and JupyterLab they work directly.\n",
    "- <kbd>a</kbd> create a new cell _above_ the currently selected\n",
    "- <kbd>b</kbd> create a new cell _below_ the currently selected\n",
    "- <kbd>c</kbd> copy selected cell(s)\n",
    "- <kbd>v</kbd> paste copied cell(s) below the selected one\n",
    "- <kbd>d</kbd><kbd>d</kbd> delete the selected cell(s) (yes, that's hitting <kbd>d</kbd> twice)"
   ]
  },
  {
   "cell_type": "markdown",
   "id": "d29f1e24",
   "metadata": {},
   "source": [
    "## Print\n",
    "The function `print` allows to show something to the user. The message to be printed needs to be surrounded by quotes (`\"` or `'`). The printed words that appear as a result of the `print` function are referred to as _output_. \n",
    "\n",
    "What you see below is a _code cell_. Place the cursor in the cell (i.e. click on it) and press <kbd>Shift</kbd>+<kbd>Enter</kbd> to execute it. \n",
    "\n",
    "Note: If you double click this text, its \"source code\" will be shown.<kbd>Esc</kbd>gets you back to the rendered version.\n"
   ]
  },
  {
   "cell_type": "code",
   "execution_count": null,
   "id": "8bfbfef3",
   "metadata": {},
   "outputs": [],
   "source": [
    "print(\"Hello beautiful people\")"
   ]
  },
  {
   "cell_type": "markdown",
   "id": "09c6d7f7",
   "metadata": {},
   "source": [
    "By default, the print functions also prints a _newline_ (`\\n`) at the end of the string, so the next print starts off in a new line:\n"
   ]
  },
  {
   "cell_type": "code",
   "execution_count": null,
   "id": "6503fd8f",
   "metadata": {},
   "outputs": [],
   "source": [
    "print(\"Hello\")\n",
    "print(\"Goodbye\")"
   ]
  },
  {
   "cell_type": "markdown",
   "id": "51c9dd61",
   "metadata": {},
   "source": [
    "You can also print the contents of variables:"
   ]
  },
  {
   "cell_type": "code",
   "execution_count": null,
   "id": "2dcacc75",
   "metadata": {},
   "outputs": [],
   "source": [
    "saying_hello = \"Hello there!\"\n",
    "saying_goodbye = \"Hasta la vista!\"\n",
    "\n",
    "print(saying_hello)\n",
    "print(saying_goodbye)"
   ]
  },
  {
   "cell_type": "code",
   "execution_count": null,
   "id": "258db1b4",
   "metadata": {},
   "outputs": [],
   "source": [
    "saying_hello"
   ]
  },
  {
   "cell_type": "markdown",
   "id": "41d9af38",
   "metadata": {},
   "source": [
    "What happened here?  \n",
    "__In a notebook environment, the result of the last expression is always displayed!__  \n",
    "This is _not_ normal Python behaviour. In order to show output in a terminal (or show intermediate output in a notebook environment), `print` is required."
   ]
  },
  {
   "cell_type": "markdown",
   "id": "7260d005",
   "metadata": {},
   "source": [
    "## Comments\n",
    "_Comments_ allow you to tell the Python interpreter to _ignore_ something. This is useful in two situations:\n",
    "\n",
    "- providing additional plain text information to someone reading the code\n",
    "- trying different implementations without needing to actually (re)move code\n",
    "\n",
    "In Python, comments start with a number sign (pound or hash sign): `#`. They can be placed in their own line or next to some code:"
   ]
  },
  {
   "cell_type": "code",
   "execution_count": null,
   "id": "58af2a2e",
   "metadata": {},
   "outputs": [],
   "source": [
    "# This is the first time we're using comments\n",
    "\n",
    "print(\"Commenting is great!\")  # commenting should be encouraged"
   ]
  },
  {
   "cell_type": "markdown",
   "id": "fcd40215",
   "metadata": {},
   "source": [
    "If you comment out a line of code, it won't be executed. \n",
    "\n",
    "Try to comment out the first line and uncomment the second one!"
   ]
  },
  {
   "cell_type": "code",
   "execution_count": null,
   "id": "8eb55fa7",
   "metadata": {},
   "outputs": [],
   "source": [
    "print(\"Hello\")\n",
    "# print(\"Goodbye\")"
   ]
  },
  {
   "cell_type": "markdown",
   "id": "45a6fb7a",
   "metadata": {},
   "source": [
    "Most programming environments have keyboard shortcuts to comment and uncomment a line or block of code (so you don't have to add/remove the `#` in each individual line). Most commonly, those are <kbd>Ctrl</kbd>+<kbd>/</kbd> or <kbd>Ctrl</kbd>+<kbd>#</kbd>, depending on your keyboard layout. You can try with the block of print statements below (select multiple lines and press the keys). If neither of the two works, take a look at the shortcut list (in Colab, go to \"Tools\" -> \"Keyboard shortcuts\")."
   ]
  },
  {
   "cell_type": "code",
   "execution_count": null,
   "id": "567f5ff4",
   "metadata": {},
   "outputs": [],
   "source": [
    "print(\"So\")\n",
    "print(\"many\")\n",
    "print(\"lines\")\n",
    "print(\"to\")\n",
    "print(\"(un-)\")\n",
    "print(\"comment\")"
   ]
  },
  {
   "cell_type": "markdown",
   "id": "294c984f",
   "metadata": {},
   "source": [
    "## Best practices\n",
    "- Code itself exactly states what the program will do. Therefore, instead of explaining in plain text _what_ the code does (which will often be less specific), try to explain _why_ a part of the code is needed.\n",
    "- Sometimes someone will read the code in the future, think \"oh, there should be a much easier way to do this\". This someone will often be you and the \"easy way\" may turn out to be difficult of not work at all. So, if you tried multiple approaches to a problem before you arrived at a solution, you might want to state why the others didn't work. \n",
    "- Add a single space between the `#` and the comment text for readability.\n",
    "- You'll find more best practices [here](https://pep8.org/#comments).\n"
   ]
  },
  {
   "cell_type": "markdown",
   "id": "a2817e85",
   "metadata": {},
   "source": [
    "## Strings\n",
    "- [Video tutorial (21 min)](https://www.youtube.com/watch?v=k9TUPpGqYTo)\n",
    "- [Library reference](https://docs.python.org/3/library/stdtypes.html#text-sequence-type-str)\n",
    "\n",
    "Strings hold textual data. A string in python is created with double quotes (`\"`) or single quotes (`'`) (Don't mix them up!). Each string can be seen as a sequence of characters.\n",
    "You can do a lot with strings and since Python is a cool programing language it provides a big set of string methods to use. Here are some of the most commonly used (you'll find a lot more in the [library reference](https://docs.python.org/3/library/stdtypes.html#string-methods)):\n",
    "\n",
    "| Method          | Action                                                |\n",
    "|-----------------|-------------------------------------------------------|\n",
    "| `len(string)`   | gives the length of the string (amount of characters) |\n",
    "| `string[4]`     | gives the 4th character of the string (begin to count at 0!)\n",
    "| `str.join(iterable)` | joins the iterable to a string. `str` is the delimiter between the elements |\n",
    "| `str.split(sep=None, maxsplit=-1)`| splits the string by the seperator |\n",
    "| `str.find(sub[, start[, end]])` | finds the substring in `str` and returns the index |\n",
    "| `str.replace(old, new[, count])`| replaces `old` with `new` in `str` |"
   ]
  },
  {
   "cell_type": "code",
   "execution_count": null,
   "id": "a506c5cb",
   "metadata": {},
   "outputs": [],
   "source": [
    "string_1 = \"Hello\"\n",
    "string_2 = 'World'\n",
    "\n",
    "type(string_1)"
   ]
  },
  {
   "cell_type": "markdown",
   "id": "effa93c5",
   "metadata": {},
   "source": [
    "What? Math on string? This is getting crazy.  \n",
    "But actually it makes sense:  \n",
    "Strings can be concatenated (\"put together\") using `+`"
   ]
  },
  {
   "cell_type": "code",
   "execution_count": null,
   "id": "501753c6",
   "metadata": {},
   "outputs": [],
   "source": [
    "string_1 + \" \" + string_2\n",
    "# string_2 + \" \" + string_1"
   ]
  },
  {
   "cell_type": "markdown",
   "id": "dc090cf7",
   "metadata": {},
   "source": [
    "If you want to repeat a string multiple times you can use `*`"
   ]
  },
  {
   "cell_type": "code",
   "execution_count": null,
   "id": "27db3530",
   "metadata": {},
   "outputs": [],
   "source": [
    "string_1 * 10"
   ]
  },
  {
   "cell_type": "markdown",
   "id": "0e18440d",
   "metadata": {},
   "source": [
    "To get a single character of the string you can use square brakets. Be carefull, we programmers always start with 0 when counting!  \n",
    "For example the string `hello_world = \"Hello World\"` has following indexing:  \n",
    "```python\n",
    "hello_world[0] = 'H'\n",
    "hello_world[1] = 'e'\n",
    "hello_world[2] = 'l'\n",
    "hello_world[3] = 'l'\n",
    "hello_world[4] = 'o'\n",
    "hello_world[5] = ' '\n",
    "hello_world[6] = 'W'\n",
    "hello_world[7] = 'o'\n",
    "hello_world[8] = 'r'\n",
    "hello_world[9] = 'l'\n",
    "hello_world[10] = 'd'\n",
    "```\n",
    "\n",
    "You can also get a substrings from the string by using slicing. It always follows the same pattern:  \n",
    "```python\n",
    "str[start:end:stepsize]\n",
    "```\n",
    "If there's only one colon (`:`), \n",
    "Notice `start` is always _inclusive_ while `end` is _exclusive_:\n",
    "\n",
    "```python\n",
    "hello_world[0:4] = 'Hell'\n",
    "hello_world[0:4:2] = 'Hl'\n",
    "hello_world[0:-3] = 'Hello Wo'\n",
    "hello_world[0:-3:3] = 'HlW'\n",
    "hello_world[::] = 'Hello World'\n",
    "hello_world[::-1] = 'dlroW olleH'\n",
    "```"
   ]
  },
  {
   "cell_type": "code",
   "execution_count": null,
   "id": "167b6bb6",
   "metadata": {},
   "outputs": [],
   "source": [
    "hello_world = \"Hello World\"\n",
    "hello_world[:]"
   ]
  },
  {
   "cell_type": "markdown",
   "id": "b4cde4c4",
   "metadata": {
    "tags": []
   },
   "source": [
    "Now let´s also take a look at the methods we mentioned earlier that exist for strings:"
   ]
  },
  {
   "cell_type": "code",
   "execution_count": null,
   "id": "0c3bc861",
   "metadata": {
    "tags": []
   },
   "outputs": [],
   "source": [
    "string = \"I am a string\""
   ]
  },
  {
   "cell_type": "code",
   "execution_count": null,
   "id": "efd5d4b4",
   "metadata": {
    "tags": []
   },
   "outputs": [],
   "source": [
    "len(string)"
   ]
  },
  {
   "cell_type": "code",
   "execution_count": null,
   "id": "68b4b01d",
   "metadata": {
    "tags": []
   },
   "outputs": [],
   "source": [
    "splitted_string = string.split(\"a\")\n",
    "splitted_string"
   ]
  },
  {
   "cell_type": "code",
   "execution_count": null,
   "id": "86a02e01",
   "metadata": {},
   "outputs": [],
   "source": [
    "\"_hallo_\".join(splitted_string)"
   ]
  },
  {
   "cell_type": "code",
   "execution_count": null,
   "id": "f6a13e38",
   "metadata": {
    "tags": []
   },
   "outputs": [],
   "source": [
    "string.find(\"z\") # returns the index. What happens if the substring does not exist?"
   ]
  },
  {
   "cell_type": "markdown",
   "id": "6cb8a65b",
   "metadata": {
    "tags": []
   },
   "source": [
    "## Numbers\n",
    "- [Video tutorial (12 min)](https://www.youtube.com/watch?v=khKv-8q7YmY)\n",
    "- [Library reference](https://docs.python.org/3/library/stdtypes.html#numeric-types-int-float-complex)\n"
   ]
  },
  {
   "cell_type": "markdown",
   "id": "127cce8a",
   "metadata": {
    "tags": []
   },
   "source": [
    "#### Integers:\n",
    "An Integer is a Datatype which holds whole Numbers. The Numbers can be negative or positiv. In python Integers have unlimited precision."
   ]
  },
  {
   "cell_type": "code",
   "execution_count": null,
   "id": "ebaa533d",
   "metadata": {
    "tags": []
   },
   "outputs": [],
   "source": [
    "an_integer = 5\n",
    "type(an_integer) # The type is int"
   ]
  },
  {
   "cell_type": "code",
   "execution_count": null,
   "id": "b1c0d4f1",
   "metadata": {
    "tags": []
   },
   "outputs": [],
   "source": [
    "an_integer"
   ]
  },
  {
   "cell_type": "markdown",
   "id": "6ef29e97",
   "metadata": {
    "tags": []
   },
   "source": [
    "#### Float:\n",
    "A Float is a Datatype which holds numbers with decimal places. The Numbers can be negative or positiv. In python floats have a limited precision, which is dependent on the system."
   ]
  },
  {
   "cell_type": "code",
   "execution_count": null,
   "id": "7ae040a3",
   "metadata": {
    "tags": []
   },
   "outputs": [],
   "source": [
    "a_float = 1.45\n",
    "type(a_float) # the type is float"
   ]
  },
  {
   "cell_type": "code",
   "execution_count": null,
   "id": "4b8ea3a6",
   "metadata": {
    "tags": []
   },
   "outputs": [],
   "source": [
    "a_float"
   ]
  },
  {
   "cell_type": "markdown",
   "id": "d6322fca",
   "metadata": {},
   "source": [
    "## Conversion\n",
    "Floats can be turned into integers (this cuts off the decimal places, no rounding is performed!):"
   ]
  },
  {
   "cell_type": "code",
   "execution_count": null,
   "id": "54d5c865",
   "metadata": {
    "tags": []
   },
   "outputs": [],
   "source": [
    "int(1.45)"
   ]
  },
  {
   "cell_type": "code",
   "execution_count": null,
   "id": "148a58a3",
   "metadata": {},
   "outputs": [],
   "source": [
    "int(9.99)"
   ]
  },
  {
   "cell_type": "markdown",
   "id": "306c7dde",
   "metadata": {},
   "source": [
    "This works the other way around as well:"
   ]
  },
  {
   "cell_type": "code",
   "execution_count": null,
   "id": "7d3ef387",
   "metadata": {},
   "outputs": [],
   "source": [
    "float(2)"
   ]
  },
  {
   "cell_type": "markdown",
   "id": "9f547a65",
   "metadata": {},
   "source": [
    "Integers and floats can also be created from strings containing only digits (and up to 1 decimal point in case of floats):"
   ]
  },
  {
   "cell_type": "code",
   "execution_count": null,
   "id": "9554f454",
   "metadata": {},
   "outputs": [],
   "source": [
    "float(\"1.234\")"
   ]
  },
  {
   "cell_type": "code",
   "execution_count": null,
   "id": "7678f8cb",
   "metadata": {
    "tags": []
   },
   "outputs": [],
   "source": [
    "int(\"444\")"
   ]
  },
  {
   "cell_type": "code",
   "execution_count": null,
   "id": "8b4b7ce0",
   "metadata": {
    "tags": []
   },
   "outputs": [],
   "source": [
    "int(\"1.234\")"
   ]
  },
  {
   "cell_type": "markdown",
   "id": "bac4b3ac",
   "metadata": {},
   "source": [
    "Again, the other way around works too (the quotes tell us the results are strings):"
   ]
  },
  {
   "cell_type": "code",
   "execution_count": null,
   "id": "c482377a",
   "metadata": {},
   "outputs": [],
   "source": [
    "str(12.345)"
   ]
  },
  {
   "cell_type": "code",
   "execution_count": null,
   "id": "6ec0e93a",
   "metadata": {},
   "outputs": [],
   "source": [
    "str(81926379182793812)"
   ]
  },
  {
   "cell_type": "markdown",
   "id": "11738901",
   "metadata": {
    "tags": []
   },
   "source": [
    "## Math\n",
    "With the now newly learned numbers you can also perform math. Following operations are available in python (with floats and integers):\n",
    "\n",
    "| Syntax         | Action                                                                      | Notes  |\n",
    "|-------------------|-----------------------------------------------------------------------------|--------|\n",
    "| `x + y`           | sum of x and y                                                              |        |\n",
    "| `x - y`           | difference of x and y                                                       |        |\n",
    "| `x * y`           | product of x and y                                                          |        |\n",
    "| `x / y`           | quotient of x and y                                                         |        |\n",
    "| `x // y`          | floored quotient of x and y                                                 | (1)    |\n",
    "| `x % y`           | remainder of x / y (modulo)                                                |     |    \n",
    "| `-x`              | x negated                                                                   |        |\n",
    "| `x**y`          | x to the power y                    | (2), (3)    |\n",
    "| [`abs(x)`](https://docs.python.org/3/library/functions.html#abs)          | absolute value of x                                            |        |\n",
    "| [`round(x)`](https://docs.python.org/3/library/functions.html#round)        | round x to the nearest integer    |||\n",
    "| [`round(x, n)`](https://docs.python.org/3/library/functions.html#round)        | round x to n decimal places    |||\n",
    "| [`divmod(x, y)`](https://docs.python.org/3/library/functions.html#divmod)    | the pair (x // y, x % y)                                                    |    |\n",
    "\n",
    "Notes:\n",
    "\n",
    "(1) Also referred to as integer division. The resultant value is a whole integer, though the result’s type is not necessarily int. The result is always rounded towards negative infinity: `1//2` is `0`, `(-1)//2` is `-1`, `1//(-2)` is `-1`, and `(-1)//(-2)` is `0`.\n",
    "\n",
    "(2) Python defines `0**0` to be `1`, as is common for programming languages.\n",
    "\n",
    "(3) Attention: `x^y` is not the power but the bitwise XOR of the two numbers\n"
   ]
  },
  {
   "cell_type": "code",
   "execution_count": null,
   "id": "524dfbee",
   "metadata": {},
   "outputs": [],
   "source": [
    "# use parentheses to change the order of operations:\n",
    "print(1 + 2 * 3)\n",
    "print((1 + 2) * 3)"
   ]
  },
  {
   "cell_type": "markdown",
   "id": "0016fb5b",
   "metadata": {},
   "source": [
    "# f-strings\n",
    "\n",
    "Using _formatted string literals_ (\"f-strings\" for short), it is super easy to put variables into some predefined text. Prefix the string with an `f` and put the desired variables into curly brackets:"
   ]
  },
  {
   "cell_type": "code",
   "execution_count": null,
   "id": "82963855",
   "metadata": {},
   "outputs": [],
   "source": [
    "name = \"Tim\"\n",
    "age = 23\n",
    "\n",
    "print(f\"Hi, my name is {name} and I'm {age} years old!\")"
   ]
  },
  {
   "cell_type": "markdown",
   "id": "426d23c4",
   "metadata": {},
   "source": [
    "The curly brackets can contain arbitrary Python expressions:"
   ]
  },
  {
   "cell_type": "code",
   "execution_count": null,
   "id": "9924c089",
   "metadata": {},
   "outputs": [],
   "source": [
    "print(f\"Hi, my name is {name} and in two years I'll be {age + 2}!\")"
   ]
  },
  {
   "cell_type": "markdown",
   "id": "68bb7eed-f82a-4144-91a6-4272fab6cc2a",
   "metadata": {},
   "source": [
    "## Lists, tuples, and sets\n",
    "- [Video tutorial (29 min)](https://www.youtube.com/watch?v=W8KRzm-HUcc)\n",
    "- Library reference:\n",
    "    - [lists](https://docs.python.org/3/library/stdtypes.html#lists)\n",
    "    - [tuples](https://docs.python.org/3/library/stdtypes.html#tuples)\n",
    "    - [sets](https://docs.python.org/3/library/stdtypes.html#set-types-set-frozenset)"
   ]
  },
  {
   "cell_type": "markdown",
   "id": "64be957e-cac7-451f-b1a3-32d05f20474c",
   "metadata": {},
   "source": [
    "### Lists\n",
    "\n",
    "A list can be used to store a sequence of arbitrary items. The elements don't need to be of the same datatype. Its length is variable and every item can be replaced or deleted after assignment, i.e. a list is _mutable_.\n",
    "\n",
    "**List-Properties:**\n",
    "* stores data from any datatype (can be mixed as well)\n",
    "* iterable\n",
    "* mutable\n",
    "* can contain mutable items\n",
    "\n",
    "**Python-Syntax:** `list_name = [item0, item1, item2, ...]`"
   ]
  },
  {
   "cell_type": "code",
   "execution_count": null,
   "id": "3c7cfbad-d3b4-4e7f-862f-921ae8c6b4f8",
   "metadata": {},
   "outputs": [],
   "source": [
    "list_of_arbitrary_items = [1, 2, 3.5, 4, 4, \"I am a list item (*-*)\"]"
   ]
  },
  {
   "cell_type": "markdown",
   "id": "5af980a9-bee6-42c8-b8be-2336dea7e210",
   "metadata": {},
   "source": [
    "Every list item can be accessed by its index. Keep in mind, that the **indices start at `0`**! Usually, you iterate through the list from the 'left' to the 'right' but you can also go the other way around with negative indices. In this case, **the last item would be at index `-1`**. But what happens if you want to use an index which is higher than the index of the last item? Python gently forces you to correct this mistake and raises an `IndexError`. \n",
    "\n",
    "**Python-Syntax:** `list_name[index]`"
   ]
  },
  {
   "cell_type": "code",
   "execution_count": null,
   "id": "7a68341e-448e-43ad-927e-f7b94eca2be8",
   "metadata": {},
   "outputs": [],
   "source": [
    "print(list_of_arbitrary_items[0])    # access first list-item\n",
    "print(list_of_arbitrary_items[3])    # access fourth list-item\n",
    "print(list_of_arbitrary_items[-1])   # access the last list-item\n",
    "print(list_of_arbitrary_items[6])    # This does not work, as the list only contains 6 items!"
   ]
  },
  {
   "cell_type": "markdown",
   "id": "85eb75f5-9bab-4d37-8185-81ec3555d6ad",
   "metadata": {},
   "source": [
    "In some cases you don't know the values you want to store in the first place. It is common practice to define an empty list which will be filled with data at a later time. \n",
    "\n",
    "**Python-Syntax:** `list_name = []` "
   ]
  },
  {
   "cell_type": "code",
   "execution_count": null,
   "id": "8f9c6e24-87a2-4752-aaaa-871940675828",
   "metadata": {},
   "outputs": [],
   "source": [
    "numbers = []     # this list will be filled later\n",
    "print(numbers)"
   ]
  },
  {
   "cell_type": "markdown",
   "id": "6b5580b8-4256-4f44-83d6-2825901fe21f",
   "metadata": {},
   "source": [
    "As we already know, lists are mutable datatypes. In the next steps, we will try to overwrite (i.e. replace) an already existing item using its index and add a completely new item. The new item will be appended to the end of the already exisiting list. \n",
    "\n",
    "**Python-Syntax:** \n",
    "* replace an item: `list_name[index] = new_value`\n",
    "* add an item to the end: `list_name.append(new_value)`\n",
    "* add an item before a given index: `list_name.insert(index, new_value)`\n",
    "    * add an item to the beginning: `list_name.insert(0, new_value)`\n"
   ]
  },
  {
   "cell_type": "code",
   "execution_count": null,
   "id": "0c930749-c50e-4dc7-b299-80c6032e0731",
   "metadata": {},
   "outputs": [],
   "source": [
    "# replace an item:\n",
    "print(list_of_arbitrary_items)     # before the replacement\n",
    "list_of_arbitrary_items[2] = 9\n",
    "print(list_of_arbitrary_items)     # after the replacement\n",
    "\n",
    "# add items to the end:\n",
    "list_of_arbitrary_items.append(1)\n",
    "list_of_arbitrary_items.append(2)\n",
    "print(list_of_arbitrary_items)\n",
    "\n",
    "# insert items at arbitrary positions:\n",
    "list_of_arbitrary_items.insert(0, \"I'm new\")\n",
    "print(list_of_arbitrary_items)"
   ]
  },
  {
   "cell_type": "markdown",
   "id": "d9fb3a0e-e7b0-4ff4-a159-c5266212e860",
   "metadata": {},
   "source": [
    "With `append`, you can **only add one item at a time**. "
   ]
  },
  {
   "cell_type": "code",
   "execution_count": null,
   "id": "66c441d7-82e2-41a9-b0ac-20e96e7e5143",
   "metadata": {},
   "outputs": [],
   "source": [
    "numbers.append(1, 2)        # This won't work!\n",
    "#numbers.append([1, 2, 3])   # This works, but creates a nested list\n",
    "print(numbers)"
   ]
  },
  {
   "cell_type": "markdown",
   "id": "f149ca82-a2d2-4865-9361-e5b905e848d0",
   "metadata": {},
   "source": [
    "But behold! There is a way to add more items at a time with the power of mathematics. As you can see in the code below, it is possible to add all items from one list to another list."
   ]
  },
  {
   "cell_type": "code",
   "execution_count": null,
   "id": "df559039-7f83-4654-9ba1-1a9e5053328c",
   "metadata": {},
   "outputs": [],
   "source": [
    "numbers += [4,3,2,1] \n",
    "# numbers.extend([4,3,2,1])   # .extend() works too!\n",
    "# numbers.append([4,3,2,1])   # .append() adds the list as an item not all the elements to the list! Be careful there!\n",
    "print(numbers)"
   ]
  },
  {
   "cell_type": "markdown",
   "id": "cdc8bbe8-0bc1-4ba8-9f16-d198c42c1f77",
   "metadata": {},
   "source": [
    "If you want to know, how many items are stored in you list (e.g. to avoid an `IndexError`) you can use the same function you would use for strings:"
   ]
  },
  {
   "cell_type": "code",
   "execution_count": null,
   "id": "5b2c8f5d-711c-4744-84ec-6742492f57c6",
   "metadata": {},
   "outputs": [],
   "source": [
    "len(numbers)"
   ]
  },
  {
   "cell_type": "markdown",
   "id": "74b53b52-f434-4213-95d7-c8418aaeea45",
   "metadata": {},
   "source": [
    "Sometimes you have the value of an item in the list and want to find its index. For this kind of problem we can use the `index`-method. This method **returns the index of the item with the known value** (starting from the 'left'). If the list contains no item with that kind of value, python will raise a `ValueError`. One important thing to know: It only returns the index of the first occurring instance! This means, if you have equal elements, you only get the index of the first item.  \n",
    "\n",
    "**Python-Syntax:** `list_name.index(element_value)`"
   ]
  },
  {
   "cell_type": "code",
   "execution_count": null,
   "id": "293a9046-cc8a-48ad-8f7e-82f2afd6d69d",
   "metadata": {},
   "outputs": [],
   "source": [
    "integers = [10, 20, 30, 40, 25, 20, 100]"
   ]
  },
  {
   "cell_type": "code",
   "execution_count": null,
   "id": "baa20833-2ae9-41c3-a4c1-fc341d815ba2",
   "metadata": {},
   "outputs": [],
   "source": [
    "print(integers.index(25))\n",
    "print(integers.index(20))    # The list contains two items with the value 20, but only the index of the first one will be returned!  \n",
    "print(integers.index(420))   # This will raise an ValueError since no items with value 420 is stored in the list. "
   ]
  },
  {
   "cell_type": "markdown",
   "id": "8eae79f2-1891-467b-8c8f-e9267f715471",
   "metadata": {},
   "source": [
    "If you want to count certain items in a list you can use `count`:\n",
    "\n",
    "**Python-Syntax:** `list_name.count(value_to_count)`"
   ]
  },
  {
   "cell_type": "code",
   "execution_count": null,
   "id": "a65e6cee-51fe-426f-b966-3a0d3d244201",
   "metadata": {},
   "outputs": [],
   "source": [
    "print(integers.count(10))\n",
    "print(integers.count(20))\n",
    "print(integers.count(420))   # This will return 0 since no item with value 420 is stored in the list. "
   ]
  },
  {
   "cell_type": "markdown",
   "id": "a4f036b5-3769-458d-951b-90de2adc64e8",
   "metadata": {},
   "source": [
    "Lists can also be sorted, which is quite convenient e.g. for ranking-tasks. This will only work if all items can be meaningfully compared to each other. So sorting a list of numbers (integers and/or floats) works, as does sorting a list of strings, but a list containing both numbers and strings will fail. Numbers are sorted ascending by value, strings are sorted alphabetically.\n",
    "\n",
    "**Python-Syntax:** `sorted(list_name)`"
   ]
  },
  {
   "cell_type": "code",
   "execution_count": null,
   "id": "4d2c06c3-a140-4ed5-acff-2704600aa28c",
   "metadata": {},
   "outputs": [],
   "source": [
    "print(integers)\n",
    "sorted_integers = sorted(integers)\n",
    "print(sorted_integers)\n",
    "\n",
    "# descending sorting is possible by passing an optional argument:\n",
    "sorted_integers = sorted(integers, reverse=True)\n",
    "print(sorted_integers)\n",
    "\n",
    "list_of_letters = [\"p\",\"y\",\"t\",\"h\",\"o\",\"n\"]\n",
    "print(list_of_letters)\n",
    "sorted_list_of_letters = sorted(list_of_letters)\n",
    "print(sorted_list_of_letters)"
   ]
  },
  {
   "cell_type": "markdown",
   "id": "478647f9-3dd3-4899-bbf3-8bff080c55fd",
   "metadata": {},
   "source": [
    "### Tuples\n",
    "\n",
    "Tuples appear similar to lists, but have an important difference - once defined, a tuple cannot be changed! \n",
    "\n",
    "**Tuple-Properties:**\n",
    "* stores data from any datatype (can be mixed as well)\n",
    "* iterable\n",
    "* **immutable**\n",
    "* cannot contain mutable objects (like lists)\n",
    "\n",
    "**Python-Syntax:** \n",
    "* `tuple_name = (item0, item1, item2, ...)`\n",
    "* `tuple_name = item0, item1, item2, ...`  \n"
   ]
  },
  {
   "cell_type": "code",
   "execution_count": null,
   "id": "c7e402d8-725d-42c9-9d9a-cb3bec17b6f5",
   "metadata": {},
   "outputs": [],
   "source": [
    "some_words_and_numbers = ('hi', 'bye', 15)  # this way is preferred as it's more explicit\n",
    "newspapers = 'Die_Presse', 'Der_Standard', 'FAZ'\n",
    "\n",
    "#Special tuples\n",
    "one_element_tuple = ('singleton',)\n",
    "empty_tuple = ()\n",
    "print(newspapers)\n",
    "print(one_element_tuple)"
   ]
  },
  {
   "cell_type": "markdown",
   "id": "d9f09629-f446-4fd3-afde-d29148ba65ce",
   "metadata": {},
   "source": [
    "Attempting to replace an item in a tuple will fail:"
   ]
  },
  {
   "cell_type": "code",
   "execution_count": null,
   "id": "3d761231-2147-447a-ac3b-ff02a2272a2c",
   "metadata": {},
   "outputs": [],
   "source": [
    "newspapers[2] = 'Die_Zeit'  #  <- Not a valid action for tuples!"
   ]
  },
  {
   "cell_type": "markdown",
   "id": "3e76e575",
   "metadata": {},
   "source": [
    "However, modifying something mutable which is part of a tuple is allowed:"
   ]
  },
  {
   "cell_type": "code",
   "execution_count": null,
   "id": "850c66b5",
   "metadata": {},
   "outputs": [],
   "source": [
    "magic_square = (\n",
    "    [9, 2, 4],\n",
    "    [5, 7, 3],\n",
    "    [1, 6, 7],\n",
    ")\n",
    "\n",
    "magic_square[2][2] = 8\n",
    "print(magic_square)"
   ]
  },
  {
   "cell_type": "markdown",
   "id": "39da2119-2fbf-442c-861e-fa014a05de82",
   "metadata": {
    "tags": []
   },
   "source": [
    "### Sets\n",
    "\n",
    "Like lists and tuples, sets are data structures to work with a collection of data. The main difference is that sets are unordered and therefore unindexed. Their most exciting property is that they *don't allow duplicates*.\n",
    "\n",
    "**Set properties:**\n",
    "* Resemble mathematical sets   \n",
    "* Sets are written with curly brackets: `{element1, element2}`  \n",
    "* Unordered collection with no duplicate elements  \n",
    "* Elements have to be immutable but a set itself is mutable  \n",
    "* Support mathematical operations, e.g. union, intersection, difference  \n",
    "\n",
    "**Python-Syntax:** `set_name = {item0, item1, item2, ...}`\n",
    "\n",
    "There are two different ways to declare a set. One is with the function `set()`. Like in the example below, you can create a set from another iterable (like a list or set). You can see that it is a set now because of the curly brackets."
   ]
  },
  {
   "cell_type": "code",
   "execution_count": null,
   "id": "ac021ed2-652f-4d32-af89-2bc5f26cd3b3",
   "metadata": {},
   "outputs": [],
   "source": [
    "a = [1, 2, 3, 4, 4, 5] # list\n",
    "b = (1, 3, 4, 5, 6, 6, 6) # tuple\n",
    "c = set(a)\n",
    "d = set(b)\n",
    "print(c)\n",
    "print(d)"
   ]
  },
  {
   "cell_type": "markdown",
   "id": "6e99486f-1d07-4960-9f53-1252a009b3fb",
   "metadata": {},
   "source": [
    "But you can also declare a set implicitly with curly brackets (`{}`) like in the example below."
   ]
  },
  {
   "cell_type": "code",
   "execution_count": null,
   "id": "d62fcae5-707d-431c-9863-f5978654e3b1",
   "metadata": {
    "tags": []
   },
   "outputs": [],
   "source": [
    "backpack = {\"notebook\", \"phone\", \"key\", \"gum\", \"pen\"}\n",
    "\n",
    "print(backpack)"
   ]
  },
  {
   "cell_type": "markdown",
   "id": "f9943897-59b3-444a-a740-742f0b45afbd",
   "metadata": {},
   "source": [
    "**Be cautious when you want to create an empty set - you can't create it with `empty_set = {}`!**  \n",
    "This would be another data structure named dict, which we'll get to soon."
   ]
  },
  {
   "cell_type": "code",
   "execution_count": null,
   "id": "19d9004c-6b29-4550-b2ce-8d462dca555f",
   "metadata": {},
   "outputs": [],
   "source": [
    "empty_set = set()\n",
    "print(empty_set,  type(empty_set))\n",
    "\n",
    "not_an_empty_set = {} # this would be an empty dict!\n",
    "print(not_an_empty_set, type(not_an_empty_set))"
   ]
  },
  {
   "cell_type": "markdown",
   "id": "69945431-ce5b-4b5f-a68b-72554d6759d2",
   "metadata": {},
   "source": [
    "#### Add Elements `.add()`"
   ]
  },
  {
   "cell_type": "markdown",
   "id": "4348ddeb-2a5d-48fb-bde0-5865e3281e05",
   "metadata": {},
   "source": [
    "But what do you need to do when you want to fill the set? `empty_set += {\"green\"}` won't work. Use the method `empty_set.add(\"green\")` instead."
   ]
  },
  {
   "cell_type": "code",
   "execution_count": null,
   "id": "e027ef0b-8adf-49f3-a7eb-e4aa55ab688c",
   "metadata": {},
   "outputs": [],
   "source": [
    "backpack = {\"notebook\", \"phone\", \"key\", \"gum\", \"wallet\"}\n",
    "print(backpack)"
   ]
  },
  {
   "cell_type": "code",
   "execution_count": null,
   "id": "9a75d3ed-60d1-4e2c-ab6b-229a799bc560",
   "metadata": {},
   "outputs": [],
   "source": [
    "# backpack += {\"phone charger\"} # This does not work...\n",
    "backpack.add(\"phone charger\")\n",
    "print(backpack)"
   ]
  },
  {
   "cell_type": "markdown",
   "id": "287a3287-0935-4b46-9118-2a8df5049455",
   "metadata": {},
   "source": [
    "#### Remove Elements `.remove()`\n",
    "\n",
    "One element should not be in the set? No problem - you can easily remove it with `.remove()`."
   ]
  },
  {
   "cell_type": "code",
   "execution_count": null,
   "id": "9adfc3ed-fa27-41e3-8bfa-f22699164553",
   "metadata": {},
   "outputs": [],
   "source": [
    "backpack = {\"notebook\", \"phone\", \"key\", \"gum\", \"wallet\"}\n",
    "print(backpack)"
   ]
  },
  {
   "cell_type": "code",
   "execution_count": null,
   "id": "9d5f1d0f-c537-4222-a8f7-20656e6fdb25",
   "metadata": {},
   "outputs": [],
   "source": [
    "backpack.remove(\"gum\")\n",
    "print(backpack)"
   ]
  },
  {
   "cell_type": "markdown",
   "id": "3ff53782",
   "metadata": {},
   "source": [
    "Try to execute the cell above again! A `KeyError` is raised because `\"gum\"` now isn't part of the set anymore."
   ]
  },
  {
   "cell_type": "markdown",
   "id": "b32e415b-8a06-4c8c-9357-cf68fecc0afb",
   "metadata": {},
   "source": [
    "#### Mixed Elements:\n",
    "You can mix the data types in a set as you like."
   ]
  },
  {
   "cell_type": "code",
   "execution_count": null,
   "id": "d93251b3-279c-4701-90ff-669c751e4277",
   "metadata": {},
   "outputs": [],
   "source": [
    "{1, 2, 3, 3, 5, 6, 4, 3, 3, 3.1, \"A string\", False}"
   ]
  },
  {
   "cell_type": "markdown",
   "id": "5e6a92f8-dee6-41ed-92f7-7e2dd047e132",
   "metadata": {},
   "source": [
    "Note that equally valued integers and floats are considered identical in a set. The element occuring first is retained:"
   ]
  },
  {
   "cell_type": "code",
   "execution_count": null,
   "id": "bae5147d-407f-4c20-9f1f-1525cdd4af6a",
   "metadata": {},
   "outputs": [],
   "source": [
    "{1, 1.0}"
   ]
  },
  {
   "cell_type": "code",
   "execution_count": null,
   "id": "5dbac121-7954-47ec-aa47-e4a20ff2b9be",
   "metadata": {},
   "outputs": [],
   "source": [
    "{1.0, 1}"
   ]
  },
  {
   "cell_type": "markdown",
   "id": "bf0b4188-edf7-4ae8-97cc-2429ec3c7673",
   "metadata": {},
   "source": [
    "What happens, if you have a list in a set for example?"
   ]
  },
  {
   "cell_type": "code",
   "execution_count": null,
   "id": "834ecf99-977f-4359-ac57-ceaca8bace68",
   "metadata": {},
   "outputs": [],
   "source": [
    "{1, 2, 3, [1,2,3]}"
   ]
  },
  {
   "cell_type": "markdown",
   "id": "19ddf5be-1597-480a-86aa-460b37c722fa",
   "metadata": {},
   "source": [
    "#### Unhashable?\n",
    "So apparently sets can not contain \"unhashable\" things... but what does \"hashable\" even mean?\n",
    "\n",
    "A hash function is any function that can be used to map data of arbitrary size to fixed-size values. This makes it easy to compare arbitrary elements to each other. However, Python requires an object's hash to be constant over its lifetime. For something mutable (like a list) this can't be guaranteed, so only immutable types are hashable.\n",
    "\n",
    "More information on hashing?\n",
    "- https://en.wikipedia.org/wiki/Hash_function\n",
    "- https://runestone.academy/runestone/books/published/pythonds/SortSearch/Hashing.html\n",
    "- https://docs.python.org/3/glossary.html#hashable\n",
    "\n",
    "More information about mutability?\n",
    "- https://towardsdatascience.com/immutable-vs-mutable-data-types-in-python-e8a9a6fcfbdc\n",
    "- https://docs.python.org/3/glossary.html"
   ]
  },
  {
   "cell_type": "markdown",
   "id": "9bfa24d0-5db6-4ee2-83d6-9f87460a31cd",
   "metadata": {},
   "source": [
    "#### One string-element in a set?\n",
    "\n",
    "Be careful with sets with a string as its only element, because funny things can happen:"
   ]
  },
  {
   "cell_type": "code",
   "execution_count": null,
   "id": "c5cfd740-0740-4f6f-aa21-f75d250530a8",
   "metadata": {},
   "outputs": [],
   "source": [
    "one_element_set = set('singleton')\n",
    "print(one_element_set)"
   ]
  },
  {
   "cell_type": "code",
   "execution_count": null,
   "id": "70c2738b-b01c-47c6-9360-ab25e63fa0e8",
   "metadata": {},
   "outputs": [],
   "source": [
    "one_element_set = {'singleton'}\n",
    "print(one_element_set)"
   ]
  },
  {
   "cell_type": "code",
   "execution_count": null,
   "id": "8ceca0c1-21e0-4fbd-823c-558372650255",
   "metadata": {},
   "outputs": [],
   "source": [
    "one_element_set = set(['singleton'])\n",
    "print(one_element_set)"
   ]
  },
  {
   "cell_type": "code",
   "execution_count": null,
   "id": "b530bea0-ea94-4f36-abde-d71d4fe532b2",
   "metadata": {},
   "outputs": [],
   "source": [
    "one_element_set = {['singleton']}\n",
    "print(one_element_set)"
   ]
  },
  {
   "cell_type": "markdown",
   "id": "e7c2ad2d-1241-42b7-9edf-357d9d53d5e0",
   "metadata": {},
   "source": [
    "#### Set operations: `&`, `|`, `^`, `-`\n",
    "\n",
    "Sets have very handy operations to make intersections, unions, or differeces"
   ]
  },
  {
   "cell_type": "code",
   "execution_count": null,
   "id": "17572321-869d-4588-8e1c-b302406a703f",
   "metadata": {
    "tags": []
   },
   "outputs": [],
   "source": [
    "backpack = {'notebook', 'phone', 'key', 'gum', 'wallet'}\n",
    "other_bag = {'key', 'sandwich', 'bottle', 'phone'}\n",
    "\n",
    "print(\"Intersection (AND): \", backpack & other_bag)          # Items in both bags\n",
    "print(\"Union (OR): \", backpack | other_bag)                  # Combine both bags\n",
    "print(\"Symmetric Difference (XOR): \", backpack ^ other_bag)  # Items in only one of the bags\n",
    "print(\"Difference: \", backpack - other_bag)                  # Items in the first, but not the second bag\n",
    "print(\"Difference: \", other_bag - backpack)                  # Items in the second, but not the first bag"
   ]
  },
  {
   "cell_type": "markdown",
   "id": "6cfec097-675c-4230-a725-d96b25176304",
   "metadata": {},
   "source": [
    "Combining these operators with the assignment operator (`=`) gives a way to add or remove one or more elements to or from a set:"
   ]
  },
  {
   "cell_type": "code",
   "execution_count": null,
   "id": "b48eea49-f098-43c1-b422-ab1edb3d5d76",
   "metadata": {},
   "outputs": [],
   "source": [
    "backpack = {\"mobile\", \"pen\", \"paper\"}\n",
    "\n",
    "backpack |= {\"pencil\"}\n",
    "print(backpack)\n",
    "backpack -= {\"pen\", \"mobile\"}\n",
    "print(backpack)"
   ]
  },
  {
   "cell_type": "markdown",
   "id": "25fa7e0a",
   "metadata": {},
   "source": [
    "## Dictionaries\n",
    "- [Video tutorial (10 min)](https://www.youtube.com/watch?v=daefaLgNkw0)\n",
    "- [Library reference](https://docs.python.org/3/library/stdtypes.html#mapping-types-dict)\n",
    "\n",
    "Dictionaries provide a way to map values that are associated with one another.    \n",
    "This means that they are a collection of `<key>: <value>` pairs called _items_.  \n",
    "A dictionary begins and ends with curly brackets: "
   ]
  },
  {
   "cell_type": "code",
   "execution_count": null,
   "id": "9b7775fa-9b27-40f2-9524-8e292d11ff76",
   "metadata": {},
   "outputs": [],
   "source": [
    "empty_dict = {} # just an empty dictionary\n",
    "# empty_dict = dict()\n",
    "empty_dict"
   ]
  },
  {
   "cell_type": "markdown",
   "id": "1c260128-b9f5-4ee6-985a-0cd459dc98aa",
   "metadata": {},
   "source": [
    "Each _item_ consists of a _key_ and a _value_. Individual items are seperated with commas.   \n",
    "\n",
    "**Keys**: Must be hashable. So they can only be strings, numbers, and tuples (tuples if they only contain hashable elements).  \n",
    "**Values**: Can be hashable or unhashable, i.e. totally arbitrary. So they can be strings, numbers, lists, sets or even other dictionaries.  "
   ]
  },
  {
   "cell_type": "code",
   "execution_count": null,
   "id": "cf5b9d06-2d83-4445-b279-6d8a69b513d1",
   "metadata": {
    "tags": []
   },
   "outputs": [],
   "source": [
    "contact_info = {'name': 'Anna', 'family_name': ['Smith', 'Williams'], 'phone': 12345678, 'city': 'Graz'}\n",
    "contact_info"
   ]
  },
  {
   "cell_type": "markdown",
   "id": "22acbfc6-6c02-48cd-923b-55514a1b006a",
   "metadata": {},
   "source": [
    "What happens if we try to use a `list` as a key?"
   ]
  },
  {
   "cell_type": "code",
   "execution_count": null,
   "id": "bde7c59f-07e7-4e07-abd7-9d5a838a1d16",
   "metadata": {},
   "outputs": [],
   "source": [
    "contact_info = {['name', 'surname']: 'Anna Smith'}"
   ]
  },
  {
   "cell_type": "markdown",
   "id": "9c887582-0587-4b9e-b48c-0906fc28f549",
   "metadata": {},
   "source": [
    "This produces a `TypeError`! Since a `list` can be changed, its hash value can not be guaranteed not to change over its lifetime, thus it is unhashable."
   ]
  },
  {
   "cell_type": "markdown",
   "id": "0f729e0b-482b-4903-97f3-67ba09b770b3",
   "metadata": {},
   "source": [
    "If we want to look at one specific item in the dictionary we don't access it with indices or slices (as we do with lists), but with its keys:"
   ]
  },
  {
   "cell_type": "code",
   "execution_count": null,
   "id": "ad90635e-6355-4f9d-9ccf-f3be72ebb67a",
   "metadata": {},
   "outputs": [],
   "source": [
    "key = \"name\"\n",
    "# key = \"wrong key\" # this will produce a KeyError\n",
    "contact_info[key]"
   ]
  },
  {
   "cell_type": "markdown",
   "id": "eda78968-b5e9-4591-8da6-78969e93c36d",
   "metadata": {},
   "source": [
    "Python also has a set of built-in methods that allow access to all keys, all values, or all items:"
   ]
  },
  {
   "cell_type": "code",
   "execution_count": null,
   "id": "b5125be2-a6a3-4aff-a604-613604feafb5",
   "metadata": {
    "tags": []
   },
   "outputs": [],
   "source": [
    "print(\"Dictionary keys:\", contact_info.keys())\n",
    "print(\"Dictionary values:\", contact_info.values())\n",
    "print(\"Dictionary Items:\", contact_info.items())"
   ]
  },
  {
   "cell_type": "markdown",
   "id": "b514a9bd-49ea-4a48-aa8b-6940c7fa446e",
   "metadata": {},
   "source": [
    "A single `key: value` pair can be added to a dictionary using the following syntax:\n",
    "    \n",
    "```python\n",
    "dictionary[key] = value\n",
    "```\n"
   ]
  },
  {
   "cell_type": "code",
   "execution_count": null,
   "id": "029e24e2-b86e-49d2-9547-b2945a3cff76",
   "metadata": {
    "tags": []
   },
   "outputs": [],
   "source": [
    "contact_info['mail'] = \"something@somewhere.at\"\n",
    "print(contact_info)"
   ]
  },
  {
   "cell_type": "markdown",
   "id": "01e59d0e-11ca-4efd-b5a0-dc17792b8c7b",
   "metadata": {},
   "source": [
    "If we want to add **more than one** `key: value` pair, we can use the method  `update`:"
   ]
  },
  {
   "cell_type": "code",
   "execution_count": null,
   "id": "7344e09d-2ef3-4ea8-86cc-6f235fb5a24b",
   "metadata": {},
   "outputs": [],
   "source": [
    "additional_data = {\"country\": \"Austria\", \"street\": \"Bahnhofstrasse\"}\n",
    "contact_info.update(additional_data)\n",
    "print(contact_info)"
   ]
  },
  {
   "cell_type": "markdown",
   "id": "bbdec708-cc03-437a-a339-75e3e5d06a65",
   "metadata": {},
   "source": [
    "You can also overwrite values using a key:"
   ]
  },
  {
   "cell_type": "code",
   "execution_count": null,
   "id": "10c6da6a-a067-43e2-82a4-88a4bba97f4d",
   "metadata": {},
   "outputs": [],
   "source": [
    "# overwrite values using a key\n",
    "contact_info['phone'] = 98765"
   ]
  },
  {
   "cell_type": "markdown",
   "id": "c2c33b5a-f8a3-4a55-860b-ad23cf9ad73f",
   "metadata": {
    "tags": []
   },
   "source": [
    "## Combination of data structures"
   ]
  },
  {
   "cell_type": "markdown",
   "id": "82e0ae56-80ac-4322-931b-04b0d5f19601",
   "metadata": {},
   "source": [
    "Are you confused with all the different data types to store data? Maybe this helps:\n",
    "\n",
    "|    | **List**  | **Tuple**  | **Set**    | **Dict**   |\n",
    "|-|-|-|-|-|\n",
    "| **Declaration**|  `a_list = [1,\"two\", True]`      |  `a_tuple = (1,\"two\", True)`  |  `a_set = {1,\"two\", True}` | `a_dict = {1:\"one\", \"two\": 2, \"three\":True}`            |\n",
    "| **Type casting**      | list()      | tuple()       | set()           |  dict()          |\n",
    "| **Duplicates?**      | yes      | yes       | no           |  keys: no, values: yes          |\n",
    "| **Ordered?**      | yes      | yes       | no           |  yes          |\n",
    "| **Mutable?**      | yes      | no       | yes          |  yes          |\n",
    "| **subscriptable by**      | integers or slices      |integers or slices      |not subscriptable        | keys          |\n",
    "| **empty declaration**      | `empty_list = []`      | `empty_tuple = ()`        | `empty_set = set()`            |  `empty_dict = {}`           |\n"
   ]
  },
  {
   "cell_type": "markdown",
   "id": "7ed025ee-4be6-408c-9883-e2ff6275f66b",
   "metadata": {},
   "source": [
    "Of course data structures can also be combined, we can create: \n",
    "* List of lists\n",
    "* Tuple of lists\n",
    "* Dictionary with lista as values\n",
    "* A dictionary within a dictionary\n",
    "* and so on ..."
   ]
  },
  {
   "cell_type": "code",
   "execution_count": null,
   "id": "7db11276-f951-4627-9af3-380c0bfae713",
   "metadata": {},
   "outputs": [],
   "source": [
    "# Simple matrix as list of lists\n",
    "first_row =  [1, 0, 0]\n",
    "second_row = [0, 1, 0]\n",
    "third_row =  [0, 0, 1]\n",
    "\n",
    "identity_matrix = [first_row, second_row, third_row]\n",
    "print(identity_matrix)"
   ]
  },
  {
   "cell_type": "code",
   "execution_count": null,
   "id": "068df9ca-1887-485e-8159-8599ed374033",
   "metadata": {},
   "outputs": [],
   "source": [
    "# Declaring a list with dictionaries as elements\n",
    "list_of_grades = [\n",
    "    {'name': 'Paul', 'grade': 4},\n",
    "    {'name': 'Lina', 'grade': 1}\n",
    "]\n",
    "\n",
    "# Key accesses with square brackets can be chained:\n",
    "print(list_of_grades)\n",
    "#print(list_of_grades[0])\n",
    "#print(list_of_grades[0]['name'])"
   ]
  },
  {
   "cell_type": "code",
   "execution_count": null,
   "id": "d771c90e-094f-4a4f-93ad-220cfb895426",
   "metadata": {},
   "outputs": [],
   "source": [
    "# Declaring two nested dictionaries\n",
    "first_person_info = {'name': 'Kem', 'age': 27, 'sex': 'non-binary'}\n",
    "second_person_info = {'name': 'Marie', 'age': 22, 'sex': 'female'}\n",
    "patients_registry = {3739: first_person_info, 7021: second_person_info}\n",
    "\n",
    "print(patients_registry)\n",
    "# print(patients_registry[7021]['age'])\n",
    "# print(patients_registry[3739]['sex'])"
   ]
  },
  {
   "cell_type": "markdown",
   "metadata": {},
   "source": [
    "## Booleans\n",
    "- [Video tutorial (17 min)](https://www.youtube.com/watch?v=DZwmZ8Usvnk&list=PL-osiE80TeTskrapNbzXhwoFUiLCjGgY7&index=6)  \n",
    "- [Library reference](https://docs.python.org/3/library/stdtypes.html#truth-value-testing )\n",
    "\n",
    "A _boolean_ is a data type intended to store \"truth values\" - `True` or `False` (note the capitalized first letters!)."
   ]
  },
  {
   "cell_type": "code",
   "execution_count": null,
   "metadata": {},
   "outputs": [],
   "source": [
    "true_value = True\n",
    "false_value = False\n",
    "type(true_value)"
   ]
  },
  {
   "cell_type": "markdown",
   "metadata": {},
   "source": [
    "Booleans can be combined an manipulated. There exist the following boolean operations:\n",
    "\n",
    "| Operation   | Result                               |\n",
    "|-------------|--------------------------------------|\n",
    "| `x or y`    | (OR) if x is False, then y, else x        |\n",
    "| `x and y`   | (AND) if x is False, then x, else y        |\n",
    "| `not x`     | (NOT) if x is False, then True, else False |"
   ]
  },
  {
   "cell_type": "markdown",
   "metadata": {},
   "source": [
    "#### `and`\n",
    "\"conjunction\" of two booleans   \n",
    "\n",
    "|   x   |   y   | `x and y` |\n",
    "|-------|-------|-----------|\n",
    "|`False`|`False`| `False`   |\n",
    "|`False`|`True` | `False`   |\n",
    "|`True` |`False`| `False`   |\n",
    "|`True` |`True` | `True`    |"
   ]
  },
  {
   "cell_type": "code",
   "execution_count": null,
   "metadata": {},
   "outputs": [],
   "source": [
    "true_value and false_value"
   ]
  },
  {
   "cell_type": "markdown",
   "metadata": {
    "tags": []
   },
   "source": [
    "#### `or`\n",
    "\"disjunction\" of two booleans   \n",
    "\n",
    "|   x   |   y   | `x or y` |\n",
    "|-------|-------|-----------|\n",
    "|`False`|`False`| `False`   |\n",
    "|`False`|`True` | `True`    |\n",
    "|`True` |`False`| `True`    |\n",
    "|`True` |`True` | `True`    |"
   ]
  },
  {
   "cell_type": "code",
   "execution_count": null,
   "metadata": {},
   "outputs": [],
   "source": [
    "true_value or false_value"
   ]
  },
  {
   "cell_type": "markdown",
   "metadata": {},
   "source": [
    "#### `not`\n",
    "negation of a single boolean\n",
    "\n",
    "|   x   |   `not x` |\n",
    "|-------|-----------|\n",
    "|`True` | `False`   |\n",
    "|`False`| `True`    |"
   ]
  },
  {
   "cell_type": "code",
   "execution_count": null,
   "metadata": {},
   "outputs": [],
   "source": [
    "not true_value"
   ]
  },
  {
   "cell_type": "code",
   "execution_count": null,
   "metadata": {},
   "outputs": [],
   "source": [
    "not false_value"
   ]
  },
  {
   "cell_type": "markdown",
   "metadata": {},
   "source": [
    "## Comparison of Numbers\n",
    "It is also possible to compare two numbers. Each comparison results in a boolean. The following comparison operations are possible in Python:\n",
    "\n",
    "| Operation   | Meaning                 | Example                         |\n",
    "|-------------|-------------------------|---------------------------------|\n",
    "| `<`         | strictly less than      | `5 < 4` -> `False`              |\n",
    "| `<=`        | less than or equal      | `5 <= 4` -> `False`             |\n",
    "| `>`         | strictly greater than   | `5 > 4` -> `True`               |\n",
    "| `>=`        | greater than or equal   | `5 >= 4` -> `True`             |\n",
    "| `==`        | equal                   | `5 == 4` -> `False`             |\n",
    "| `!=`        | not equal               | `5 != 4` -> `True`              |\n",
    "| `is`        | object identity         | `True is True` -> `True`        |\n",
    "| `is not`    | negated object identity | `False is not False` -> `False` |"
   ]
  },
  {
   "cell_type": "markdown",
   "metadata": {},
   "source": [
    "**Be careful with float comparisons!**"
   ]
  },
  {
   "cell_type": "code",
   "execution_count": null,
   "metadata": {},
   "outputs": [],
   "source": [
    "0.1 + 0.1 == 0.2"
   ]
  },
  {
   "cell_type": "code",
   "execution_count": null,
   "metadata": {},
   "outputs": [],
   "source": [
    "0.1 + 0.1 + 0.1 == 0.3"
   ]
  },
  {
   "cell_type": "markdown",
   "metadata": {},
   "source": [
    "What happend here? Due to a float's finite precision (click [here](https://docs.python.org/3/tutorial/floatingpoint.html#tut-fp-issues) for a thourough explanation), performing multiple mathematical operations can lead to rounding errors:"
   ]
  },
  {
   "cell_type": "code",
   "execution_count": null,
   "metadata": {},
   "outputs": [],
   "source": [
    "0.1 + 0.1 + 0.1 # Should be 0.3"
   ]
  },
  {
   "cell_type": "markdown",
   "metadata": {},
   "source": [
    "This means we cannot confidently compare two floating point numbers for equality. Luckily, most of the time we don't have to. But just in case, you can check whether a result is \"close enough\" by comparing the absolute value of the difference to a very small number:"
   ]
  },
  {
   "cell_type": "code",
   "execution_count": null,
   "metadata": {},
   "outputs": [],
   "source": [
    "abs((0.1 + 0.1 + 0.1) - 0.3) < 10**-10"
   ]
  },
  {
   "cell_type": "markdown",
   "metadata": {},
   "source": [
    "## Branching\n",
    "\n",
    "There exist different tools to control the flow of the program. The most simple and intuitive control flow tool are the conditional statements `if`, `else`, and `elif`.\n",
    "This is the general form for using these conditional statements:\n",
    "```python\n",
    "if condition:\n",
    "    # do something\n",
    "elif some_other_condition:\n",
    "    # do something\n",
    "else:\n",
    "    # do something\n",
    "```\n",
    "\n",
    "The `if`- and `elif`-statements are checked from top to bottom - the code indented below the first one with a `True` value is executed. If none of the conditions are true, the code inside the else block is executed."
   ]
  },
  {
   "cell_type": "markdown",
   "metadata": {},
   "source": [
    "The simplest way of a conditional statement is just using the `if`-statement. If the condition is `True` the code indented below the `if`-statement is executed- otherwise nothing happens. In the example below if `a_number` is equal to `10` the string `It is 10` is printed, if `a_number` does not equal `10`, the code inside the `if`-statement does not executed, therefore nothing is printed.  \n",
    "\n",
    "Try yourself with different values for `a_number` and see what happens!"
   ]
  },
  {
   "cell_type": "code",
   "execution_count": null,
   "metadata": {},
   "outputs": [],
   "source": [
    "a_number = 10\n",
    "\n",
    "if a_number == 10:\n",
    "    print(\"It is 10\")"
   ]
  },
  {
   "cell_type": "markdown",
   "metadata": {},
   "source": [
    "Below the `else`-statement, we can define what should happen if the condition in the `if`-statement is `False`. In the exampe below `a_number` is now `11` and we have the same `if`-statement which checks if `a_number` is `10`. If it is, the code indented below the `else`-statement is executed. In the example below we print `It is not 10`. Note that an `else`-statement can never be alone - it is always necessary to define an `if`-statement beforehand. \n",
    "\n",
    "Try yourself with different values for `a_number` and see what happens!"
   ]
  },
  {
   "cell_type": "code",
   "execution_count": null,
   "metadata": {},
   "outputs": [],
   "source": [
    "a_number = 11\n",
    "\n",
    "if a_number == 10:\n",
    "    print(\"It is 10\")\n",
    "else:\n",
    "    print(\"It is not 10\")"
   ]
  },
  {
   "cell_type": "markdown",
   "metadata": {},
   "source": [
    "Sometimes we want to check multiple conditions. For this we can use `elif`-statements. Notice: An `elif`-statement must always be after an `if`-statement or another `elif`-statement.  \n",
    "In the example below we want to check if a number is 10 or 5 or something else. For this we define the same `if`-statement as before, then an `elif`-statement to check if the number is 5. And finally there's the `else`-statement from before.  \n",
    "Now `a_number` is 5. So the first check is in the `if`-statement which is `False` since 5 is not 10. Then we check the `elif`-statement which is in this case `True` since 5 is actually 5, therefore `It is not 10 but 5` is printed. Afterwards we do not enter the `else`-statement since this is only entered if none of the previous conditions are `True`.  \n",
    "\n",
    "Try yourself with different values for `a_number` and see what happens!"
   ]
  },
  {
   "cell_type": "code",
   "execution_count": null,
   "metadata": {},
   "outputs": [],
   "source": [
    "a_number = 5\n",
    "\n",
    "if a_number == 10:\n",
    "    print(\"It is 10\")\n",
    "elif a_number == 5:\n",
    "    print(\"It is not 10 but 5\")\n",
    "else:\n",
    "    print(\"It is not 10\")"
   ]
  },
  {
   "cell_type": "markdown",
   "metadata": {},
   "source": [
    "Using the keyword `in`, you can check whether something is part of a container type (like a list, tuple, or dictionary):"
   ]
  },
  {
   "cell_type": "code",
   "execution_count": null,
   "metadata": {},
   "outputs": [],
   "source": [
    "number = 3\n",
    "\n",
    "small_primes = [2, 3, 5, 7, 9]\n",
    "\n",
    "if number in small_primes:\n",
    "    print(f\"{number} is a small prime number!\")\n"
   ]
  },
  {
   "cell_type": "markdown",
   "metadata": {},
   "source": [
    "The opposite also works:"
   ]
  },
  {
   "cell_type": "code",
   "execution_count": null,
   "metadata": {},
   "outputs": [],
   "source": [
    "language_to_check = \"french\"\n",
    "\n",
    "languages_i_speak = [\"german\", \"english\", \"spanish\"]\n",
    "\n",
    "if language_to_check not in languages_i_speak:\n",
    "    print(f\"I've yet to learn {language_to_check}\")\n",
    "else:\n",
    "    print(f\"Yay, I know {language_to_check}\")"
   ]
  },
  {
   "cell_type": "markdown",
   "id": "b912942f",
   "metadata": {},
   "source": [
    "## Common mistakes and how to fix them"
   ]
  },
  {
   "cell_type": "markdown",
   "id": "2674b60c",
   "metadata": {},
   "source": [
    "### Basic syntax error"
   ]
  },
  {
   "cell_type": "code",
   "execution_count": null,
   "id": "dbd079c0",
   "metadata": {},
   "outputs": [],
   "source": [
    "# this raises a SyntaxError hinting at a missing comma:\n",
    "some_data = (4, 8 15, 16, 23, 42)\n"
   ]
  },
  {
   "cell_type": "code",
   "execution_count": null,
   "id": "4027b78b",
   "metadata": {},
   "outputs": [],
   "source": [
    "# a for statement ends with a colon\n",
    "some_data = (4, 8, 15, 16, 23, 42)"
   ]
  },
  {
   "cell_type": "code",
   "execution_count": null,
   "id": "f1e53cbc",
   "metadata": {},
   "outputs": [],
   "source": [
    "# Lines after a colon (:) require indentation\n",
    "condition = 5 > 4\n",
    "if condition is True\n",
    "    print(\"The condition is True\")\n"
   ]
  },
  {
   "cell_type": "code",
   "execution_count": null,
   "id": "564f818d",
   "metadata": {},
   "outputs": [],
   "source": [
    "# no error message this time\n",
    "condition = 5 > 4\n",
    "if condition is True:\n",
    "    print(\"The condition is True\")\n"
   ]
  },
  {
   "cell_type": "markdown",
   "metadata": {},
   "source": [
    "The order of `if`- and `elif`-statements matters! Depending on the use case, this may lead to unwanted behaviour. Take this code which should print the \"generation name\" for a given birth year:"
   ]
  },
  {
   "cell_type": "code",
   "execution_count": null,
   "metadata": {},
   "outputs": [],
   "source": [
    "birth_year = 1960\n",
    "\n",
    "if birth_year <= 1964:\n",
    "    print(\"Baby Boomer\")\n",
    "elif birth_year <= 1980:\n",
    "    print(\"Generation X\")\n",
    "elif birth_year <= 1996:\n",
    "    print(\"Generation Y\")\n",
    "elif birth_year <= 2012:\n",
    "    print(\"Generation Z\")\n",
    "elif birth_year < 2023:\n",
    "    print(\"Generation Alpha\")"
   ]
  },
  {
   "cell_type": "markdown",
   "metadata": {},
   "source": [
    "Since `1960` is less than `1964`, the first `if`-statement is `True`, so `\"Baby Boomer\"` is printed. The `elif`s below are skipped, even though they would be `True` as well! So the code above behaves as intented, while the code below, with a different order of conditions, does not:"
   ]
  },
  {
   "cell_type": "code",
   "execution_count": null,
   "metadata": {},
   "outputs": [],
   "source": [
    "birth_year = 1960\n",
    "\n",
    "if birth_year < 2023:\n",
    "    print(\"Generation Alpha\")\n",
    "elif birth_year <= 2012:\n",
    "    print(\"Generation Z\")\n",
    "elif birth_year <= 1996:\n",
    "    print(\"Generation Y\")\n",
    "elif birth_year <= 1980:\n",
    "    print(\"Generation X\")\n",
    "elif birth_year <= 1964:\n",
    "    print(\"Baby Boomer\")"
   ]
  },
  {
   "cell_type": "markdown",
   "metadata": {},
   "source": [
    "Always place the spaces properly when indenting, else an `IndentationError` occurs. You should always use 4 spaces for indentation."
   ]
  },
  {
   "cell_type": "code",
   "execution_count": null,
   "metadata": {},
   "outputs": [],
   "source": [
    "some_var = 17\n",
    "\n",
    "if some_var > 10:\n",
    "print(\"some_var is totally bigger than 10.\") # no indendation at all\n",
    "elif some_var < 10: \n",
    "  print(\"some_var is smaller than 10.\") # this will not produce an error, but should be avoided\n",
    "else:                 \n",
    "            print(\"some_var is indeed 10.\") # this will not produce an error, but should be avoided"
   ]
  },
  {
   "cell_type": "markdown",
   "metadata": {},
   "source": [
    "This can be fixed by adding appropriate whitespace to the blocks below the `if` and `elif`-statement and removing some whitespaces in the `else`-statement:"
   ]
  },
  {
   "cell_type": "code",
   "execution_count": null,
   "metadata": {},
   "outputs": [],
   "source": [
    "some_var = 17\n",
    "\n",
    "if some_var > 10:\n",
    "    print(\"some_var is totally bigger than 10.\") # no indendation at all\n",
    "elif some_var < 10: \n",
    "    print(\"some_var is smaller than 10.\") # this will not produce an error, but should be avoided\n",
    "else:                 \n",
    "    print(\"some_var is indeed 10.\") # this will not produce an error, but should be avoided"
   ]
  },
  {
   "cell_type": "markdown",
   "id": "ea4c634d",
   "metadata": {},
   "source": [
    "## Best practices"
   ]
  },
  {
   "cell_type": "markdown",
   "id": "f5bb6626",
   "metadata": {},
   "source": [
    "\n",
    "### Formatting\n",
    "If you have a long literal (e.g. a list, tuple, or dictionary), put each item in a new line. This makes it more readable and easier to add or remove something:\n",
    "\n",
    "##### _Don't_\n",
    "```python\n",
    "countries = [\"Afghanistan\", \"Albania\", \"Algeria\", \"American Samoa\", \"Andorra\", \"Angola\", \"Anguilla\", \"Antarctica\", \"Antigua And Barbuda\", \"Argentina\", \"Armenia\", \"Aruba\", \"Australia\", \"Austria\", \"Azerbaijan\"]\n",
    "```\n",
    "\n",
    "##### _Do_\n",
    "```python\n",
    "countries = [\n",
    "    \"Afghanistan\", \n",
    "    \"Albania\", \n",
    "    \"Algeria\", \n",
    "    \"American Samoa\", \n",
    "    \"Andorra\", \n",
    "    \"Angola\", \n",
    "    \"Anguilla\", \n",
    "    \"Antarctica\", \n",
    "    \"Antigua And Barbuda\", \n",
    "    \"Argentina\", \n",
    "    \"Armenia\", \n",
    "    \"Aruba\", \n",
    "    \"Australia\", \n",
    "    \"Austria\", \n",
    "    \"Azerbaijan\", \n",
    "]\n",
    "```"
   ]
  },
  {
   "cell_type": "markdown",
   "id": "b5eacc9b",
   "metadata": {},
   "source": [
    "### Adding new dictionary entries\n",
    "To add a new entry to a dictionary, use item assignment instead of `.update` for less clutter and improved readability:\n",
    "\n",
    "##### _Don't_\n",
    "```python\n",
    "contact_info.update({\"mail\": \"something@somewhere.at\"})\n",
    "```\n",
    "\n",
    "##### _Do_\n",
    "```python\n",
    "contact_info[\"mail\"] = \"something@somewhere.at\"\n",
    "```"
   ]
  },
  {
   "cell_type": "markdown",
   "metadata": {},
   "source": [
    "### Nesting `if`/`elif`/`else`-statements if not needed:\n",
    "Try to avoid nesting multiple conditional statements. This keeps lines short and related pieces of code close to each other.\n",
    "\n",
    "##### _Don't_:\n",
    "```python\n",
    "if arg1 >= 10:\n",
    "    if arg2 < 0:\n",
    "        if arg3 == 2:\n",
    "            do_something()\n",
    "        else:\n",
    "            print(f\"Argument 3 must be 2 but is {arg3}\")\n",
    "    else:\n",
    "        print(f\"Argument 2 must be smaller then 0 but is {arg2}\")\n",
    "else:\n",
    "    print(f\"Argument 1 is not bigger then 10 but is {arg1}\")\n",
    "```\n",
    "As you see this can be very confusing to read and also the indentations get deep fast ;)\n",
    "\n",
    "##### _Do:_\n",
    "```python\n",
    "if not arg1 >= 10:\n",
    "    print(f\"Argument 1 is not bigger then 10 but is {arg1}\")\n",
    "elif not arg2 < 0:\n",
    "    print(f\"Argument 2 must be smaller then 0 but is {arg2}\")\n",
    "elif not arg3 == 2:\n",
    "    print(f\"Argument 3 must be 2 but is {arg3}\")\n",
    "else:\n",
    "    do_something()\n",
    "```"
   ]
  }
 ],
 "metadata": {
  "kernelspec": {
   "display_name": "Python 3.9.7 64-bit",
   "language": "python",
   "name": "python3"
  },
  "language_info": {
   "codemirror_mode": {
    "name": "ipython",
    "version": 3
   },
   "file_extension": ".py",
   "mimetype": "text/x-python",
   "name": "python",
   "nbconvert_exporter": "python",
   "pygments_lexer": "ipython3",
   "version": "3.9.7"
  },
  "orig_nbformat": 4,
  "vscode": {
   "interpreter": {
    "hash": "e65133fff93ab36b53ddb68612dd6a95a21053ff6cb8524adc7f46061287cbaa"
   }
  }
 },
 "nbformat": 4,
 "nbformat_minor": 2
}
