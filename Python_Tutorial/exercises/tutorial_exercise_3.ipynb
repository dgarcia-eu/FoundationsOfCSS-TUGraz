{
 "cells": [
  {
   "cell_type": "markdown",
   "metadata": {},
   "source": [
    "You will do a lot of exercises with the learned libraries in the bonus exercises so we don't have any here, but you can already start with exercise 1 where you will already use pandas and matplotlib.\n",
    "\n",
    "Instead today we learn to read some error messages:\n",
    "Try to understand the examples below and fix all errors that occure with the knowledge you gained in the last few days."
   ]
  },
  {
   "cell_type": "code",
   "execution_count": null,
   "metadata": {},
   "outputs": [],
   "source": [
    "some_random_numbers = [98, 98, 22, 49, 19, 38, 22, 28, 23, 70, 21, 97, 13, 56, 98, 2, 93, 41, 72, 56}\n",
    "    \n",
    "result = 0   \n",
    "for number in some_random_numbers\n",
    "    result += number\n",
    "    \n",
    "print(\"The sum of the random numbers is {result}')\n",
    "\n"
   ]
  },
  {
   "cell_type": "code",
   "execution_count": null,
   "metadata": {},
   "outputs": [],
   "source": [
    "students_and_points = {'Rolf': 24, 'Bob': 18, 'Anne' 42, 'Charlie': 37, 'Jen': 12, 'Jose': 24}\n",
    "for student, points in students_and_points:\n",
    "    print(student, student)"
   ]
  },
  {
   "cell_type": "code",
   "execution_count": null,
   "metadata": {},
   "outputs": [],
   "source": [
    "\n",
    "def is_palindrome(string)\n",
    "    string = \"\".join(string.lower().split()\n",
    "    return string = string[::-1]\n",
    "\n",
    "is_palindrome(\"Anna\")"
   ]
  },
  {
   "cell_type": "code",
   "execution_count": null,
   "metadata": {},
   "outputs": [],
   "source": [
    "employment_info = {\n",
    "\"Jhon\": {\n",
    "    \"employee_id\" 109231, \n",
    "    \"employment\": \"Carpenter\", \n",
    "    \"Yearly Net Income\": 49520},\n",
    "\"Anna\": {\n",
    "    \"employee_id\": 201201 \n",
    "    \"employment\": \"Graphic Designer\", \n",
    "    \"Yearly Net Income\": 5700}\n",
    "\"Bob': {\n",
    "    \"employee_id\": 302211, \n",
    "    \"employment\": \"Python Programmer\", \n",
    "    \"Yearly Net Income\": 2147483647,\n",
    "\n",
    "with open(\"employment_info.csv\"):\n",
    "    employment_info_file.write(\"Name,Employee-ID,Employment,Yearly-Net-Income\")\n",
    "    for name, info in employment_info:\n",
    "        some_file.write(f\"{name},{info[\"employee_id\"]},{info[\"employment\"]},{info[\"Yearly Net Income\"]}\")\n",
    "        "
   ]
  },
  {
   "cell_type": "code",
   "execution_count": null,
   "metadata": {},
   "outputs": [],
   "source": [
    "# Fix the example before first since you need the datafile from it ;)\n",
    "with open(\"C:/a/very/good/and/definitely/available/absolute/path/to/employment_info.csv\") as employment_info:\n",
    "    total_net_income = 0\n",
    "    for line in employment_info.readlines()[1:]: # skip header\n",
    "        total_net_income = line.strip().split(\",')[-1]\n",
    "    print(\"All employees together have a yearly net income of: {total_net_income}\")"
   ]
  }
 ],
 "metadata": {
  "kernelspec": {
   "display_name": "Python 3.10.4 64-bit",
   "language": "python",
   "name": "python3"
  },
  "language_info": {
   "name": "python",
   "version": "3.10.4"
  },
  "orig_nbformat": 4,
  "vscode": {
   "interpreter": {
    "hash": "46e2835a142a16ae115bce5fddf19f27ce13b17a4ab8ded638c88ab5ce5171d2"
   }
  }
 },
 "nbformat": 4,
 "nbformat_minor": 2
}
