{
 "cells": [
  {
   "cell_type": "markdown",
   "metadata": {},
   "source": [
    "# Strings & Numbers\n",
    "Here are a few ideas what you could try to practice the skills:\n",
    "\n",
    "- Print something (e.g. a greeting)! \n",
    "- Try to join a few strings using the operator `+`.\n",
    "- Use the string methods `.join`, `.split`, and `.find`.\n",
    "- Perform a calculation which uses all mathematical operators.\n",
    "- Change the order of operations by using parentheses.\n",
    "- Create 3 variables: a string, an integer, and a float. Print a message containing the variables' values using an f-string!"
   ]
  },
  {
   "cell_type": "code",
   "execution_count": null,
   "metadata": {},
   "outputs": [],
   "source": [
    "# your code goes here:"
   ]
  },
  {
   "cell_type": "markdown",
   "metadata": {},
   "source": [
    "# Data Structures & for-Loops"
   ]
  },
  {
   "cell_type": "markdown",
   "metadata": {},
   "source": [
    "## Lists\n",
    "Based on the two lists of programming languages below, create a new list containing only the yet unknown languages."
   ]
  },
  {
   "cell_type": "code",
   "execution_count": 1,
   "metadata": {},
   "outputs": [],
   "source": [
    "programming_languages = [\n",
    "    \"Python\", \n",
    "    \"C\", \n",
    "    \"Julia\", \n",
    "    \"Java\", \n",
    "    \"C#\", \n",
    "    \"Fortran\", \n",
    "    \"C++\", \n",
    "    \"JavaScript\",\n",
    "    \"Perl\",\n",
    "    \"Lisp\",\n",
    "]\n",
    "\n",
    "languages_i_know = [\"Python\", \"Julia\", \"C\"]\n",
    "\n",
    "# your code goes here:\n",
    "\n"
   ]
  },
  {
   "cell_type": "markdown",
   "metadata": {},
   "source": [
    "### Sets\n",
    "Solve the above example with sets instead of append!"
   ]
  },
  {
   "cell_type": "code",
   "execution_count": 2,
   "metadata": {},
   "outputs": [],
   "source": [
    "# your code goes here:"
   ]
  },
  {
   "cell_type": "markdown",
   "metadata": {
    "id": "Y2SZiOJLknDc"
   },
   "source": [
    "# Branching"
   ]
  },
  {
   "cell_type": "markdown",
   "metadata": {},
   "source": [
    "## BMI calculation\n",
    "\n",
    "Calculate the BMI using the following formula: \n",
    "\n",
    "$BMI = \\frac{weight}{height^2}$\n",
    "\n",
    "where _weight_ is given in kilograms (kg) and _height_ is given in meters (m).\n",
    "\n",
    "Create the variables `weight` and `height` and assign values of your choice.\n",
    "\n",
    "Print the BMI rounded to 2 decimal places and also its classification as below:\n",
    "\n",
    "* BMI < 18.5: underweight\n",
    "* 18.5 <= BMI < 25: normal weight\n",
    "* 25 <= BMI < 30: overweight\n",
    "* 30 <= BMI < 40: obesity\n",
    "* BMI >= 40: morbid obesity\n",
    "\n",
    "hint: use if/elif/else statements\n",
    "\n",
    "**Example:**\n",
    "\n",
    "```\n",
    "weight = 69\n",
    "height = 1.75\n",
    "```\n",
    "\n",
    "The result could look like this:\n",
    "```\n",
    "BMI: 22.53\n",
    "Classification: normal weight\n",
    "```"
   ]
  },
  {
   "cell_type": "code",
   "execution_count": null,
   "metadata": {},
   "outputs": [],
   "source": [
    "# your code goes here:\n"
   ]
  },
  {
   "cell_type": "markdown",
   "metadata": {},
   "source": [
    "<summary>\n",
    "<detaisl>"
   ]
  }
 ],
 "metadata": {
  "kernelspec": {
   "display_name": "Python 3.10.4 64-bit",
   "language": "python",
   "name": "python3"
  },
  "language_info": {
   "codemirror_mode": {
    "name": "ipython",
    "version": 3
   },
   "file_extension": ".py",
   "mimetype": "text/x-python",
   "name": "python",
   "nbconvert_exporter": "python",
   "pygments_lexer": "ipython3",
   "version": "3.10.4"
  },
  "orig_nbformat": 4,
  "vscode": {
   "interpreter": {
    "hash": "46e2835a142a16ae115bce5fddf19f27ce13b17a4ab8ded638c88ab5ce5171d2"
   }
  }
 },
 "nbformat": 4,
 "nbformat_minor": 2
}
