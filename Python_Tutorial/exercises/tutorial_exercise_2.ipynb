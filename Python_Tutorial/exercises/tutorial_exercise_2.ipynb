{
 "cells": [
  {
   "cell_type": "markdown",
   "metadata": {},
   "source": [
    "## Data structure conversion\n",
    "Create a dictionary which maps product names to prices, using the `price_table` given below."
   ]
  },
  {
   "cell_type": "code",
   "execution_count": null,
   "metadata": {},
   "outputs": [],
   "source": [
    "price_table = [(\"honey\", 2.45), (\"butter\", 1.30), (\"catfood\", 4.85), (\"tea\", 1.50)]\n",
    "\n",
    "# your code goes here:\n"
   ]
  },
  {
   "cell_type": "markdown",
   "metadata": {},
   "source": [
    "## Nested data structures\n",
    "The data below is given as a list of nested tuples, where each outer tuple is structured as follows:\n",
    "\n",
    "`(<name>, (<price>, <amount>))`\n",
    "\n",
    "Transform the data into a more explicit form, a dictionary where each key is a product name and each value is again a dictionary containing entries for `\"price\"` and `\"amount\"`. The result should look like this:\n",
    "```python\n",
    "{'honey': {'price': 2.45, 'amount': 10}, 'butter': {'price': 1.3, 'amount': 100}, 'catfood': {'price': 4.85, 'amount': 3}, 'tea': {'price': 1.5, 'amount': 123}}\n",
    "```"
   ]
  },
  {
   "cell_type": "code",
   "execution_count": null,
   "metadata": {},
   "outputs": [],
   "source": [
    "input_data = [\n",
    "    (\"honey\", (2.45, 10)), \n",
    "    (\"butter\", (1.30, 100)), \n",
    "    (\"catfood\", (4.85, 3)), \n",
    "    (\"tea\", (1.50, 123)),\n",
    "]\n",
    "\n",
    "# your code goes here:\n"
   ]
  },
  {
   "cell_type": "markdown",
   "metadata": {},
   "source": [
    "Finally, reduce the amount of butter by `20` and print the entire dictionary:"
   ]
  },
  {
   "cell_type": "code",
   "execution_count": null,
   "metadata": {},
   "outputs": [],
   "source": [
    "# your code goes here:\n"
   ]
  },
  {
   "cell_type": "markdown",
   "metadata": {},
   "source": [
    "## Find minimum\n",
    "\n",
    "Find the smallest number in the list below using a `for`-loop and an `if`-condition!"
   ]
  },
  {
   "cell_type": "code",
   "execution_count": null,
   "metadata": {},
   "outputs": [],
   "source": [
    "numbers = [27, 83, 20, 77, 1923, 4, 7, 19]\n",
    "\n",
    "# your code goes here:\n"
   ]
  },
  {
   "cell_type": "markdown",
   "metadata": {},
   "source": [
    "# Functions\n",
    "\n",
    "## Basic Function\n",
    "Write a function `my_contact_information` which takes **no** arguments and prints your contact information as follows:\n",
    "\n",
    "```\n",
    "First Name: <Your first name>\n",
    "Last Name: <Your last name>\n",
    "Email: <Your email>\n",
    "```"
   ]
  },
  {
   "cell_type": "code",
   "execution_count": null,
   "metadata": {},
   "outputs": [],
   "source": [
    "# your code goes here:\n"
   ]
  },
  {
   "cell_type": "markdown",
   "metadata": {},
   "source": [
    "## Functions and return\n",
    "Calculate the sum of a list. Write a function which takes a list or a tuple as input. Calculate the sum of the elements in the list/tuple and return the resulting sum.  \n",
    "*Do not use `sum()`*\n",
    "\n",
    "**Example:**  \n",
    "```\n",
    "[1,2,3] -> 6\n",
    "(6, 90, 10, 15, 114, 25, 18, 91, 51) -> 420\n",
    "[63, 100, 48, 79, 4, 85, 26, 84, 16, 73, 58, 78, 87, 198, 321, 17] -> 1337\n",
    "```"
   ]
  },
  {
   "cell_type": "code",
   "execution_count": null,
   "metadata": {},
   "outputs": [],
   "source": [
    "# Your code goes here.\n"
   ]
  },
  {
   "cell_type": "markdown",
   "metadata": {},
   "source": [
    "## Functions with keyword arguments\n",
    "Write a function which takes a list or a tuple of numbers and a keyword argumnet `power` which default value is 2. For each number you should calculate the number to the power (given by the keyword argument). Return the new list.\n",
    "\n",
    "**Example: with power=2**  \n",
    "```\n",
    "[1,2,3] -> [1, 4, 9]\n",
    "(6, 90, 10, 15, 114, 25, 18, 91, 51) -> [36, 8100, 100, 225, 12996, 625, 324, 8281, 2601]\n",
    "```\n",
    "**Example: with power=3**  \n",
    "```\n",
    "[63, 100, 48, 79] -> [250047, 1000000, 110592, 493039]\n",
    "```"
   ]
  },
  {
   "cell_type": "code",
   "execution_count": null,
   "metadata": {},
   "outputs": [],
   "source": [
    "# Your code goes here.\n"
   ]
  },
  {
   "cell_type": "markdown",
   "metadata": {
    "id": "Y2SZiOJLknDc"
   },
   "source": [
    "# File I/O\n",
    "\n",
    "## Cookbook\n",
    "You want to use a cookbook to calculate amounts for any desired number of servings. For this your have following information:\n",
    "* filename of the recipe (`string`), e.g. `\"bananabread.recipe\"`\n",
    "* name of the desired recipe (`string`), e.g. `\"Bananabread\"`\n",
    "* `servings` -> number of servings (`int`), e.g. 3 <br>  \n",
    "\n",
    "The `.recipe`-file contains the desired recipe. From there, read the instructions and ingredients, calculate the needed amounts given by the servings and save them in a new file.  \n",
    "Such a `.recipe` file could look like this:\n",
    "```\n",
    "Mix everything together and bake for 45min at 180°C.\n",
    "Wheat,180,g\n",
    "Sugar,100,g\n",
    "Cocoa,60,g\n",
    "Salt,1,pinch\n",
    "Baking Powder,1,tsp\n",
    "Chopped Chocolate,170,g\n",
    "Bananas,3,psc\n",
    "```\n",
    "The first line denotes always the instructoins and all following lines contains the ingredients. All ingreadients have the following structure:  \n",
    "`<Name of Ingredient>,<amount>,<unit>`.\n",
    "\n",
    "Now read all Ingredients and multiply the amount by the number of servings. Sace the final new recipe in a new `.txt` file with the same filename as the `.recipe` file (but with `.txt` as suffix).  \n",
    "The file should look like the following:\n",
    "```\n",
    "How to make 3 serving(s) of Bananabread:\n",
    "Wheat: 540g\n",
    "Sugar: 300g\n",
    "Cocoa: 180g\n",
    "Salt: 3pinch\n",
    "Baking Powder: 3tsp\n",
    "Chopped Chocolate: 510g\n",
    "Bananas: 9pcs\n",
    "Oil: 180ml\n",
    "Mix everything together and bake for 45min at 180°C.\n",
    "```"
   ]
  },
  {
   "cell_type": "code",
   "execution_count": null,
   "metadata": {},
   "outputs": [],
   "source": [
    "# Your code goes here:\n"
   ]
  }
 ],
 "metadata": {
  "kernelspec": {
   "display_name": "Python 3.10.4 64-bit",
   "language": "python",
   "name": "python3"
  },
  "language_info": {
   "name": "python",
   "version": "3.10.4"
  },
  "orig_nbformat": 4,
  "vscode": {
   "interpreter": {
    "hash": "46e2835a142a16ae115bce5fddf19f27ce13b17a4ab8ded638c88ab5ce5171d2"
   }
  }
 },
 "nbformat": 4,
 "nbformat_minor": 2
}
